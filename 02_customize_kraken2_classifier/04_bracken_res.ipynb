{
 "cells": [
  {
   "cell_type": "code",
   "execution_count": 1,
   "id": "fbb6dc5c",
   "metadata": {},
   "outputs": [],
   "source": [
    "import os\n",
    "import pandas as pd\n",
    "import numpy as np\n",
    "import glob\n",
    "import re\n",
    "from functools import reduce"
   ]
  },
  {
   "cell_type": "code",
   "execution_count": 2,
   "id": "2052f2b4",
   "metadata": {},
   "outputs": [],
   "source": [
    "os.chdir(\"/fs/scratch/PAS0439/Ming/virome_ecology_core_prkaryotes/results/01_kraken2_mapping/gtdb207_rumenmagsfull/bracken/\")"
   ]
  },
  {
   "cell_type": "code",
   "execution_count": 3,
   "id": "b8faedc6",
   "metadata": {},
   "outputs": [],
   "source": [
    "bracken_out = glob.glob(\"*_s.bracken\")"
   ]
  },
  {
   "cell_type": "code",
   "execution_count": 4,
   "id": "bcee3d61",
   "metadata": {},
   "outputs": [],
   "source": [
    "df_list = []\n",
    "taxaid_dic = {}\n",
    "for res in bracken_out:\n",
    "    sample = res.split('_s.bracken')[0]\n",
    "    df_tmp = pd.read_csv(res, sep='\\t')[[\"name\", \"taxonomy_id\", \"fraction_total_reads\"]].query('fraction_total_reads > 0.00001')\n",
    "    df = df_tmp.drop(\"taxonomy_id\", axis = 1)\n",
    "    df.rename(columns={'name':'species', 'fraction_total_reads':sample}, inplace = True)\n",
    "    df_list.append(df)\n",
    "    \n",
    "    ## get taxaid, taxaid larger than 4294860312 is MAG (from the rumen sample) without official name in GTDB R207\n",
    "    for index, row in df_tmp.iterrows():\n",
    "        taxaid_dic_tmp = {}\n",
    "        taxa = row[\"name\"]\n",
    "        taxaid = row[\"taxonomy_id\"]\n",
    "        taxaid_dic[taxa] = taxaid\n",
    "        \n",
    "    taxaid_dic.update(taxaid_dic_tmp)\n",
    "\n",
    "species_profile = reduce(lambda  left,right: pd.merge(left,right,on='species',\n",
    "                                            how='outer'), df_list).fillna(0)"
   ]
  },
  {
   "cell_type": "code",
   "execution_count": 5,
   "id": "573ddcdd",
   "metadata": {},
   "outputs": [],
   "source": [
    "# add taxaid to the df\n",
    "taxaid_df = pd.DataFrame.from_dict(taxaid_dic, orient = \"index\")\n",
    "taxaid_df.rename(columns={0:\"taxaid\"}, inplace = True)\n",
    "species_profile = pd.merge(species_profile, taxaid_df, left_on = \"species\", right_index = True)\n",
    "# reorder columns\n",
    "columns_tmp = [f for f in species_profile.columns.to_list() if f not in [\"taxaid\", \"species\"]]\n",
    "species_profile = species_profile[['species', 'taxaid'] + columns_tmp]"
   ]
  },
  {
   "cell_type": "code",
   "execution_count": 6,
   "id": "b6bfa383",
   "metadata": {},
   "outputs": [],
   "source": [
    "species_profile.set_index('species', inplace = True)"
   ]
  },
  {
   "cell_type": "code",
   "execution_count": 7,
   "id": "b55c2ab7",
   "metadata": {},
   "outputs": [],
   "source": [
    "# GTDB R207 taxonomy\n",
    "bac_gtdb = pd.read_csv(\"/fs/scratch/PAS0439/Ming/databases/gtdb_R207_repre_genomes/bac120_taxonomy_r207.tsv\", sep= \"\\t\", header = None, names=[\"tmp\",\"taxa\"])[[\"taxa\"]]\n",
    "bac_gtdb = bac_gtdb.taxa.str.split(';', expand = True)\n",
    "bac_gtdb.rename(columns = {0:\"Domain\", 1:\"Phylum\", 2:\"Class\", 3:\"Order\", 4:\"Family\", 5:\"Genera\", 6:\"Species\"}, inplace = True)\n",
    "\n",
    "arc_gtdb = pd.read_csv(\"/fs/scratch/PAS0439/Ming/databases/gtdb_R207_repre_genomes/ar53_taxonomy_r207.tsv\", sep= \"\\t\", header = None, names=[\"tmp\",\"taxa\"])[[\"taxa\"]]\n",
    "arc_gtdb = arc_gtdb.taxa.str.split(';', expand = True)\n",
    "arc_gtdb.rename(columns = {0:\"Domain\", 1:\"Phylum\", 2:\"Class\", 3:\"Order\", 4:\"Family\", 5:\"Genera\", 6:\"Species\"}, inplace = True)\n",
    "\n",
    "taxa_gtdb = pd.concat([bac_gtdb, arc_gtdb])\n",
    "## remove suffix before taxa name eg: d__Bacteria -> Bacteria\n",
    "def rename(x):\n",
    "    new = re.match(r'[a-z]__(.*)', x).group(1)\n",
    "    return new\n",
    "\n",
    "taxa_gtdb = taxa_gtdb.applymap(rename)"
   ]
  },
  {
   "cell_type": "code",
   "execution_count": 8,
   "id": "a10b492f",
   "metadata": {},
   "outputs": [],
   "source": [
    "# Rumen mags taxonomy, some MAGS remain unclassified in GTDB R207\n",
    "rumen_mags = pd.read_csv(\"/fs/scratch/PAS0439/Ming/databases/rumen_mags_high_quality/mags_taxa.tsv\", sep=\"\\t\")[[\"user_genome\", \"Domain\", \"Phylum\", \"Class\", \"Order\", \"Family\", \"Genera\", \"Species\"]]\n",
    "rumen_mags[[f for f in rumen_mags.columns.tolist() if f != \"user_genome\"]] = rumen_mags[[f for f in rumen_mags.columns.tolist() if f != \"user_genome\"]].applymap(rename)\n",
    "rumen_mags = rumen_mags.replace('', \"Unclassified\")"
   ]
  },
  {
   "cell_type": "code",
   "execution_count": 9,
   "id": "5efaada2",
   "metadata": {},
   "outputs": [],
   "source": [
    "for index, row in species_profile.iterrows():\n",
    "    taxaid = row['taxaid']\n",
    "    if taxaid > 4294860312:\n",
    "        species_profile.loc[index, \"Domain\"] = list(rumen_mags.query('user_genome == @index')['Domain'])[0]\n",
    "        species_profile.loc[index, \"Phylum\"] = list(rumen_mags.query('user_genome == @index')['Phylum'])[0]\n",
    "        species_profile.loc[index, \"Class\"] = list(rumen_mags.query('user_genome == @index')['Class'])[0]\n",
    "        species_profile.loc[index, \"Order\"] = list(rumen_mags.query('user_genome == @index')['Order'])[0]\n",
    "        species_profile.loc[index, \"Family\"] = list(rumen_mags.query('user_genome == @index')['Family'])[0]\n",
    "        species_profile.loc[index, \"Genera\"] = list(rumen_mags.query('user_genome == @index')['Genera'])[0]\n",
    "    else:\n",
    "        species_profile.loc[index, \"Domain\"] = list(set(taxa_gtdb.query('Species == @index')['Domain']))[0]\n",
    "        species_profile.loc[index, \"Phylum\"] = list(set(taxa_gtdb.query('Species == @index')['Phylum']))[0]\n",
    "        species_profile.loc[index, \"Class\"] = list(set(taxa_gtdb.query('Species == @index')['Class']))[0]\n",
    "        species_profile.loc[index, \"Order\"] = list(set(taxa_gtdb.query('Species == @index')['Order']))[0]\n",
    "        species_profile.loc[index, \"Family\"] = list(set(taxa_gtdb.query('Species == @index')['Family']))[0]\n",
    "        species_profile.loc[index, \"Genera\"] = list(set(taxa_gtdb.query('Species == @index')['Genera']))[0]\n",
    "        \n",
    "        "
   ]
  },
  {
   "cell_type": "code",
   "execution_count": 10,
   "id": "86772252",
   "metadata": {},
   "outputs": [],
   "source": [
    "species_profile.to_csv('/fs/scratch/PAS0439/Ming/virome_ecology_core_prkaryotes/results/R_project/microbial_species_profile.tsv', sep = \"\\t\")"
   ]
  },
  {
   "cell_type": "code",
   "execution_count": 11,
   "id": "918ef4b9",
   "metadata": {},
   "outputs": [],
   "source": [
    "## same for genus level"
   ]
  },
  {
   "cell_type": "code",
   "execution_count": 12,
   "id": "d161cfeb",
   "metadata": {},
   "outputs": [],
   "source": [
    "bracken_out_genus = glob.glob(\"*_g.bracken\")\n",
    "\n",
    "df_list = []\n",
    "taxaid_dic = {}\n",
    "for res in bracken_out_genus:\n",
    "    sample = res.split('_g.bracken')[0]\n",
    "    df_tmp = pd.read_csv(res, sep='\\t')[[\"name\", \"taxonomy_id\", \"fraction_total_reads\"]].query('fraction_total_reads > 0.00001')\n",
    "    df = df_tmp.drop(\"taxonomy_id\", axis = 1)\n",
    "    df.rename(columns={'name':'genus', 'fraction_total_reads':sample}, inplace = True)\n",
    "    df_list.append(df)\n",
    "    \n",
    "    ## get taxaid, taxaid larger than 4294860313 is MAG (from the rumen sample) without official name in GTDB R207\n",
    "    for index, row in df_tmp.iterrows():\n",
    "        taxaid_dic_tmp = {}\n",
    "        taxa = row[\"name\"]\n",
    "        taxaid = row[\"taxonomy_id\"]\n",
    "        taxaid_dic[taxa] = taxaid\n",
    "        \n",
    "    taxaid_dic.update(taxaid_dic_tmp)\n",
    "\n",
    "genus_profile = reduce(lambda  left,right: pd.merge(left,right,on='genus', how='outer'), df_list).fillna(0)\n",
    "\n",
    "\n",
    "# add taxaid to the df\n",
    "taxaid_df = pd.DataFrame.from_dict(taxaid_dic, orient = \"index\")\n",
    "taxaid_df.rename(columns={0:\"taxaid\"}, inplace = True)\n",
    "genus_profile = pd.merge(genus_profile, taxaid_df, left_on = \"genus\", right_index = True)\n",
    "# reorder columns\n",
    "columns_tmp = [f for f in genus_profile.columns.to_list() if f not in [\"taxaid\", \"genus\"]]\n",
    "genus_profile = genus_profile[['genus', 'taxaid'] + columns_tmp]\n",
    "genus_profile.set_index('genus', inplace = True)\n"
   ]
  },
  {
   "cell_type": "code",
   "execution_count": 13,
   "id": "1721511b",
   "metadata": {},
   "outputs": [],
   "source": [
    "# add higher taxanomic rank \n",
    "for index, row in genus_profile.iterrows():\n",
    "    taxaid = row['taxaid']\n",
    "    if taxaid > 4294860312:\n",
    "        genus_profile.loc[index, \"Domain\"] = list(rumen_mags.query('user_genome == @index')['Domain'])[0]\n",
    "        genus_profile.loc[index, \"Phylum\"] = list(rumen_mags.query('user_genome == @index')['Phylum'])[0]\n",
    "        genus_profile.loc[index, \"Class\"] = list(rumen_mags.query('user_genome == @index')['Class'])[0]\n",
    "        genus_profile.loc[index, \"Order\"] = list(rumen_mags.query('user_genome == @index')['Order'])[0]\n",
    "        genus_profile.loc[index, \"Family\"] = list(rumen_mags.query('user_genome == @index')['Family'])[0]\n",
    "    else:\n",
    "        genus_profile.loc[index, \"Domain\"] = list(set(taxa_gtdb.query('Genera == @index')['Domain']))[0]\n",
    "        genus_profile.loc[index, \"Phylum\"] = list(set(taxa_gtdb.query('Genera == @index')['Phylum']))[0]\n",
    "        genus_profile.loc[index, \"Class\"] = list(set(taxa_gtdb.query('Genera == @index')['Class']))[0]\n",
    "        genus_profile.loc[index, \"Order\"] = list(set(taxa_gtdb.query('Genera == @index')['Order']))[0]\n",
    "        genus_profile.loc[index, \"Family\"] = list(set(taxa_gtdb.query('Genera == @index')['Family']))[0]\n",
    "\n",
    "\n",
    "\n",
    "\n"
   ]
  },
  {
   "cell_type": "code",
   "execution_count": 14,
   "id": "419e852c",
   "metadata": {},
   "outputs": [],
   "source": [
    "genus_profile.to_csv('/fs/scratch/PAS0439/Ming/virome_ecology_core_prkaryotes/results/R_project/microbial_genus_profile.tsv', sep = \"\\t\")"
   ]
  },
  {
   "cell_type": "code",
   "execution_count": null,
   "id": "56c7f7f1",
   "metadata": {},
   "outputs": [],
   "source": []
  }
 ],
 "metadata": {
  "kernelspec": {
   "display_name": "MYENV [/fs/ess/PAS0439/MING/conda/MYENV]",
   "language": "python",
   "name": "conda_myenv"
  },
  "language_info": {
   "codemirror_mode": {
    "name": "ipython",
    "version": 3
   },
   "file_extension": ".py",
   "mimetype": "text/x-python",
   "name": "python",
   "nbconvert_exporter": "python",
   "pygments_lexer": "ipython3",
   "version": "3.10.4"
  }
 },
 "nbformat": 4,
 "nbformat_minor": 5
}

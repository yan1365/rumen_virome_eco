{
 "cells": [
  {
   "cell_type": "code",
   "execution_count": 2,
   "id": "fa69d6d2",
   "metadata": {},
   "outputs": [],
   "source": [
    "import pandas as pd\n",
    "import os\n",
    "import glob\n",
    "import re\n",
    "import functools as ft\n",
    "import matplotlib.pyplot as plt\n",
    "import seaborn as sns"
   ]
  },
  {
   "cell_type": "code",
   "execution_count": 3,
   "id": "87fffa4f",
   "metadata": {},
   "outputs": [],
   "source": [
    "os.chdir(\"/fs/scratch/PAS0439/Ming/virome_ecology_core_prkaryotes/scripts/02_kraken2_mapping/slurm_out/\")"
   ]
  },
  {
   "cell_type": "code",
   "execution_count": 4,
   "id": "2bc75ae3",
   "metadata": {},
   "outputs": [],
   "source": [
    "rumenmags3588 = glob.glob(\"k2_benchmark_gtdb207_rumenmags3588*\")"
   ]
  },
  {
   "cell_type": "code",
   "execution_count": 5,
   "id": "58db3493",
   "metadata": {},
   "outputs": [],
   "source": [
    "rumenmags7166 = glob.glob(\"k2_benchmark_gtdb207_rumenmagsfull*\")"
   ]
  },
  {
   "cell_type": "code",
   "execution_count": 6,
   "id": "66d382c8",
   "metadata": {},
   "outputs": [],
   "source": [
    "standard = glob.glob(\"k2_benchmark_standard*\")"
   ]
  },
  {
   "cell_type": "code",
   "execution_count": 7,
   "id": "a1e4fa70",
   "metadata": {},
   "outputs": [],
   "source": [
    "gtdb = glob.glob(\"k2_benchmark_gtdb207_[0-9]*.out\")"
   ]
  },
  {
   "cell_type": "code",
   "execution_count": 8,
   "id": "ce112200",
   "metadata": {},
   "outputs": [],
   "source": [
    "dataset_list = [rumenmags3588, rumenmags7166, standard, gtdb]\n",
    "def output_classification_rate(dataset):\n",
    "    sample_list = []\n",
    "    classification_list = []\n",
    "    for f in dataset:\n",
    "        with open(f, 'r') as file:\n",
    "            lines = file.readlines()\n",
    "            for line in lines:\n",
    "                sample_match = re.match(\"(.*)_1.fastq_clean.gz\", line)\n",
    "                classification_rate_match = re.match(\".* sequences classified \\(([0-9.]*)%\\)\", line)\n",
    "                if sample_match:\n",
    "                    sample = sample_match.group(1)\n",
    "                    sample_list.append(sample)\n",
    "                elif classification_rate_match:\n",
    "                    classification_rate = classification_rate_match.group(1)\n",
    "                    classification_list.append(float(classification_rate))\n",
    "                else:\n",
    "                    continue\n",
    "    mydir = {}\n",
    "    for f in range(len(sample_list)):\n",
    "        mydir[sample_list[f]] = classification_list[f]\n",
    "    return mydir\n",
    "    \n",
    "rumenmags3588_dir = output_classification_rate(rumenmags3588)\n",
    "rumenmags7166_dir = output_classification_rate(rumenmags7166)\n",
    "standard_dir = output_classification_rate(standard)\n",
    "gtdb_dir = output_classification_rate(gtdb)\n",
    "    \n",
    "rumenmags3588_df = pd.DataFrame.from_dict(rumenmags3588_dir, orient='index')\n",
    "rumenmags3588_df.rename(columns={0:\"gtdb+3588\"}, inplace = True)\n",
    "rumenmags7166_df = pd.DataFrame.from_dict(rumenmags7166_dir, orient='index')\n",
    "rumenmags7166_df.rename(columns={0:\"gtdb+7166\"}, inplace = True)\n",
    "standard_df = pd.DataFrame.from_dict(standard_dir, orient='index')\n",
    "standard_df.rename(columns={0:\"standard\"}, inplace = True)\n",
    "gtdb_df = pd.DataFrame.from_dict(gtdb_dir, orient='index')\n",
    "gtdb_df.rename(columns={0:\"gtdb\"}, inplace = True)\n",
    "   \n",
    "    \n",
    "df_list = [standard_df, gtdb_df, rumenmags3588_df, rumenmags7166_df]"
   ]
  },
  {
   "cell_type": "code",
   "execution_count": 9,
   "id": "ba4bdcf4",
   "metadata": {},
   "outputs": [],
   "source": [
    "mapping_res = ft.reduce(lambda left, right: pd.merge(left, right, left_index= True, right_index = True), df_list).reset_index()"
   ]
  },
  {
   "cell_type": "code",
   "execution_count": 10,
   "id": "217ad17d",
   "metadata": {},
   "outputs": [],
   "source": [
    "mapping_res_plot = pd.melt(mapping_res, id_vars='index', value_vars=['standard', 'gtdb', 'gtdb+3588', 'gtdb+7166'])"
   ]
  },
  {
   "cell_type": "code",
   "execution_count": 11,
   "id": "e8178812",
   "metadata": {},
   "outputs": [
    {
     "data": {
      "text/html": [
       "<div>\n",
       "<style scoped>\n",
       "    .dataframe tbody tr th:only-of-type {\n",
       "        vertical-align: middle;\n",
       "    }\n",
       "\n",
       "    .dataframe tbody tr th {\n",
       "        vertical-align: top;\n",
       "    }\n",
       "\n",
       "    .dataframe thead th {\n",
       "        text-align: right;\n",
       "    }\n",
       "</style>\n",
       "<table border=\"1\" class=\"dataframe\">\n",
       "  <thead>\n",
       "    <tr style=\"text-align: right;\">\n",
       "      <th></th>\n",
       "      <th>index</th>\n",
       "      <th>variable</th>\n",
       "      <th>value</th>\n",
       "    </tr>\n",
       "  </thead>\n",
       "  <tbody>\n",
       "    <tr>\n",
       "      <th>0</th>\n",
       "      <td>SRR8704694</td>\n",
       "      <td>standard</td>\n",
       "      <td>15.53</td>\n",
       "    </tr>\n",
       "    <tr>\n",
       "      <th>1</th>\n",
       "      <td>SRR10765506</td>\n",
       "      <td>standard</td>\n",
       "      <td>15.58</td>\n",
       "    </tr>\n",
       "    <tr>\n",
       "      <th>2</th>\n",
       "      <td>SRR10765526</td>\n",
       "      <td>standard</td>\n",
       "      <td>18.82</td>\n",
       "    </tr>\n",
       "    <tr>\n",
       "      <th>3</th>\n",
       "      <td>SRR10765504</td>\n",
       "      <td>standard</td>\n",
       "      <td>20.12</td>\n",
       "    </tr>\n",
       "    <tr>\n",
       "      <th>4</th>\n",
       "      <td>SRR10765519</td>\n",
       "      <td>standard</td>\n",
       "      <td>17.04</td>\n",
       "    </tr>\n",
       "    <tr>\n",
       "      <th>...</th>\n",
       "      <td>...</td>\n",
       "      <td>...</td>\n",
       "      <td>...</td>\n",
       "    </tr>\n",
       "    <tr>\n",
       "      <th>191</th>\n",
       "      <td>SRR8703775</td>\n",
       "      <td>gtdb+7166</td>\n",
       "      <td>76.58</td>\n",
       "    </tr>\n",
       "    <tr>\n",
       "      <th>192</th>\n",
       "      <td>SRR8698064</td>\n",
       "      <td>gtdb+7166</td>\n",
       "      <td>76.72</td>\n",
       "    </tr>\n",
       "    <tr>\n",
       "      <th>193</th>\n",
       "      <td>SRR10765532</td>\n",
       "      <td>gtdb+7166</td>\n",
       "      <td>79.33</td>\n",
       "    </tr>\n",
       "    <tr>\n",
       "      <th>194</th>\n",
       "      <td>SRR10765529</td>\n",
       "      <td>gtdb+7166</td>\n",
       "      <td>74.95</td>\n",
       "    </tr>\n",
       "    <tr>\n",
       "      <th>195</th>\n",
       "      <td>SRR8698426</td>\n",
       "      <td>gtdb+7166</td>\n",
       "      <td>80.49</td>\n",
       "    </tr>\n",
       "  </tbody>\n",
       "</table>\n",
       "<p>196 rows × 3 columns</p>\n",
       "</div>"
      ],
      "text/plain": [
       "           index   variable  value\n",
       "0     SRR8704694   standard  15.53\n",
       "1    SRR10765506   standard  15.58\n",
       "2    SRR10765526   standard  18.82\n",
       "3    SRR10765504   standard  20.12\n",
       "4    SRR10765519   standard  17.04\n",
       "..           ...        ...    ...\n",
       "191   SRR8703775  gtdb+7166  76.58\n",
       "192   SRR8698064  gtdb+7166  76.72\n",
       "193  SRR10765532  gtdb+7166  79.33\n",
       "194  SRR10765529  gtdb+7166  74.95\n",
       "195   SRR8698426  gtdb+7166  80.49\n",
       "\n",
       "[196 rows x 3 columns]"
      ]
     },
     "execution_count": 11,
     "metadata": {},
     "output_type": "execute_result"
    }
   ],
   "source": [
    "mapping_res_plot"
   ]
  },
  {
   "cell_type": "code",
   "execution_count": 12,
   "id": "e5bdf0a2",
   "metadata": {},
   "outputs": [
    {
     "data": {
      "text/plain": [
       "[Text(0.5, 0, 'classifier'), Text(0, 0.5, 'classification rate (%)')]"
      ]
     },
     "execution_count": 12,
     "metadata": {},
     "output_type": "execute_result"
    },
    {
     "data": {
      "image/png": "[encoded data removed]",
      "text/plain": [
       "<Figure size 432x288 with 1 Axes>"
      ]
     },
     "metadata": {
      "needs_background": "light"
     },
     "output_type": "display_data"
    }
   ],
   "source": [
    "ax = sns.boxplot(x = 'variable', y='value', data= mapping_res_plot, fliersize = 0)\n",
    "ax = sns.stripplot(x = 'variable', y='value', data= mapping_res_plot, color=\"black\", jitter=0.2, size=2.5)\n",
    "ax.set(xlabel='classifier', ylabel='classification rate (%)')\n"
   ]
  },
  {
   "cell_type": "code",
   "execution_count": null,
   "id": "fd15722c",
   "metadata": {},
   "outputs": [],
   "source": []
  }
 ],
 "metadata": {
  "kernelspec": {
   "display_name": "MYENV [/fs/ess/PAS0439/MING/conda/MYENV]",
   "language": "python",
   "name": "conda_myenv"
  },
  "language_info": {
   "codemirror_mode": {
    "name": "ipython",
    "version": 3
   },
   "file_extension": ".py",
   "mimetype": "text/x-python",
   "name": "python",
   "nbconvert_exporter": "python",
   "pygments_lexer": "ipython3",
   "version": "3.10.4"
  }
 },
 "nbformat": 4,
 "nbformat_minor": 5
}

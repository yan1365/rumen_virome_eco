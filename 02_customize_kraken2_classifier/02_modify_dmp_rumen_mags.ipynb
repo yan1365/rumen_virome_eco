{
 "cells": [
  {
   "cell_type": "code",
   "execution_count": 22,
   "id": "9f97ff6e",
   "metadata": {},
   "outputs": [],
   "source": [
    "import os\n",
    "import pandas as pd\n",
    "import numpy as np\n",
    "import glob\n",
    "import re"
   ]
  },
  {
   "cell_type": "code",
   "execution_count": 23,
   "id": "e9e06ea8",
   "metadata": {},
   "outputs": [],
   "source": [
    "os.chdir('/fs/scratch/PAS0439/Ming/databases/gtdb_R207_repre_genomes/taxdump')"
   ]
  },
  {
   "cell_type": "code",
   "execution_count": 24,
   "id": "ce59411e",
   "metadata": {},
   "outputs": [],
   "source": [
    "names = pd.read_csv('names.dmp', sep='\\t', header=None, names = ['col' + str(f) for f in range(8)])"
   ]
  },
  {
   "cell_type": "code",
   "execution_count": 25,
   "id": "5540a9a8",
   "metadata": {},
   "outputs": [],
   "source": [
    "names.rename(columns = {'col0': 'taxid', 'col2':'name'}, inplace = True)"
   ]
  },
  {
   "cell_type": "code",
   "execution_count": 26,
   "id": "fd7e030d",
   "metadata": {},
   "outputs": [],
   "source": [
    "nodes = pd.read_csv('nodes.dmp', sep='\\t', header=None, names = ['col' + str(f) for f in range(26)])"
   ]
  },
  {
   "cell_type": "code",
   "execution_count": 27,
   "id": "97dc9b9c",
   "metadata": {},
   "outputs": [],
   "source": [
    "nodes.rename(columns = {'col0':'taxid', 'col2':'parent_id', 'col4':'rank'}, inplace = True)"
   ]
  },
  {
   "cell_type": "code",
   "execution_count": 28,
   "id": "7dcbfea8",
   "metadata": {},
   "outputs": [],
   "source": [
    "taxa = pd.read_csv('taxa_taxid_mapping.txt', sep='\\t', header = None, names = ['taxid', 'taxa', 'rank'])"
   ]
  },
  {
   "cell_type": "code",
   "execution_count": 29,
   "id": "465cf036",
   "metadata": {},
   "outputs": [],
   "source": [
    "rumen_mags = pd.read_csv('/fs/scratch/PAS0439/Ming/databases/rumen_mags_high_quality/mags_taxa.tsv', sep='\\t')"
   ]
  },
  {
   "cell_type": "code",
   "execution_count": 30,
   "id": "39b25f68",
   "metadata": {},
   "outputs": [],
   "source": [
    "def rename_unclassfied(x):\n",
    "    renamed = re.search(r'[a-z]__(.*)', str(x))\n",
    "    if renamed == None:\n",
    "        return 'Unclassified'\n",
    "    elif renamed.group(1) == '':\n",
    "        return \"Unclassified\"\n",
    "    else:\n",
    "        return renamed.group(1)"
   ]
  },
  {
   "cell_type": "code",
   "execution_count": 31,
   "id": "11cf59e3",
   "metadata": {},
   "outputs": [],
   "source": [
    "rumen_mags[['Domain', 'Phylum', 'Class', 'Order', 'Family', 'Genera', 'Specie']] = rumen_mags[['Domain', 'Phylum', 'Class', 'Order', 'Family', 'Genera', 'Specie']].applymap(rename_unclassfied)"
   ]
  },
  {
   "cell_type": "code",
   "execution_count": 32,
   "id": "b0242e20",
   "metadata": {},
   "outputs": [],
   "source": [
    "def rename_taxa(x):\n",
    "    taxa = x.split(';')[-1]\n",
    "    return taxa\n",
    "    "
   ]
  },
  {
   "cell_type": "code",
   "execution_count": 33,
   "id": "00f6bab2",
   "metadata": {},
   "outputs": [],
   "source": [
    "taxa.taxa = taxa.taxa.apply(rename_taxa)"
   ]
  },
  {
   "cell_type": "code",
   "execution_count": 34,
   "id": "878caf22",
   "metadata": {},
   "outputs": [],
   "source": [
    "Unclassified_class = [f for f in set(rumen_mags['Class']) - set(taxa.query('rank == \"class\"')['taxa']) if f != \"Unclassified\"]\n",
    "Unclassified_order = [f for f in set(rumen_mags['Order']) - set(taxa.query('rank == \"order\"')['taxa']) if f != \"Unclassified\"]\n",
    "Unclassified_family = [f for f in set(rumen_mags['Family']) - set(taxa.query('rank == \"family\"')['taxa']) if f != \"Unclassified\"]\n",
    "Unclassified_genera = [f for f in set(rumen_mags['Genera']) - set(taxa.query('rank == \"genus\"')['taxa']) if f != \"Unclassified\"]\n",
    "Unclassified_specie = [f for f in set(rumen_mags['Specie']) - set(taxa.query('rank == \"species\"')['taxa']) if f != \"Unclassified\"]"
   ]
  },
  {
   "cell_type": "code",
   "execution_count": 35,
   "id": "2f6a9a1e",
   "metadata": {},
   "outputs": [],
   "source": [
    "## rumen mags include MAGs which do not have representative taxa in the representative GTDB R207 representative genomes\n",
    "#rumen_mags.loc[list(rumen_mags[rumen_mags['Class'].isin(Unclassified_class)].index), 'Class'] = \"Unclassified\"\n",
    "#rumen_mags.loc[list(rumen_mags[rumen_mags['Order'].isin(Unclassified_order)].index), 'Order'] = \"Unclassified\"\n",
    "#rumen_mags.loc[list(rumen_mags[rumen_mags['Family'].isin(Unclassified_family)].index), 'Family'] = \"Unclassified\"\n",
    "#rumen_mags.loc[list(rumen_mags[rumen_mags['Genera'].isin(Unclassified_genera)].index), 'Genera'] = \"Unclassified\"\n",
    "#rumen_mags.loc[list(rumen_mags[rumen_mags['Specie'].isin(Unclassified_specie)].index), 'Specie'] = \"Unclassified\"\n"
   ]
  },
  {
   "cell_type": "code",
   "execution_count": 36,
   "id": "6b1459a7",
   "metadata": {},
   "outputs": [],
   "source": [
    "unclassified_class_index = rumen_mags[rumen_mags.Class.isin(Unclassified_class)].index.to_list()\n",
    "unclassified_order_index = rumen_mags[rumen_mags.Order.isin(Unclassified_order)].index.to_list()\n",
    "unclassified_family_index = rumen_mags[rumen_mags.Family.isin(Unclassified_family)].index.to_list()\n",
    "unclassified_genera_index = rumen_mags[rumen_mags.Genera.isin(Unclassified_genera)].index.to_list()\n",
    "unclassified_specie_index = rumen_mags[rumen_mags.Specie.isin(Unclassified_specie)].index.to_list()\n",
    "unclassified_index = unclassified_class_index + unclassified_order_index + unclassified_family_index + unclassified_genera_index + unclassified_specie_index"
   ]
  },
  {
   "cell_type": "code",
   "execution_count": 37,
   "id": "e51f7354",
   "metadata": {},
   "outputs": [],
   "source": [
    "unclassified_index = list(set(unclassified_index))\n",
    "rumen_mags_under_represented = rumen_mags.loc[unclassified_index,]"
   ]
  },
  {
   "cell_type": "code",
   "execution_count": 38,
   "id": "72e0f727",
   "metadata": {},
   "outputs": [
    {
     "name": "stdout",
     "output_type": "stream",
     "text": [
      "The number of new taxid to assign is 2175\n"
     ]
    }
   ],
   "source": [
    "new_taxa = len(rumen_mags.query('Specie == \"Unclassified\"'))\n",
    "print(f'The number of new taxid to assign is {new_taxa}')"
   ]
  },
  {
   "cell_type": "code",
   "execution_count": 39,
   "id": "04232f7a",
   "metadata": {},
   "outputs": [
    {
     "name": "stdout",
     "output_type": "stream",
     "text": [
      "The largest existing taxid is 4294860253\n",
      "New taxid increment by 1 from 4294860253\n"
     ]
    }
   ],
   "source": [
    "max_taxid = max(list(taxa['taxid']))\n",
    "print(f'The largest existing taxid is {max_taxid}')\n",
    "print(f'New taxid increment by 1 from {max_taxid}')"
   ]
  },
  {
   "cell_type": "code",
   "execution_count": 40,
   "id": "959749de",
   "metadata": {},
   "outputs": [
    {
     "name": "stdout",
     "output_type": "stream",
     "text": [
      "the next taxid is 4294860313\n"
     ]
    }
   ],
   "source": [
    "# rumen mags include MAGs which do not have representative taxa in the representative GTDB R207 representative genomes\n",
    "# add them to the taxa list\n",
    "def add_taxid():\n",
    "    new_taxid = int(4294860254) \n",
    "    index = int(84273)\n",
    "    \n",
    "   \n",
    "        \n",
    "    for Class in Unclassified_class:\n",
    "        taxid = new_taxid\n",
    "        assigned_taxa = Class\n",
    "        rank = \"class\"\n",
    "        taxa.loc[index, \"taxid\"] = int(4294860254)\n",
    "        taxa.loc[index, \"taxa\"] = assigned_taxa\n",
    "        taxa.loc[index, \"rank\"] = rank\n",
    "        new_taxid += 1\n",
    "        index += 1\n",
    "        \n",
    "    for Order in Unclassified_order:\n",
    "        taxid = new_taxid\n",
    "        assigned_taxa = Order\n",
    "        rank = \"order\"\n",
    "        taxa.loc[index, \"taxid\"] = int(new_taxid)\n",
    "        taxa.loc[index, \"taxa\"] = assigned_taxa\n",
    "        taxa.loc[index, \"rank\"] = rank\n",
    "        new_taxid += 1\n",
    "        index += 1\n",
    "    \n",
    "    for Family in Unclassified_family:\n",
    "        taxid = new_taxid\n",
    "        assigned_taxa = Family\n",
    "        rank = \"family\"\n",
    "        taxa.loc[index, \"taxid\"] = int(new_taxid)\n",
    "        taxa.loc[index, \"taxa\"] = assigned_taxa\n",
    "        taxa.loc[index, \"rank\"] = rank\n",
    "        new_taxid += 1\n",
    "        index += 1\n",
    "        \n",
    "    for Genera in Unclassified_genera:\n",
    "        taxid = new_taxid\n",
    "        assigned_taxa = Genera\n",
    "        rank = \"genus\"\n",
    "        taxa.loc[index, \"taxid\"] = int(new_taxid)\n",
    "        taxa.loc[index, \"taxa\"] = assigned_taxa\n",
    "        taxa.loc[index, \"rank\"] = rank\n",
    "        new_taxid += 1\n",
    "        index += 1\n",
    "        \n",
    "    for Specie in Unclassified_specie:\n",
    "        taxid = new_taxid\n",
    "        assigned_taxa = Specie\n",
    "        rank = \"geus\"\n",
    "        taxa.loc[index, \"taxid\"] = int(new_taxid)\n",
    "        taxa.loc[index, \"taxa\"] = assigned_taxa\n",
    "        taxa.loc[index, \"rank\"] = rank\n",
    "        new_taxid += 1\n",
    "        index += 1\n",
    "        \n",
    "    print(\"the next taxid is \" + str(new_taxid))\n",
    "    taxa.taxid = [int(f) for f in taxa.taxid]           \n",
    "    #taxa.to_csv(\"/fs/scratch/PAS0439/Ming/databases/rumen_mags_high_quality/taxadump/taxa_supplement.txt\", sep=\"\\t\", index = None)\n",
    "    \n",
    "add_taxid()                     \n",
    "            \n",
    "                    \n",
    "                    \n",
    "            "
   ]
  },
  {
   "cell_type": "code",
   "execution_count": 41,
   "id": "cb7b02a2",
   "metadata": {},
   "outputs": [],
   "source": [
    "rumen_mags_taxid = {}\n",
    "def get_taxid():\n",
    "   \n",
    "    \n",
    "    new_taxid = 4294860313    \n",
    "    names_dmp = open('/fs/scratch/PAS0439/Ming/databases/rumen_mags_high_quality/taxadump/names_supplement.txt', 'w') \n",
    "    nodes_dmp = open('/fs/scratch/PAS0439/Ming/databases/rumen_mags_high_quality/taxadump/nodes_supplement.txt', 'w')\n",
    "    \n",
    "    for index, row in rumen_mags.iterrows():\n",
    "        genome = row['user_genome']\n",
    "        specie = row['Specie']\n",
    "        genera = row['Genera']\n",
    "        family = row['Family']\n",
    "        order = row['Order']\n",
    "        myclass = row['Class']\n",
    "        phylum = row['Phylum']\n",
    "        domain = row['Domain']\n",
    "        if phylum == \"Unclassified\":\n",
    "            if domain == \"Bacteria\":\n",
    "                parent_taxid = 609216830\n",
    "            else:\n",
    "                parent_taxid = 2587168575\n",
    "\n",
    "            new_taxid += 1\n",
    "            new_taxid = int(new_taxid)\n",
    "            rumen_mags_taxid[genome] = new_taxid\n",
    "            names_dmp.write(f'{new_taxid}\\t|\\t{genome}\\t|\\t\\t|\\tscientific name\\t|' + '\\n')\n",
    "            nodes_dmp.write(f'{new_taxid}\\t|\\t{parent_taxid}\\t|\\tphylum\\t|\\tXX\\t|\\t0\\t|\\t1\\t|\\t11\\t|\\t1\\t|\\t0\\t|\\t1\\t|\\t1\\t|\\t0\\t|\\t\\t|' + '\\n')\n",
    "\n",
    "        elif myclass == \"Unclassified\":\n",
    "            new_taxid += 1\n",
    "            new_taxid = int(new_taxid)\n",
    "            phylum_id = list(taxa.query('rank == \"phylum\"').query('taxa == @phylum')['taxid'])[0]\n",
    "            parent_taxid = int(phylum_id)\n",
    "            rumen_mags_taxid[genome] = new_taxid\n",
    "            names_dmp.write(f'{new_taxid}\\t|\\t{genome}\\t|\\t\\t|\\tscientific name\\t|' + '\\n')\n",
    "            nodes_dmp.write(f'{new_taxid}\\t|\\t{parent_taxid}\\t|\\tclass\\t|\\tXX\\t|\\t0\\t|\\t1\\t|\\t11\\t|\\t1\\t|\\t0\\t|\\t1\\t|\\t1\\t|\\t0\\t|\\t\\t|' + '\\n')\n",
    "\n",
    "        elif order == \"Unclassified\":\n",
    "            new_taxid += 1\n",
    "            new_taxid = int(new_taxid)\n",
    "            class_id = list(taxa.query('rank == \"class\"').query('taxa == @myclass')['taxid'])[0]\n",
    "            parent_taxid = int(class_id)\n",
    "            rumen_mags_taxid[genome] = new_taxid\n",
    "            names_dmp.write(f'{new_taxid}\\t|\\t{genome}\\t|\\t\\t|\\tscientific name\\t|' + '\\n')\n",
    "            nodes_dmp.write(f'{new_taxid}\\t|\\t{parent_taxid}\\t|\\torder\\t|\\tXX\\t|\\t0\\t|\\t1\\t|\\t11\\t|\\t1\\t|\\t0\\t|\\t1\\t|\\t1\\t|\\t0\\t|\\t\\t|' + '\\n')\n",
    "\n",
    "        elif family == \"Unclassified\":\n",
    "            new_taxid += 1\n",
    "            new_taxid = int(new_taxid)\n",
    "            order_id = list(taxa.query('rank == \"order\"').query('taxa == @order')['taxid'])[0]\n",
    "            parent_taxid = int(order_id)\n",
    "            rumen_mags_taxid[genome] = new_taxid\n",
    "            names_dmp.write(f'{new_taxid}\\t|\\t{genome}\\t|\\t\\t|\\tscientific name\\t|' + '\\n')\n",
    "            nodes_dmp.write(f'{new_taxid}\\t|\\t{parent_taxid}\\t|\\tfamily\\t|\\tXX\\t|\\t0\\t|\\t1\\t|\\t11\\t|\\t1\\t|\\t0\\t|\\t1\\t|\\t1\\t|\\t0\\t|\\t\\t|' + '\\n')\n",
    "\n",
    "        elif genera == \"Unclassified\":\n",
    "            new_taxid += 1\n",
    "            new_taxid = int(new_taxid)\n",
    "            family_id = list(taxa.query('rank == \"family\"').query('taxa == @family')['taxid'])[0]\n",
    "            parent_taxid = int(family_id)\n",
    "            rumen_mags_taxid[genome] = new_taxid\n",
    "            names_dmp.write(f'{new_taxid}\\t|\\t{genome}\\t|\\t\\t|\\tscientific name\\t|' + '\\n')\n",
    "            nodes_dmp.write(f'{new_taxid}\\t|\\t{parent_taxid}\\t|\\tgenus\\t|\\tXX\\t|\\t0\\t|\\t1\\t|\\t11\\t|\\t1\\t|\\t0\\t|\\t1\\t|\\t1\\t|\\t0\\t|\\t\\t|' + '\\n')\n",
    "\n",
    "        elif specie == \"Unclassified\":\n",
    "            new_taxid += 1\n",
    "            new_taxid = int(new_taxid)\n",
    "            rumen_mags_taxid[genome] = new_taxid\n",
    "            genera_id = list(taxa.query('rank == \"genus\"').query('taxa == @genera')['taxid'])[0]\n",
    "            parent_taxid = int(genera_id)\n",
    "            rumen_mags_taxid[genome] = new_taxid\n",
    "            names_dmp.write(f'{new_taxid}\\t|\\t{genome}\\t|\\t\\t|\\tscientific name\\t|' + '\\n')\n",
    "            nodes_dmp.write(f'{new_taxid}\\t|\\t{parent_taxid}\\t|\\tspecies\\t|\\tXX\\t|\\t0\\t|\\t1\\t|\\t11\\t|\\t1\\t|\\t0\\t|\\t1\\t|\\t1\\t|\\t0\\t|\\t\\t|' + '\\n')\n",
    "            \n",
    "        else:\n",
    "            specie_id = list(taxa.query('rank == \"species\"').query('taxa == @specie')['taxid'])[0]\n",
    "            rumen_mags_taxid[genome] = specie_id\n",
    "        \n",
    "            \n",
    "    names_dmp.close()\n",
    "    nodes_dmp.close()\n",
    "    \n",
    "get_taxid()                     \n",
    "            \n",
    "                    \n",
    "                    \n",
    "            "
   ]
  },
  {
   "cell_type": "code",
   "execution_count": 42,
   "id": "3c36ed41",
   "metadata": {},
   "outputs": [],
   "source": [
    "## rename genome sequence names\n",
    "os.chdir('/fs/scratch/PAS0439/Ming/databases/rumen_mags_high_quality/dereplicated_genomes')\n",
    "samples = glob.glob('*.fasta')\n",
    "\n",
    "from Bio import SeqIO\n",
    "for sample in samples:\n",
    "    \n",
    "    with open(f'../dereplicated_genomes_with_taxid/{sample}', 'w') as outfile:\n",
    "        genome = sample.split('.fasta')[0]\n",
    "        \n",
    "        records = SeqIO.parse(sample, 'fasta')\n",
    "        for record in records:\n",
    "            old_id = record.id\n",
    "            new_id = old_id + '|kraken:taxid|' + str(rumen_mags_taxid[genome])\n",
    "            record.id = new_id\n",
    "            SeqIO.write(record, outfile, 'fasta')"
   ]
  },
  {
   "cell_type": "code",
   "execution_count": 43,
   "id": "bd755fce",
   "metadata": {},
   "outputs": [],
   "source": [
    "with open('/fs/scratch/PAS0439/Ming/databases/rumen_mags_high_quality/taxadump/nodes_supplement.txt', 'r') as sup:\n",
    "    with open(\"/fs/scratch/PAS0439/Ming/databases/gtdb_R207_repre_genomes/taxdump/nodes.dmp\", 'r') as gtdb:\n",
    "        with open('/fs/scratch/PAS0439/Ming/databases/kraken2_gtdb207_rumen_mags_7176/taxonomy/nodes_pre.dmp', 'w') as nodes:\n",
    "            nodes.write(gtdb.read())\n",
    "            nodes.write(sup.read())\n",
    "\n",
    "with open('/fs/scratch/PAS0439/Ming/databases/rumen_mags_high_quality/taxadump/names_supplement.txt', 'r') as names_sup:\n",
    "    with open(\"/fs/scratch/PAS0439/Ming/databases/gtdb_R207_repre_genomes/taxdump/names.dmp\", 'r') as names_gtdb:\n",
    "        with open('/fs/scratch/PAS0439/Ming/databases/kraken2_gtdb207_rumen_mags_7176/taxonomy/names_pre.dmp', 'w') as names:\n",
    "            names.write(names_gtdb.read())\n",
    "            names.write(names_sup.read())"
   ]
  },
  {
   "cell_type": "code",
   "execution_count": 44,
   "id": "40ab7ef1",
   "metadata": {},
   "outputs": [],
   "source": [
    "## solve bracken-build error. See https://github.com/jenniferlu717/Bracken/issues/135 for reasons.\n",
    "nodes_pre = pd.read_csv('/fs/scratch/PAS0439/Ming/databases/kraken2_gtdb207_rumen_mags_7176/taxonomy/nodes_pre.dmp', sep = \"\\t\", header = None)\n",
    "nodes_pre.rename(columns = {0:'taxid', 2:'parent_id', 4:'rank'}, inplace = True)\n",
    "#nodes_pre_list = [f for f in set(nodes_pre[\"parent_id\"]) if f not in set(nodes_pre[\"taxid\"])]"
   ]
  },
  {
   "cell_type": "code",
   "execution_count": 45,
   "id": "f8d2a3a9",
   "metadata": {},
   "outputs": [],
   "source": [
    "parentid = set(nodes_pre['parent_id'])\n",
    "taxaid = set(nodes_pre['taxid'])\n",
    "taxasup = [f for f in parentid if f not in taxaid]"
   ]
  },
  {
   "cell_type": "code",
   "execution_count": 46,
   "id": "e23b4c35",
   "metadata": {},
   "outputs": [],
   "source": [
    "taxasup_df = taxa[taxa.taxid.isin(taxasup)]"
   ]
  },
  {
   "cell_type": "code",
   "execution_count": 47,
   "id": "27276437",
   "metadata": {},
   "outputs": [
    {
     "name": "stdout",
     "output_type": "stream",
     "text": [
      "next taxa index is 84332\n",
      "next taxid is 4294860313\n"
     ]
    }
   ],
   "source": [
    "taxasup_df.loc[taxasup_df.query('rank == \"family\"').index, \"rank\"] = \"Family\" ## to match with rumen_mags\n",
    "taxasup_df.loc[taxasup_df.query('rank == \"genus\"').index, \"rank\"] = \"Genera\"\n",
    "next_taxa_index = taxa.index[-1] + 1\n",
    "next_taxid = max(taxa.taxid) + 1\n",
    "print(f\"next taxa index is {next_taxa_index}\") \n",
    "print(f\"next taxid is {next_taxid}\") "
   ]
  },
  {
   "cell_type": "code",
   "execution_count": 48,
   "id": "64fb8040",
   "metadata": {},
   "outputs": [],
   "source": [
    "phylum_list = []\n",
    "class_list = []\n",
    "order_list = []\n",
    "family_list = []\n",
    "genera_list = []\n",
    "for index, row in taxasup_df.iterrows():\n",
    "    \n",
    "    \n",
    "    taxa_name = row['taxa']\n",
    "    rank = row[\"rank\"]\n",
    "    if rank == \"Family\":\n",
    "        family_list.append(taxa_name)\n",
    "        order = rumen_mags[rumen_mags[\"Family\"] == taxa_name]['Order'].to_list()[0]\n",
    "        order_list.append(order)\n",
    "        Class = rumen_mags[rumen_mags[\"Family\"] == taxa_name]['Class'].to_list()[0]\n",
    "        class_list.append(Class)\n",
    "        phylum = rumen_mags[rumen_mags[\"Family\"] == taxa_name]['Phylum'].to_list()[0]\n",
    "        phylum_list.append(phylum)\n",
    "    \n",
    "    else:\n",
    "        genera_list.append(taxa_name)\n",
    "        family = rumen_mags[rumen_mags[\"Genera\"] == taxa_name]['Family'].to_list()[0]\n",
    "        family_list.append(family)\n",
    "        order = rumen_mags[rumen_mags[\"Genera\"] == taxa_name]['Order'].to_list()[0]\n",
    "        order_list.append(order)\n",
    "        Class = rumen_mags[rumen_mags[\"Genera\"] == taxa_name]['Class'].to_list()[0]\n",
    "        class_list.append(Class)\n",
    "        phylum = rumen_mags[rumen_mags[\"Genera\"] == taxa_name]['Phylum'].to_list()[0]\n",
    "        phylum_list.append(phylum)\n",
    "        \n",
    "    \n",
    "  \n",
    "        \n",
    "    "
   ]
  },
  {
   "cell_type": "code",
   "execution_count": 49,
   "id": "46a886fe",
   "metadata": {},
   "outputs": [],
   "source": [
    "for phylum in phylum_list:\n",
    "    if  len(taxa.query('rank == \"phylum\"').query('taxa == @phylum')[\"taxid\"].to_list()) > 0:\n",
    "        continue\n",
    "    else:\n",
    "        taxa.loc[next_taxa_index, \"taxid\"] = next_taxid\n",
    "        taxa.loc[next_taxa_index, \"taxa\"] = phylum\n",
    "        taxa.loc[next_taxa_index, \"rank\"] = \"phylum\"\n",
    "        next_taxa_index += 1\n",
    "        next_taxid += 1\n",
    "        \n",
    "for Class in class_list:\n",
    "    if  len(taxa.query('rank == \"class\"').query('taxa == @Class')[\"taxid\"].to_list()) > 0:\n",
    "        continue\n",
    "    else:\n",
    "        taxa.loc[next_taxa_index, \"taxid\"] = next_taxid\n",
    "        taxa.loc[next_taxa_index, \"taxa\"] = Class\n",
    "        taxa.loc[next_taxa_index, \"rank\"] = \"class\"\n",
    "        next_taxa_index += 1\n",
    "        next_taxid += 1\n",
    "        \n",
    "for order in order_list:\n",
    "    if  len(taxa.query('rank == \"order\"').query('taxa == @order')[\"taxid\"].to_list()) > 0:\n",
    "        continue\n",
    "    else:\n",
    "        taxa.loc[next_taxa_index, \"taxid\"] = next_taxid\n",
    "        taxa.loc[next_taxa_index, \"taxa\"] = order\n",
    "        taxa.loc[next_taxa_index, \"rank\"] = \"order\"\n",
    "        next_taxa_index += 1\n",
    "        next_taxid += 1\n",
    "        \n",
    "for family in family_list:\n",
    "    if  len(taxa.query('rank == \"family\"').query('taxa == @family')[\"taxid\"].to_list()) > 0:\n",
    "        continue\n",
    "    else:\n",
    "        taxa.loc[next_taxa_index, \"taxid\"] = next_taxid\n",
    "        taxa.loc[next_taxa_index, \"taxa\"] = family\n",
    "        taxa.loc[next_taxa_index, \"rank\"] = \"family\"\n",
    "        next_taxa_index += 1\n",
    "        next_taxid += 1\n",
    "        \n",
    "for genera in genera_list:\n",
    "    if  len(taxa.query('rank == \"genus\"').query('taxa == @genera')[\"taxid\"].to_list()) > 0:\n",
    "        continue\n",
    "    else:\n",
    "        print(genera)\n",
    "        taxa.loc[next_taxa_index, \"taxid\"] = next_taxid\n",
    "        taxa.loc[next_taxa_index, \"taxa\"] = genera\n",
    "        taxa.loc[next_taxa_index, \"rank\"] = \"genus\"\n",
    "        next_taxa_index += 1\n",
    "        next_taxid += 1\n",
    "\n",
    "    \n",
    "taxa.taxid = [int(f) for f in taxa.taxid]"
   ]
  },
  {
   "cell_type": "code",
   "execution_count": 50,
   "id": "76b0be00",
   "metadata": {},
   "outputs": [],
   "source": [
    "with open('/fs/scratch/PAS0439/Ming/databases/kraken2_gtdb207_rumen_mags_7176/taxonomy/nodes_sup.dmp', 'w') as nodes:\n",
    "    with open('/fs/scratch/PAS0439/Ming/databases/kraken2_gtdb207_rumen_mags_7176/taxonomy/names_sup.dmp', 'w') as names:\n",
    "        for phylum in phylum_list:\n",
    "            new_index = 403990\n",
    "            taxid =  taxa.query('rank == \"phylum\"').query('taxa == @phylum')[\"taxid\"].to_list()[0]\n",
    "            if len(nodes_pre.query('taxid == @taxid')['taxid'].to_list()) == 0:\n",
    "                parent_id = 609216830\n",
    "                nodes.write(f'{taxid}\\t|\\t{parent_taxid}\\t|\\tphylum\\t|\\tXX\\t|\\t0\\t|\\t1\\t|\\t11\\t|\\t1\\t|\\t0\\t|\\t1\\t|\\t1\\t|\\t0\\t|\\t\\t|' + '\\n')\n",
    "                names.write(f'{taxid}\\t|\\t{phylum}\\t|\\t\\t|\\tscientific name\\t|' + '\\n')\n",
    "\n",
    "        for Class in class_list:\n",
    "            taxid =  taxa.query('rank == \"class\"').query('taxa == @Class')[\"taxid\"].to_list()[0]\n",
    "            if len(nodes_pre.query('taxid == @taxid')['taxid'].to_list()) == 0:\n",
    "                parent_id = rumen_mags.query('Class == @Class')['Phylum'].to_list()[0]\n",
    "                parent_taxid = taxa.query('rank == \"phylum\"').query('taxa == @parent_id')['taxid'].to_list()[0]\n",
    "                nodes.write(f'{taxid}\\t|\\t{parent_taxid}\\t|\\tclass\\t|\\tXX\\t|\\t0\\t|\\t1\\t|\\t11\\t|\\t1\\t|\\t0\\t|\\t1\\t|\\t1\\t|\\t0\\t|\\t\\t|' + '\\n')\n",
    "                names.write(f'{taxid}\\t|\\t{Class}\\t|\\t\\t|\\tscientific name\\t|' + '\\n')\n",
    "\n",
    "\n",
    "        for order in order_list:\n",
    "            taxid =  taxa.query('rank == \"order\"').query('taxa == @order')[\"taxid\"].to_list()[0]\n",
    "            if len(nodes_pre.query('taxid == @taxid')['taxid'].to_list()) == 0:\n",
    "                parent_id = rumen_mags.query('Order == @order')['Class'].to_list()[0]\n",
    "                parent_taxid = taxa.query('rank == \"class\"').query('taxa == @parent_id')['taxid'].to_list()[0]\n",
    "                nodes.write(f'{taxid}\\t|\\t{parent_taxid}\\t|\\torder\\t|\\tXX\\t|\\t0\\t|\\t1\\t|\\t11\\t|\\t1\\t|\\t0\\t|\\t1\\t|\\t1\\t|\\t0\\t|\\t\\t|' + '\\n')\n",
    "                names.write(f'{taxid}\\t|\\t{order}\\t|\\t\\t|\\tscientific name\\t|' + '\\n')\n",
    "\n",
    "        for family in family_list:\n",
    "            taxid =  taxa.query('rank == \"family\"').query('taxa == @family')[\"taxid\"].to_list()[0]\n",
    "            if len(nodes_pre.query('taxid == @taxid')['taxid'].to_list()) == 0:\n",
    "                parent_id = rumen_mags.query('Family == @family')['Order'].to_list()[0]\n",
    "                parent_taxid = taxa.query('rank == \"order\"').query('taxa == @parent_id')['taxid'].to_list()[0]\n",
    "                nodes.write(f'{taxid}\\t|\\t{parent_taxid}\\t|\\tfamily\\t|\\tXX\\t|\\t0\\t|\\t1\\t|\\t11\\t|\\t1\\t|\\t0\\t|\\t1\\t|\\t1\\t|\\t0\\t|\\t\\t|' + '\\n')\n",
    "                names.write(f'{taxid}\\t|\\t{family}\\t|\\t\\t|\\tscientific name\\t|' + '\\n')\n",
    "\n",
    "        for genera in genera_list:\n",
    "            taxid =  taxa.query('rank == \"genus\"').query('taxa == @genera')[\"taxid\"].to_list()[0]\n",
    "            if len(nodes_pre.query('taxid == @taxid')['taxid'].to_list()) == 0:\n",
    "                parent_id = rumen_mags.query('Genera == @genera')['Family'].to_list()[0]\n",
    "                parent_taxid = taxa.query('rank == \"family\"').query('taxa == @parent_id')['taxid'].to_list()[0]\n",
    "                nodes.write(f'{taxid}\\t|\\t{parent_taxid}\\t|\\tgenus\\t|\\tXX\\t|\\t0\\t|\\t1\\t|\\t11\\t|\\t1\\t|\\t0\\t|\\t1\\t|\\t1\\t|\\t0\\t|\\t\\t|' + '\\n')\n",
    "                names.write(f'{taxid}\\t|\\t{genera}\\t|\\t\\t|\\tscientific name\\t|' + '\\n')\n"
   ]
  },
  {
   "cell_type": "code",
   "execution_count": 51,
   "id": "327bb60b",
   "metadata": {},
   "outputs": [],
   "source": [
    "with open(\"/fs/scratch/PAS0439/Ming/databases/kraken2_gtdb207_rumen_mags_7176/taxonomy/nodes_pre.dmp\", 'r') as pre:\n",
    "    with open('/fs/scratch/PAS0439/Ming/databases/kraken2_gtdb207_rumen_mags_7176/taxonomy/nodes_sup.dmp', 'r') as sup:\n",
    "        with open('/fs/scratch/PAS0439/Ming/databases/kraken2_gtdb207_rumen_mags_7176/taxonomy/nodes.dmp', 'w') as nodes:\n",
    "            nodes.write(pre.read())\n",
    "            nodes.write(sup.read())"
   ]
  },
  {
   "cell_type": "code",
   "execution_count": 52,
   "id": "a48c2d96",
   "metadata": {},
   "outputs": [],
   "source": [
    "with open(\"/fs/scratch/PAS0439/Ming/databases/kraken2_gtdb207_rumen_mags_7176/taxonomy/names_pre.dmp\", 'r') as pre:\n",
    "    with open('/fs/scratch/PAS0439/Ming/databases/kraken2_gtdb207_rumen_mags_7176/taxonomy/names_sup.dmp', 'r') as sup:\n",
    "        with open('/fs/scratch/PAS0439/Ming/databases/kraken2_gtdb207_rumen_mags_7176/taxonomy/names.dmp', 'w') as names:\n",
    "            names.write(pre.read())\n",
    "            names.write(sup.read())"
   ]
  }
 ],
 "metadata": {
  "kernelspec": {
   "display_name": "MYENV [/fs/ess/PAS0439/MING/conda/MYENV]",
   "language": "python",
   "name": "conda_myenv"
  },
  "language_info": {
   "codemirror_mode": {
    "name": "ipython",
    "version": 3
   },
   "file_extension": ".py",
   "mimetype": "text/x-python",
   "name": "python",
   "nbconvert_exporter": "python",
   "pygments_lexer": "ipython3",
   "version": "3.10.4"
  }
 },
 "nbformat": 4,
 "nbformat_minor": 5
}

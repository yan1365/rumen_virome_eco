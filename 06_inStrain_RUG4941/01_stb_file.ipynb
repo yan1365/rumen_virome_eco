{
 "cells": [
  {
   "cell_type": "code",
   "execution_count": 2,
   "id": "51c77b54",
   "metadata": {},
   "outputs": [],
   "source": [
    "import os\n",
    "from Bio import SeqIO\n",
    "import glob\n",
    "import pandas as pd"
   ]
  },
  {
   "cell_type": "code",
   "execution_count": 6,
   "id": "366bc0cc",
   "metadata": {},
   "outputs": [],
   "source": [
    "os.chdir(\"/fs/scratch/PAS0439/Ming/databases/RUG4941_rumen_mags_hungate_high_quality/drep_for_instrain/dereplicated_genomes\")"
   ]
  },
  {
   "cell_type": "code",
   "execution_count": 14,
   "id": "9b9a1b6a",
   "metadata": {},
   "outputs": [],
   "source": [
    "genomes = glob.glob(\"*\")\n",
    "omit = {'scaffold_10121|kraken:taxid|860848478':0, 'scaffold_2871|kraken:taxid|3782448846':0,  'nrc_11885|kraken:taxid|2432288124':0}"
   ]
  },
  {
   "cell_type": "code",
   "execution_count": 15,
   "id": "41fa50e5",
   "metadata": {},
   "outputs": [],
   "source": [
    "with open(\"../../../../virome_ecology_core_prkaryotes/results/08_inStrain_rug4941/genomes.stb\", \"w\") as outfile:\n",
    "    for f in genomes:\n",
    "        records = SeqIO.parse(f, \"fasta\")\n",
    "        for record in records:\n",
    "            if record.id not in omit.keys():\n",
    "                outfile.write(record.id + \"\\t\" + f + '\\n')\n",
    "            else:\n",
    "                omit[record.id] += 1\n",
    "                if omit[record.id] > 1:\n",
    "                    continue\n",
    "                else:\n",
    "                    outfile.write(record.id + \"\\t\" + f + '\\n')\n",
    "        "
   ]
  },
  {
   "cell_type": "code",
   "execution_count": null,
   "id": "e66038a6",
   "metadata": {},
   "outputs": [],
   "source": []
  }
 ],
 "metadata": {
  "kernelspec": {
   "display_name": "MYENV [/fs/ess/PAS0439/MING/conda/MYENV]",
   "language": "python",
   "name": "conda_myenv"
  },
  "language_info": {
   "codemirror_mode": {
    "name": "ipython",
    "version": 3
   },
   "file_extension": ".py",
   "mimetype": "text/x-python",
   "name": "python",
   "nbconvert_exporter": "python",
   "pygments_lexer": "ipython3",
   "version": "3.10.9"
  }
 },
 "nbformat": 4,
 "nbformat_minor": 5
}

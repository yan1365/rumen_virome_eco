{
 "cells": [
  {
   "cell_type": "code",
   "execution_count": 1,
   "id": "ea872b3c",
   "metadata": {},
   "outputs": [],
   "source": [
    "import os\n",
    "import pandas as pd\n",
    "import glob\n",
    "import re"
   ]
  },
  {
   "cell_type": "code",
   "execution_count": 2,
   "id": "c07b80bb",
   "metadata": {},
   "outputs": [],
   "source": [
    "os.chdir(\"/fs/scratch/PAS0439/Ming/virome_ecology_core_prkaryotes/results/08_inStrain_rug4941/\")"
   ]
  },
  {
   "cell_type": "code",
   "execution_count": 3,
   "id": "55c0c2f2",
   "metadata": {},
   "outputs": [],
   "source": [
    "gh = pd.read_csv(\"dbcan_out_strigent_RUG4941.csv\")"
   ]
  },
  {
   "cell_type": "code",
   "execution_count": 4,
   "id": "ce97dcb8",
   "metadata": {},
   "outputs": [],
   "source": [
    "instrain_df = glob.glob(\"instrain_profiles/**/*.profile_gene_info.tsv\", recursive = True)"
   ]
  },
  {
   "cell_type": "code",
   "execution_count": 5,
   "id": "6bfd8532",
   "metadata": {},
   "outputs": [],
   "source": [
    "df_list = []\n",
    "\n",
    "for f in instrain_df:\n",
    "    df = pd.read_csv(f, sep = \"\\t\")\n",
    "    sample_id = f.split(\"/\")[-1].split(\".\")[0]\n",
    "    df.loc[:, \"id\"] = sample_id\n",
    "    df_list.append(df)\n",
    "    \n",
    "instrain_gene_profile = pd.concat(df_list)"
   ]
  },
  {
   "cell_type": "code",
   "execution_count": 6,
   "id": "9804b813",
   "metadata": {},
   "outputs": [],
   "source": [
    "instrain_gene_profile_merged = pd.merge(instrain_gene_profile, gh, on = \"gene\")"
   ]
  },
  {
   "cell_type": "code",
   "execution_count": 7,
   "id": "1c7ca73d",
   "metadata": {},
   "outputs": [],
   "source": [
    "instrain_gene_profile_filtered = instrain_gene_profile_merged.query(\"coverage > 5\").query(\"breadth > 0.5\")[[\"id\", \"scaffold\", \"gene\", \"CAZyme\",\"E_value\", \"nucl_diversity\", \"dNdS_substitutions\", \"pNpS_variants\"]].reset_index(drop = True)"
   ]
  },
  {
   "cell_type": "code",
   "execution_count": 8,
   "id": "e3a31c9b",
   "metadata": {},
   "outputs": [],
   "source": [
    "prevelance = pd.read_csv(\"../R_project/microbe_species_prevelance.csv\")"
   ]
  },
  {
   "cell_type": "code",
   "execution_count": 9,
   "id": "76511024",
   "metadata": {},
   "outputs": [],
   "source": [
    "scaffold_to_genome = pd.read_csv(\"genomes.stb\", sep = \"\\t\", header = None)\n",
    "scaffold_to_genome.columns = [\"scaffold\", \"genome\"]\n",
    "scaffold_dict = {}\n",
    "for f in set(instrain_gene_profile_filtered.scaffold):\n",
    "    scaffold_dict[f] = list(scaffold_to_genome.query('scaffold == @f')['genome'])[0]"
   ]
  },
  {
   "cell_type": "code",
   "execution_count": 10,
   "id": "8e3dac86",
   "metadata": {},
   "outputs": [],
   "source": [
    "for index, row in instrain_gene_profile_filtered.iterrows():\n",
    "    sf = row[\"scaffold\"]\n",
    "    genome = scaffold_dict[sf]\n",
    "    instrain_gene_profile_filtered.loc[index, \"genome\"] = genome"
   ]
  },
  {
   "cell_type": "code",
   "execution_count": 11,
   "id": "3ca18901",
   "metadata": {},
   "outputs": [],
   "source": [
    "instrain_gene_profile_filtered.genome = instrain_gene_profile_filtered.genome.apply(lambda x: x.split(\".fasta\")[0])"
   ]
  },
  {
   "cell_type": "code",
   "execution_count": 12,
   "id": "171679b7",
   "metadata": {},
   "outputs": [],
   "source": [
    "genome_info = pd.read_csv(\"genome_info.csv\")[[\"user_genome\", \"Genera\", \"Species\"]]"
   ]
  },
  {
   "cell_type": "code",
   "execution_count": 13,
   "id": "30cd776b",
   "metadata": {},
   "outputs": [],
   "source": [
    "instrain_gene_profile_ready = pd.merge(instrain_gene_profile_filtered, genome_info.drop_duplicates(), left_on = \"genome\", right_on = \"user_genome\")"
   ]
  },
  {
   "cell_type": "code",
   "execution_count": 14,
   "id": "7c701bc9",
   "metadata": {},
   "outputs": [],
   "source": [
    "instrain_gene_profile_ready = pd.merge(instrain_gene_profile_ready, prevelance[[\"Species\", \"prevelance\"]], on = \"Species\")"
   ]
  },
  {
   "cell_type": "code",
   "execution_count": 15,
   "id": "5febb951",
   "metadata": {},
   "outputs": [],
   "source": [
    "instrain_gene_profile_ready[[\"id\", \"scaffold\", \"gene\", \"CAZyme\", \"nucl_diversity\", \"dNdS_substitutions\", \"pNpS_variants\", \"Genera\", \"Species\", \"prevelance\"]].to_csv(\"/fs/ess/PAS0439/MING/virome_ecology/results/R_project/gh_microdiversity_RUG4941.csv\", index = None)"
   ]
  },
  {
   "cell_type": "code",
   "execution_count": null,
   "id": "d7d58978",
   "metadata": {},
   "outputs": [],
   "source": []
  }
 ],
 "metadata": {
  "kernelspec": {
   "display_name": "MYENV [/fs/ess/PAS0439/MING/conda/MYENV]",
   "language": "python",
   "name": "conda_myenv"
  },
  "language_info": {
   "codemirror_mode": {
    "name": "ipython",
    "version": 3
   },
   "file_extension": ".py",
   "mimetype": "text/x-python",
   "name": "python",
   "nbconvert_exporter": "python",
   "pygments_lexer": "ipython3",
   "version": "3.10.9"
  }
 },
 "nbformat": 4,
 "nbformat_minor": 5
}

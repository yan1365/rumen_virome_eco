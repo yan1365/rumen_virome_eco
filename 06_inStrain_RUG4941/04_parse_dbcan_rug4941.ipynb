{
 "cells": [
  {
   "cell_type": "code",
   "execution_count": 1,
   "id": "6c29d4ac",
   "metadata": {},
   "outputs": [],
   "source": [
    "import os\n",
    "import pandas as pd"
   ]
  },
  {
   "cell_type": "code",
   "execution_count": 2,
   "id": "f9d0c7ec",
   "metadata": {},
   "outputs": [],
   "source": [
    "os.chdir(\"/fs/scratch/PAS0439/Ming/virome_ecology_core_prkaryotes/results/08_inStrain_rug4941/\")"
   ]
  },
  {
   "cell_type": "code",
   "execution_count": 3,
   "id": "8e99288e",
   "metadata": {},
   "outputs": [],
   "source": [
    "df = pd.read_csv(\"repre_genomes_instrain.genes.faa_vs_dbCAN_v11.csv\")"
   ]
  },
  {
   "cell_type": "code",
   "execution_count": 4,
   "id": "dbb0c3e4",
   "metadata": {},
   "outputs": [],
   "source": [
    "pd.set_option('display.max_columns', None)"
   ]
  },
  {
   "cell_type": "code",
   "execution_count": 5,
   "id": "f4491df6",
   "metadata": {},
   "outputs": [],
   "source": [
    "cazy = df[[\"column0\", \"column2\", \"column3\", \"column5\", \"column6\", \"column15\",\"column16\",\"column17\",\"column18\"]]\n",
    "cazy.columns = [\"CAZyme\", \"qlen\", \"gene\", \"slen\", \"E_value\", \"qstart\", \"qend\", \"sstart\", \"send\"]"
   ]
  },
  {
   "cell_type": "code",
   "execution_count": 6,
   "id": "01821803",
   "metadata": {},
   "outputs": [
    {
     "name": "stderr",
     "output_type": "stream",
     "text": [
      "/tmp/slurmtmp.16452030/ipykernel_189149/1822478317.py:2: SettingWithCopyWarning: \n",
      "A value is trying to be set on a copy of a slice from a DataFrame.\n",
      "Try using .loc[row_indexer,col_indexer] = value instead\n",
      "\n",
      "See the caveats in the documentation: https://pandas.pydata.org/pandas-docs/stable/user_guide/indexing.html#returning-a-view-versus-a-copy\n",
      "  cazy.loc[index, \"hmm_coverage\"] = (cazy.loc[index, \"qend\"] - cazy.loc[index, \"qstart\"]) / cazy.loc[index, \"qlen\"]\n"
     ]
    }
   ],
   "source": [
    "for index, row in cazy.iterrows():\n",
    "    cazy.loc[index, \"hmm_coverage\"] = (cazy.loc[index, \"qend\"] - cazy.loc[index, \"qstart\"]) / cazy.loc[index, \"qlen\"]"
   ]
  },
  {
   "cell_type": "code",
   "execution_count": 7,
   "id": "2027c24a",
   "metadata": {},
   "outputs": [],
   "source": [
    "cazy_ready = cazy[[\"CAZyme\", \"gene\", \"E_value\", \"hmm_coverage\"]]"
   ]
  },
  {
   "cell_type": "code",
   "execution_count": 8,
   "id": "984cd963",
   "metadata": {},
   "outputs": [
    {
     "name": "stderr",
     "output_type": "stream",
     "text": [
      "/tmp/slurmtmp.16452030/ipykernel_189149/234930382.py:1: SettingWithCopyWarning: \n",
      "A value is trying to be set on a copy of a slice from a DataFrame.\n",
      "Try using .loc[row_indexer,col_indexer] = value instead\n",
      "\n",
      "See the caveats in the documentation: https://pandas.pydata.org/pandas-docs/stable/user_guide/indexing.html#returning-a-view-versus-a-copy\n",
      "  cazy_ready.loc[:,\"CAZyme\"] = list(cazy_ready.CAZyme.apply(lambda x: x.split(\".hmm\")[0]))\n"
     ]
    }
   ],
   "source": [
    "cazy_ready.loc[:,\"CAZyme\"] = list(cazy_ready.CAZyme.apply(lambda x: x.split(\".hmm\")[0]))"
   ]
  },
  {
   "cell_type": "code",
   "execution_count": 9,
   "id": "4cc5467a",
   "metadata": {},
   "outputs": [],
   "source": [
    "cazy_ready_filtered = cazy_ready.query('E_value == E_value')"
   ]
  },
  {
   "cell_type": "code",
   "execution_count": 10,
   "id": "3855b199",
   "metadata": {},
   "outputs": [],
   "source": [
    "cazy_hits = cazy_ready_filtered.loc[cazy_ready_filtered.groupby(\"gene\")[\"E_value\"].idxmin()]"
   ]
  },
  {
   "cell_type": "code",
   "execution_count": 11,
   "id": "cc33b28f",
   "metadata": {},
   "outputs": [
    {
     "name": "stderr",
     "output_type": "stream",
     "text": [
      "/tmp/slurmtmp.16452030/ipykernel_189149/2535724748.py:1: UserWarning: Boolean Series key will be reindexed to match DataFrame index.\n",
      "  gh = cazy_hits[cazy_ready_filtered.CAZyme.str.contains(\"GH\")]\n"
     ]
    }
   ],
   "source": [
    "gh = cazy_hits[cazy_ready_filtered.CAZyme.str.contains(\"GH\")]"
   ]
  },
  {
   "cell_type": "code",
   "execution_count": 12,
   "id": "2a81299d",
   "metadata": {},
   "outputs": [],
   "source": [
    "gh_ready = gh.query('E_value < 1e-15').query('hmm_coverage > 0.35').reset_index(drop = True)"
   ]
  },
  {
   "cell_type": "code",
   "execution_count": 13,
   "id": "30c50706",
   "metadata": {},
   "outputs": [
    {
     "data": {
      "text/html": [
       "<div>\n",
       "<style scoped>\n",
       "    .dataframe tbody tr th:only-of-type {\n",
       "        vertical-align: middle;\n",
       "    }\n",
       "\n",
       "    .dataframe tbody tr th {\n",
       "        vertical-align: top;\n",
       "    }\n",
       "\n",
       "    .dataframe thead th {\n",
       "        text-align: right;\n",
       "    }\n",
       "</style>\n",
       "<table border=\"1\" class=\"dataframe\">\n",
       "  <thead>\n",
       "    <tr style=\"text-align: right;\">\n",
       "      <th></th>\n",
       "      <th>CAZyme</th>\n",
       "      <th>gene</th>\n",
       "      <th>E_value</th>\n",
       "      <th>hmm_coverage</th>\n",
       "    </tr>\n",
       "  </thead>\n",
       "  <tbody>\n",
       "    <tr>\n",
       "      <th>0</th>\n",
       "      <td>GH109</td>\n",
       "      <td>Archaea_Methanomicrobium_mobile_DSM_1539_scaff...</td>\n",
       "      <td>9.600000e-23</td>\n",
       "      <td>0.385965</td>\n",
       "    </tr>\n",
       "    <tr>\n",
       "      <th>1</th>\n",
       "      <td>GH3</td>\n",
       "      <td>Bacteria_Bifidobacterium_bifidum_Calf96_scaffo...</td>\n",
       "      <td>4.400000e-39</td>\n",
       "      <td>0.962963</td>\n",
       "    </tr>\n",
       "    <tr>\n",
       "      <th>2</th>\n",
       "      <td>GH109</td>\n",
       "      <td>Bacteria_Bifidobacterium_bifidum_Calf96_scaffo...</td>\n",
       "      <td>3.900000e-16</td>\n",
       "      <td>0.395990</td>\n",
       "    </tr>\n",
       "    <tr>\n",
       "      <th>3</th>\n",
       "      <td>GH13_30</td>\n",
       "      <td>Bacteria_Bifidobacterium_bifidum_Calf96_scaffo...</td>\n",
       "      <td>9.600000e-163</td>\n",
       "      <td>0.997260</td>\n",
       "    </tr>\n",
       "    <tr>\n",
       "      <th>4</th>\n",
       "      <td>GH77</td>\n",
       "      <td>Bacteria_Bifidobacterium_bifidum_Calf96_scaffo...</td>\n",
       "      <td>1.200000e-136</td>\n",
       "      <td>0.975709</td>\n",
       "    </tr>\n",
       "    <tr>\n",
       "      <th>...</th>\n",
       "      <td>...</td>\n",
       "      <td>...</td>\n",
       "      <td>...</td>\n",
       "      <td>...</td>\n",
       "    </tr>\n",
       "    <tr>\n",
       "      <th>32516</th>\n",
       "      <td>GH36</td>\n",
       "      <td>T546DRAFT_scaffold00022.22_18</td>\n",
       "      <td>4.200000e-81</td>\n",
       "      <td>0.819767</td>\n",
       "    </tr>\n",
       "    <tr>\n",
       "      <th>32517</th>\n",
       "      <td>GH18</td>\n",
       "      <td>T546DRAFT_scaffold00027.27_6</td>\n",
       "      <td>5.700000e-25</td>\n",
       "      <td>0.672297</td>\n",
       "    </tr>\n",
       "    <tr>\n",
       "      <th>32518</th>\n",
       "      <td>GH11</td>\n",
       "      <td>T546DRAFT_scaffold00028.28_2</td>\n",
       "      <td>1.100000e-69</td>\n",
       "      <td>0.983051</td>\n",
       "    </tr>\n",
       "    <tr>\n",
       "      <th>32519</th>\n",
       "      <td>GH13_31</td>\n",
       "      <td>T546DRAFT_scaffold00028.28_6</td>\n",
       "      <td>9.800000e-133</td>\n",
       "      <td>0.997135</td>\n",
       "    </tr>\n",
       "    <tr>\n",
       "      <th>32520</th>\n",
       "      <td>GH13_31</td>\n",
       "      <td>T546DRAFT_scaffold00028.28_7</td>\n",
       "      <td>2.100000e-166</td>\n",
       "      <td>0.997135</td>\n",
       "    </tr>\n",
       "  </tbody>\n",
       "</table>\n",
       "<p>32521 rows × 4 columns</p>\n",
       "</div>"
      ],
      "text/plain": [
       "        CAZyme                                               gene  \\\n",
       "0        GH109  Archaea_Methanomicrobium_mobile_DSM_1539_scaff...   \n",
       "1          GH3  Bacteria_Bifidobacterium_bifidum_Calf96_scaffo...   \n",
       "2        GH109  Bacteria_Bifidobacterium_bifidum_Calf96_scaffo...   \n",
       "3      GH13_30  Bacteria_Bifidobacterium_bifidum_Calf96_scaffo...   \n",
       "4         GH77  Bacteria_Bifidobacterium_bifidum_Calf96_scaffo...   \n",
       "...        ...                                                ...   \n",
       "32516     GH36                      T546DRAFT_scaffold00022.22_18   \n",
       "32517     GH18                       T546DRAFT_scaffold00027.27_6   \n",
       "32518     GH11                       T546DRAFT_scaffold00028.28_2   \n",
       "32519  GH13_31                       T546DRAFT_scaffold00028.28_6   \n",
       "32520  GH13_31                       T546DRAFT_scaffold00028.28_7   \n",
       "\n",
       "             E_value  hmm_coverage  \n",
       "0       9.600000e-23      0.385965  \n",
       "1       4.400000e-39      0.962963  \n",
       "2       3.900000e-16      0.395990  \n",
       "3      9.600000e-163      0.997260  \n",
       "4      1.200000e-136      0.975709  \n",
       "...              ...           ...  \n",
       "32516   4.200000e-81      0.819767  \n",
       "32517   5.700000e-25      0.672297  \n",
       "32518   1.100000e-69      0.983051  \n",
       "32519  9.800000e-133      0.997135  \n",
       "32520  2.100000e-166      0.997135  \n",
       "\n",
       "[32521 rows x 4 columns]"
      ]
     },
     "execution_count": 13,
     "metadata": {},
     "output_type": "execute_result"
    }
   ],
   "source": [
    "gh_ready"
   ]
  },
  {
   "cell_type": "code",
   "execution_count": 14,
   "id": "7214eeec",
   "metadata": {},
   "outputs": [],
   "source": [
    "gh_ready.to_csv(\"dbcan_out_strigent_RUG4941.csv\", index = None)"
   ]
  },
  {
   "cell_type": "code",
   "execution_count": 15,
   "id": "4cc225e9",
   "metadata": {},
   "outputs": [],
   "source": [
    "gh_ready[[\"gene\", \"CAZyme\"]].rename(columns = {\"CAZyme\":\"anno\"}).to_csv(\"geneAnnotations_CAZyme.csv\", index = None)"
   ]
  },
  {
   "cell_type": "code",
   "execution_count": null,
   "id": "793e87c4",
   "metadata": {},
   "outputs": [],
   "source": []
  }
 ],
 "metadata": {
  "kernelspec": {
   "display_name": "MYENV [/fs/ess/PAS0439/MING/conda/MYENV]",
   "language": "python",
   "name": "conda_myenv"
  },
  "language_info": {
   "codemirror_mode": {
    "name": "ipython",
    "version": 3
   },
   "file_extension": ".py",
   "mimetype": "text/x-python",
   "name": "python",
   "nbconvert_exporter": "python",
   "pygments_lexer": "ipython3",
   "version": "3.10.9"
  }
 },
 "nbformat": 4,
 "nbformat_minor": 5
}

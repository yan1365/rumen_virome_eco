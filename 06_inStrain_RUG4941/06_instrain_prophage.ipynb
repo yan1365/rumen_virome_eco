{
 "cells": [
  {
   "cell_type": "code",
   "execution_count": 1,
   "id": "1ccd45a7",
   "metadata": {},
   "outputs": [],
   "source": [
    "import os\n",
    "import pandas as pd\n",
    "import glob"
   ]
  },
  {
   "cell_type": "code",
   "execution_count": 2,
   "id": "6b99c9f2",
   "metadata": {},
   "outputs": [],
   "source": [
    "os.chdir(\"/fs/scratch/PAS0439/Ming/virome_ecology_core_prkaryotes/results/08_inStrain_rug4941/instrain_profiles/\")"
   ]
  },
  {
   "cell_type": "code",
   "execution_count": 3,
   "id": "2a3b175f",
   "metadata": {},
   "outputs": [],
   "source": [
    "samples = [f.split(\".profile\")[0] for f in glob.glob(\"*\")]\n",
    "genome_info = pd.read_csv(\"../genome_info.csv\")\n",
    "prophage = pd.read_csv(\"../../04_prophage_rumen_mags/prophage_host_summary.csv\").query('prophage == prophage')"
   ]
  },
  {
   "cell_type": "code",
   "execution_count": 4,
   "id": "3396c3ef",
   "metadata": {},
   "outputs": [],
   "source": [
    "co_exist_df_list = []\n",
    "prophage_df_list = []\n",
    "for f in samples:\n",
    "    #instrain_genome: population presented in the samples\n",
    "    instrain_genome = pd.read_csv(f\"{f}.profile/output/{f}.profile_genome_info.tsv\", sep = \"\\t\").query('breadth_minCov >= 0.5') \n",
    "    instrain_genome.genome = instrain_genome.genome.apply(lambda x: x.split('.fasta')[0])\n",
    "    \n",
    "    instrain_genome = pd.merge(instrain_genome, genome_info, left_on = \"genome\", right_on = \"user_genome\").drop(\"user_genome\", axis = 1)\n",
    "    instrain_prophage_genome = pd.merge(instrain_genome, prophage, left_on = \"genome\", right_on = \"user_genome\")\n",
    "    \n",
    "    for index, row in instrain_prophage_genome.iterrows():\n",
    "        instrain_prophage_genome.loc[index, \"prophage_scaffold\"] = row[\"prophage\"].split(\"||\")[0]\n",
    "    \n",
    "    # check if scaffold carrying prophage exist\n",
    "    scaffold_to_check = set(instrain_prophage_genome.prophage_scaffold)\n",
    "    \n",
    "    instrain_scaffold = pd.read_csv(f\"{f}.profile/output/{f}.profile_scaffold_info.tsv\", sep = \"\\t\")\n",
    "        ## prophage scaffold great than 99% coverage to be considered as present\n",
    "    prophage_scaffold_filtered = set(instrain_scaffold.query('scaffold in @scaffold_to_check').query('breadth > 0.99').scaffold)\n",
    "    instrain_prophage_genome_filtered = instrain_prophage_genome.query('prophage_scaffold in @prophage_scaffold_filtered').reset_index(drop = True)\n",
    "    prophage_genomes_presented = set(instrain_prophage_genome_filtered.genome)\n",
    "    \n",
    "    for index, row in instrain_genome.iterrows():\n",
    "        if row[\"genome\"] in prophage_genomes_presented:\n",
    "            instrain_genome.loc[index, \"prophage_presented\"] = \"Present\"\n",
    "        else:\n",
    "            instrain_genome.loc[index, \"prophage_presented\"] = \"absent\"\n",
    "    \n",
    "    # species with population carrying prophage    \n",
    "    prophage_species = set(instrain_genome.query('genome in @prophage_genomes_presented')[\"Species\"])\n",
    "    # species with populations carrying prophage and population without prophage\n",
    "    species_both = instrain_genome.query('Species in  @prophage_species').query('prophage_presented == \"absent\"')[\"Species\"]\n",
    "    \n",
    "    # record genome and sample info for species with populations carrying prophage and population without prophage\n",
    "    if len(species_both) == 0:\n",
    "        continue\n",
    "    else:\n",
    "        tmp = instrain_genome.query('Species in @species_both')[[\"genome\", \"Genera\", \"Species\", \"prophage_presented\"]]\n",
    "        tmp.loc[:,\"id\"] = f\n",
    "        co_exist_df_list.append(tmp)\n",
    "    \n",
    "    # record genome and sample info for species with populations carrying prophage \n",
    "    if len(prophage_species) == 0:\n",
    "        continue\n",
    "    else:\n",
    "        tmp = instrain_genome.query('Species in @prophage_species')[[\"genome\", \"Genera\", \"Species\", \"prophage_presented\"]]\n",
    "        tmp.query('prophage_presented == \"Present\"')\n",
    "        tmp.loc[:,\"id\"] = f\n",
    "        prophage_df_list.append(tmp)\n",
    "    "
   ]
  },
  {
   "cell_type": "code",
   "execution_count": 5,
   "id": "8a713733",
   "metadata": {},
   "outputs": [],
   "source": [
    "co_exist_df_rug4941 = pd.concat(co_exist_df_list)\n",
    "\n",
    "# fill na with genome name for column Species\n",
    "for f in co_exist_df_rug4941.query(\"Species != Species\").index:\n",
    "    co_exist_df_rug4941.loc[f, \"Species\"] = co_exist_df_rug4941.loc[f, \"genome\"]"
   ]
  },
  {
   "cell_type": "code",
   "execution_count": 6,
   "id": "a7208366",
   "metadata": {},
   "outputs": [],
   "source": [
    "prophage_df_rug4941 = pd.concat(prophage_df_list)\n",
    "\n",
    "# fill na with genome name for column Species\n",
    "for f in co_exist_df_rug4941.query(\"Species != Species\").index:\n",
    "    co_exist_df_rug4941.loc[f, \"Species\"] = co_exist_df_rug4941.loc[f, \"genome\"]"
   ]
  },
  {
   "cell_type": "code",
   "execution_count": 7,
   "id": "7b5e8217",
   "metadata": {},
   "outputs": [],
   "source": [
    "species_prevelance = pd.read_csv(\"../../R_project/microbe_species_prevelance.csv\")[[\"Genera\", \"Species\", \"prevelance\"]]"
   ]
  },
  {
   "cell_type": "code",
   "execution_count": 8,
   "id": "d2e337ea",
   "metadata": {},
   "outputs": [],
   "source": [
    "df = pd.merge(co_exist_df_rug4941, species_prevelance, on = [\"Genera\", \"Species\"], how = \"left\").reset_index(drop = True)"
   ]
  },
  {
   "cell_type": "code",
   "execution_count": 9,
   "id": "805f33e2",
   "metadata": {},
   "outputs": [],
   "source": [
    "df1 = pd.merge(prophage_df_rug4941, species_prevelance, on = [\"Genera\", \"Species\"], how = \"left\").reset_index(drop = True)"
   ]
  },
  {
   "cell_type": "code",
   "execution_count": 10,
   "id": "e8706e8a",
   "metadata": {},
   "outputs": [],
   "source": [
    "df.to_csv(\"/fs/ess/PAS0439/MING/virome_ecology/results/R_project/genome_prophage_co_exist_rug4941.csv\", index = None)\n",
    "df1.to_csv(\"/fs/ess/PAS0439/MING/virome_ecology/results/R_project/genome_prophage_rug4941.csv\", index = None)"
   ]
  }
 ],
 "metadata": {
  "kernelspec": {
   "display_name": "MYENV [/fs/ess/PAS0439/MING/conda/MYENV]",
   "language": "python",
   "name": "conda_myenv"
  },
  "language_info": {
   "codemirror_mode": {
    "name": "ipython",
    "version": 3
   },
   "file_extension": ".py",
   "mimetype": "text/x-python",
   "name": "python",
   "nbconvert_exporter": "python",
   "pygments_lexer": "ipython3",
   "version": "3.10.9"
  }
 },
 "nbformat": 4,
 "nbformat_minor": 5
}

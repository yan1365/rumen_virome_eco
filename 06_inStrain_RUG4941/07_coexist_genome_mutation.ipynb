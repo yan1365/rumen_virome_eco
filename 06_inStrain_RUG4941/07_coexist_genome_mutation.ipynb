{
 "cells": [
  {
   "cell_type": "code",
   "execution_count": 1,
   "id": "764555c8",
   "metadata": {},
   "outputs": [],
   "source": [
    "import os\n",
    "import pandas as pd\n",
    "import glob"
   ]
  },
  {
   "cell_type": "code",
   "execution_count": 2,
   "id": "6efbdb1a",
   "metadata": {},
   "outputs": [],
   "source": [
    "os.chdir(\"/fs/scratch/PAS0439/Ming/virome_ecology_core_prkaryotes/results/08_inStrain_rug4941/instrain_profiles/\")"
   ]
  },
  {
   "cell_type": "code",
   "execution_count": 3,
   "id": "ee498253",
   "metadata": {},
   "outputs": [],
   "source": [
    "coexist_genome = pd.read_csv(\"/fs/ess/PAS0439/MING/virome_ecology/results/R_project/genome_prophage_co_exist_rug4941.csv\")\n",
    "prophage_genome = pd.read_csv(\"/fs/ess/PAS0439/MING/virome_ecology/results/R_project/genome_prophage_rug4941.csv\")"
   ]
  },
  {
   "cell_type": "code",
   "execution_count": 4,
   "id": "1bd5eade",
   "metadata": {},
   "outputs": [],
   "source": [
    "scaffold_to_genome = pd.read_csv(\"../genomes.stb\", sep = \"\\t\", names = [\"scaffold\", \"genome\"])"
   ]
  },
  {
   "cell_type": "code",
   "execution_count": 5,
   "id": "ff266dec",
   "metadata": {},
   "outputs": [],
   "source": [
    "prophage_scaffold1 = pd.read_csv(\"../../04_prophage_rumen_mags/prophage_rug_hungate_scaffold_coordinates_for_propogate.tsv\", sep = \"\\t\")\n",
    "prophage_scaffold2 = pd.read_csv(\"../../04_prophage_rumen_mags/old_without_rug4941_hungate/prophage_scaffold_coordinates_for_propogate.tsv\", sep = \"\\t\")\n",
    "prophage_scaffold_full = pd.concat([prophage_scaffold1,prophage_scaffold2])\n",
    "prophage_sf = set(prophage_scaffold_full.scaffold)"
   ]
  },
  {
   "cell_type": "code",
   "execution_count": 6,
   "id": "0077afb2",
   "metadata": {},
   "outputs": [],
   "source": [
    "prophage_anno = pd.read_csv('/fs/ess/PAS0439/MING/virome_ecology/results/R_project/rumen_mags_hugate_rug_prophages_anno.csv')"
   ]
  },
  {
   "cell_type": "markdown",
   "id": "87f2e4d5",
   "metadata": {},
   "source": [
    "*gene microdiversity for genome of species, which both prophage-carrying and non-carrying population co-exist.  \n",
    "Samples from RUG4941 Nature Biotechnology paper*"
   ]
  },
  {
   "cell_type": "code",
   "execution_count": 7,
   "id": "2f667eb6",
   "metadata": {},
   "outputs": [],
   "source": [
    "df_list = []11\n",
    "for f in glob.glob(\"*\"):\n",
    "    i = f.split(\".profile\")[0]\n",
    "    path = f\"{i}.profile/output/{i}.profile_gene_info.tsv\"\n",
    "    if os.path.exists(path):\n",
    "        df = pd.read_csv(f\"{i}.profile/output/{i}.profile_gene_info.tsv\", sep = \"\\t\").query('breadth > 0.99').query('coverage > 10')    \n",
    "    else:\n",
    "        path = f\"{i}.profile/output/{i}.profile_gene_info.tsv.gz\"\n",
    "        df = pd.read_csv(f\"{path}\", sep = \"\\t\").query('breadth > 0.99').query('coverage > 10')\n",
    "        \n",
    "    df1 = pd.merge(df, scaffold_to_genome, on = \"scaffold\")\n",
    "    df1.loc[:,\"id\"] = i\n",
    "    df1.genome = df1.genome.apply(lambda x: x.split(\".fasta\")[0])\n",
    "    df2 = pd.merge(df1, coexist_genome, on = [\"genome\", \"id\"])\n",
    "    \n",
    "    # mark prophage gene \n",
    "    prophage_presented = set(df2.query('scaffold in @prophage_sf').scaffold)\n",
    "    prophage_coordinate = prophage_scaffold_full.query('scaffold in @prophage_presented')[[\"scaffold\", \"start\", \"stop\"]].drop_duplicates()\n",
    "    for f in set(prophage_coordinate.scaffold):\n",
    "        Start = list(prophage_coordinate.query('scaffold == @f').start)[0]\n",
    "        Stop = list(prophage_coordinate.query('scaffold == @f').stop)[0]\n",
    "        prophage_gene_index = df2.query('scaffold == @f').query('start >= @Start').query('end <= @Stop').index\n",
    "        df2.loc[prophage_gene_index, \"prophage_gene\"] = \"Yes\"\n",
    "        df2.prophage_gene = df2.prophage_gene.fillna(\"No\")\n",
    "    \n",
    "    df_list.append(df2)\n",
    "    \n",
    "prophage_co_exist_microdiversity = pd.concat(df_list).reset_index(drop = True)[['scaffold', 'gene', 'gene_length', 'coverage', 'breadth',\n",
    "       'breadth_minCov', 'nucl_diversity', 'start', 'end', 'direction',\n",
    "       'dNdS_substitutions', 'pNpS_variants', \"SNV_count\", \"SNV_S_count\", \"SNV_N_count\", \"SNS_count\",  \"SNS_S_count\",  \"SNS_N_count\", \"divergent_site_count\", 'genome', 'id', 'Genera', 'Species',\n",
    "       'prophage_presented', 'prevelance', 'prophage_gene']]   "
   ]
  },
  {
   "cell_type": "markdown",
   "id": "709e3eab",
   "metadata": {},
   "source": [
    "*gene microdiversity for prophage carrying genome.  \n",
    "Samples from RUG4941 Nature Biotechnology paper*"
   ]
  },
  {
   "cell_type": "code",
   "execution_count": 8,
   "id": "77e64779",
   "metadata": {},
   "outputs": [],
   "source": [
    "df_list = []\n",
    "for f in glob.glob(\"*\"):\n",
    "    i = f.split(\".profile\")[0]\n",
    "    path = f\"{i}.profile/output/{i}.profile_gene_info.tsv\"\n",
    "    if os.path.exists(path):\n",
    "        df = pd.read_csv(f\"{i}.profile/output/{i}.profile_gene_info.tsv\", sep = \"\\t\").query('breadth > 0.99').query('coverage > 10')    \n",
    "    else:\n",
    "        path = f\"{i}.profile/output/{i}.profile_gene_info.tsv.gz\"\n",
    "        df = pd.read_csv(f\"{path}\", sep = \"\\t\").query('breadth > 0.99').query('coverage > 10')\n",
    "        \n",
    "    df1 = pd.merge(df, scaffold_to_genome, on = \"scaffold\")\n",
    "    df1.loc[:,\"id\"] = i\n",
    "    df1.genome = df1.genome.apply(lambda x: x.split(\".fasta\")[0])\n",
    "    df2 = pd.merge(df1, prophage_genome, on = [\"genome\", \"id\"])\n",
    "    \n",
    "    # mark prophage gene \n",
    "    prophage_presented = set(df2.query('scaffold in @prophage_sf').scaffold)\n",
    "    prophage_coordinate = prophage_scaffold_full.query('scaffold in @prophage_presented')[[\"scaffold\", \"start\", \"stop\"]].drop_duplicates()\n",
    "    for f in set(prophage_coordinate.scaffold):\n",
    "        Start = list(prophage_coordinate.query('scaffold == @f').start)[0]\n",
    "        Stop = list(prophage_coordinate.query('scaffold == @f').stop)[0]\n",
    "        prophage_gene_index = df2.query('scaffold == @f').query('start >= @Start').query('end <= @Stop').index\n",
    "        df2.loc[prophage_gene_index, \"prophage_gene\"] = \"Yes\"\n",
    "        df2.prophage_gene = df2.prophage_gene.fillna(\"No\")\n",
    "    \n",
    "    df_list.append(df2)\n",
    "\n",
    "prophage_microdiversity = pd.concat(df_list).reset_index(drop = True)[['scaffold', 'gene', 'gene_length', 'coverage', 'breadth',\n",
    "       'breadth_minCov', 'nucl_diversity', 'start', 'end', 'direction',\n",
    "       'dNdS_substitutions', 'pNpS_variants', \"SNV_count\", \"SNV_S_count\", \"SNV_N_count\", \"SNS_count\",  \"SNS_S_count\",  \"SNS_N_count\", \"divergent_site_count\", 'genome', 'id', 'Genera', 'Species',\n",
    "       'prophage_presented', 'prevelance', 'prophage_gene']]   "
   ]
  },
  {
   "cell_type": "code",
   "execution_count": 9,
   "id": "43cb016d",
   "metadata": {},
   "outputs": [],
   "source": [
    "prophage_co_exist_microdiversity.to_csv(\"/fs/ess/PAS0439/MING/virome_ecology/results/R_project/prophage_co_exist_microdiversity_rug4941_tmp.csv\", index = None)\n",
    "prophage_microdiversity.to_csv(\"/fs/ess/PAS0439/MING/virome_ecology/results/R_project/prophage_microdiversity_rug4941.csv_tmp\", index = None)"
   ]
  }
 ],
 "metadata": {
  "kernelspec": {
   "display_name": "MYENV [/fs/ess/PAS0439/MING/conda/MYENV]",
   "language": "python",
   "name": "conda_myenv"
  },
  "language_info": {
   "codemirror_mode": {
    "name": "ipython",
    "version": 3
   },
   "file_extension": ".py",
   "mimetype": "text/x-python",
   "name": "python",
   "nbconvert_exporter": "python",
   "pygments_lexer": "ipython3",
   "version": "3.10.9"
  }
 },
 "nbformat": 4,
 "nbformat_minor": 5
}

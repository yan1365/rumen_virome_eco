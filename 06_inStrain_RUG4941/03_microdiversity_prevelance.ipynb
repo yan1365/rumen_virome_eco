{
 "cells": [
  {
   "cell_type": "code",
   "execution_count": 1,
   "id": "44cb8b8d",
   "metadata": {},
   "outputs": [],
   "source": [
    "import os\n",
    "import pandas as pd\n",
    "import glob"
   ]
  },
  {
   "cell_type": "code",
   "execution_count": 2,
   "id": "cd0e465c",
   "metadata": {},
   "outputs": [],
   "source": [
    "os.chdir(\"/fs/scratch/PAS0439/Ming/virome_ecology_core_prkaryotes/results/08_inStrain_rug4941/instrain_profiles/\")"
   ]
  },
  {
   "cell_type": "code",
   "execution_count": 3,
   "id": "12aee728",
   "metadata": {},
   "outputs": [],
   "source": [
    "instrains = glob.glob(\"**/*genome_info.tsv*\", recursive = True)"
   ]
  },
  {
   "cell_type": "code",
   "execution_count": 4,
   "id": "fe744fe5",
   "metadata": {},
   "outputs": [],
   "source": [
    "df_list = []\n",
    "for f in instrains:\n",
    "    id = f.split(\"/\")[0].split(\".profile\")[0]\n",
    "    df = pd.read_csv(f,  sep = \"\\t\")\n",
    "    df.genome = df.genome.apply(lambda x: x.split(\".fasta\")[0])\n",
    "    df = df[[\"genome\", \"coverage\", \"breadth\", \"nucl_diversity\"]]\n",
    "    df.loc[:,\"id\"] = id\n",
    "    df_list.append(df)"
   ]
  },
  {
   "cell_type": "code",
   "execution_count": 5,
   "id": "cfb4a53f",
   "metadata": {},
   "outputs": [],
   "source": [
    "instrain_out = pd.concat(df_list).reset_index(drop = True)"
   ]
  },
  {
   "cell_type": "code",
   "execution_count": 6,
   "id": "f571b073",
   "metadata": {},
   "outputs": [],
   "source": [
    "genome_taxa = pd.read_csv(\"../genome_info.csv\")[[\"user_genome\", \"Genera\", \"Species\"]]"
   ]
  },
  {
   "cell_type": "code",
   "execution_count": 7,
   "id": "87f958dd",
   "metadata": {},
   "outputs": [],
   "source": [
    "instrain_taxa = pd.merge(genome_taxa, instrain_out, left_on = \"user_genome\", right_on = \"genome\").drop(\"user_genome\", axis = 1)"
   ]
  },
  {
   "cell_type": "code",
   "execution_count": 8,
   "id": "8c6e0c68",
   "metadata": {},
   "outputs": [],
   "source": [
    "species_pervelance = pd.read_csv(\"../../R_project/microbe_species_prevelance_df.csv\")[[\"Domain\",\"Species\", \"prevelance\"]]"
   ]
  },
  {
   "cell_type": "code",
   "execution_count": 9,
   "id": "3556dd33",
   "metadata": {},
   "outputs": [],
   "source": [
    "instrain_taxa_prevelance = pd.merge(instrain_taxa, species_pervelance, on = \"Species\")"
   ]
  },
  {
   "cell_type": "code",
   "execution_count": 10,
   "id": "e503f325",
   "metadata": {},
   "outputs": [],
   "source": [
    "metadata = pd.read_csv(\"../../R_project/metadata_ecology.csv\")"
   ]
  },
  {
   "cell_type": "code",
   "execution_count": 11,
   "id": "48961220",
   "metadata": {},
   "outputs": [],
   "source": [
    "microdiversity = pd.merge(instrain_taxa_prevelance, metadata, on = \"id\").query(\"coverage >5\")"
   ]
  },
  {
   "cell_type": "code",
   "execution_count": 12,
   "id": "fb97f338",
   "metadata": {},
   "outputs": [],
   "source": [
    "microdiversity.to_csv(\"../../R_project/microdiversity_stewart_rug4941.csv\", index = None) "
   ]
  },
  {
   "cell_type": "code",
   "execution_count": 13,
   "id": "69044e18",
   "metadata": {},
   "outputs": [],
   "source": [
    "microdiversity.to_csv(\"/fs/ess/PAS0439/MING/virome_ecology/results/R_project/microdiversity_stewart_rug4941.csv\", index = None) "
   ]
  },
  {
   "cell_type": "code",
   "execution_count": null,
   "id": "ce534178",
   "metadata": {},
   "outputs": [],
   "source": []
  }
 ],
 "metadata": {
  "kernelspec": {
   "display_name": "MYENV [/fs/ess/PAS0439/MING/conda/MYENV]",
   "language": "python",
   "name": "conda_myenv"
  },
  "language_info": {
   "codemirror_mode": {
    "name": "ipython",
    "version": 3
   },
   "file_extension": ".py",
   "mimetype": "text/x-python",
   "name": "python",
   "nbconvert_exporter": "python",
   "pygments_lexer": "ipython3",
   "version": "3.10.9"
  }
 },
 "nbformat": 4,
 "nbformat_minor": 5
}

{
 "cells": [
  {
   "cell_type": "code",
   "execution_count": 1,
   "id": "0fb24ee2",
   "metadata": {},
   "outputs": [],
   "source": [
    "import os\n",
    "import pandas as pd\n",
    "import re\n",
    "import glob\n",
    "from Bio import SeqIO"
   ]
  },
  {
   "cell_type": "code",
   "execution_count": 2,
   "id": "e1f3987b",
   "metadata": {},
   "outputs": [],
   "source": [
    "os.chdir(\"/fs/scratch/PAS0439/Ming/virome_ecology_core_prkaryotes/results/04_prophage_rumen_mags\")"
   ]
  },
  {
   "cell_type": "code",
   "execution_count": 3,
   "id": "21cc8bb3",
   "metadata": {},
   "outputs": [],
   "source": [
    "with open(\"prophage_rumen_mags_category3.txt\", \"r\") as file:\n",
    "    lines = file.readlines()\n",
    "    category3 = [f.split(\"\\n\")[0] for f in lines]\n",
    "\n",
    "with open(\"prophage_rumen_mags_category3.fasta\", 'w') as outfile:\n",
    "    records = SeqIO.parse(\"prophage_rumen_mags_vs2_vibrant_intersection.fa\", \"fasta\")\n",
    "    for record in records:\n",
    "        if record.name in category3:\n",
    "            SeqIO.write(record, outfile, \"fasta\")"
   ]
  },
  {
   "cell_type": "code",
   "execution_count": 4,
   "id": "74a51ac1",
   "metadata": {},
   "outputs": [],
   "source": [
    "with open(\"prophage_rumen_mags_category2.txt\", \"r\") as file:\n",
    "    lines = file.readlines()\n",
    "    category2 = [f.split(\"\\n\")[0] for f in lines]\n",
    "\n",
    "with open(\"prophage_rumen_mags_category2.fasta\", 'w') as outfile:\n",
    "    records = SeqIO.parse(\"prophage_rumen_mags_vs2_vibrant_intersection.fa\", \"fasta\")\n",
    "    for record in records:\n",
    "        if record.name in category2:\n",
    "            SeqIO.write(record, outfile, \"fasta\")"
   ]
  },
  {
   "cell_type": "code",
   "execution_count": 5,
   "id": "bb3c2946",
   "metadata": {},
   "outputs": [],
   "source": [
    "rumen_mags = glob.glob(\"../../../databases/rumen_mags_high_quality/dereplicated_genomes_with_taxid/*.fasta\")"
   ]
  },
  {
   "cell_type": "code",
   "execution_count": 6,
   "id": "f654952f",
   "metadata": {},
   "outputs": [],
   "source": [
    "genome_seqname = {}\n",
    "for f in rumen_mags:\n",
    "    seqname = []\n",
    "    genome = f.split(\"/\")[-1].split(\".fasta\")[0]\n",
    "    records = SeqIO.parse(f, \"fasta\")\n",
    "    for record in records:\n",
    "        seqname.append(record.name)\n",
    "    genome_seqname[genome] = seqname\n",
    "        "
   ]
  },
  {
   "cell_type": "code",
   "execution_count": 7,
   "id": "4e41a431",
   "metadata": {},
   "outputs": [],
   "source": [
    "host_taxa = pd.read_csv(\"../../../databases/rumen_mags_high_quality/mags_taxa.tsv\", sep='\\t')[[\"user_genome\", \"Phylum\", \"Class\", \"Order\", \"Family\", \"Genera\", \"Species\"]]"
   ]
  },
  {
   "cell_type": "code",
   "execution_count": 8,
   "id": "f5573eb5",
   "metadata": {},
   "outputs": [],
   "source": [
    "def return_key(x):\n",
    "    for f in range(len(list(genome_seqname.values()))):\n",
    "        if x.split(\"||\")[0] in list(genome_seqname.values())[f]:\n",
    "            return list(genome_seqname.keys())[f]\n",
    "            break\n",
    "        \n",
    "            "
   ]
  },
  {
   "cell_type": "code",
   "execution_count": 9,
   "id": "7dbaf2ba",
   "metadata": {},
   "outputs": [],
   "source": [
    "prophage_genome = {}\n",
    "for f in category3:\n",
    "    prophage_genome[f] = return_key(f)"
   ]
  },
  {
   "cell_type": "code",
   "execution_count": 10,
   "id": "bdde47eb",
   "metadata": {},
   "outputs": [],
   "source": [
    "prophage_host_df = pd.DataFrame.from_dict(prophage_genome, orient = \"index\").reset_index()\n",
    "prophage_host_df.rename(columns = {\"index\":\"prophage\", 0:\"host_genome\"}, inplace = True)"
   ]
  },
  {
   "cell_type": "code",
   "execution_count": 11,
   "id": "bb3dc948",
   "metadata": {},
   "outputs": [],
   "source": [
    "host_taxa = pd.merge(host_taxa, prophage_host_df, left_on = \"user_genome\", right_on = \"host_genome\", how = \"left\")"
   ]
  },
  {
   "cell_type": "code",
   "execution_count": 12,
   "id": "c180f7b9",
   "metadata": {},
   "outputs": [],
   "source": [
    "host_taxa[[\"Phylum\", \"Class\", \"Order\", \"Family\", \"Genera\", \"Species\"]] = host_taxa[[\"Phylum\", \"Class\", \"Order\", \"Family\", \"Genera\", \"Species\"]].applymap(lambda x: x.split(\"__\")[1])"
   ]
  },
  {
   "cell_type": "code",
   "execution_count": 13,
   "id": "943a5fc6",
   "metadata": {},
   "outputs": [],
   "source": [
    "host_taxa.drop(\"host_genome\", axis = 1, inplace = True)"
   ]
  },
  {
   "cell_type": "code",
   "execution_count": 14,
   "id": "571be07b",
   "metadata": {},
   "outputs": [],
   "source": [
    "host_taxa.to_csv(\"/fs/ess/PAS0439/MING/virome_ecology/results/rumen_mags_prophage/rumen_mags_prophage_summary.csv\", index = None)"
   ]
  },
  {
   "cell_type": "code",
   "execution_count": null,
   "id": "f54675cc",
   "metadata": {},
   "outputs": [],
   "source": []
  }
 ],
 "metadata": {
  "kernelspec": {
   "display_name": "MYENV [/fs/ess/PAS0439/MING/conda/MYENV]",
   "language": "python",
   "name": "conda_myenv"
  },
  "language_info": {
   "codemirror_mode": {
    "name": "ipython",
    "version": 3
   },
   "file_extension": ".py",
   "mimetype": "text/x-python",
   "name": "python",
   "nbconvert_exporter": "python",
   "pygments_lexer": "ipython3",
   "version": "3.10.9"
  }
 },
 "nbformat": 4,
 "nbformat_minor": 5
}

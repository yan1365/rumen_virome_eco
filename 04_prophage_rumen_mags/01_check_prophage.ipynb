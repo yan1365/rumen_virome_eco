{
 "cells": [
  {
   "cell_type": "code",
   "execution_count": 1,
   "id": "56a07d5e",
   "metadata": {},
   "outputs": [],
   "source": [
    "import os\n",
    "import pandas as pd\n",
    "import glob\n",
    "import re\n",
    "from Bio import SeqIO"
   ]
  },
  {
   "cell_type": "code",
   "execution_count": 2,
   "id": "357d938f",
   "metadata": {},
   "outputs": [],
   "source": [
    "os.chdir(\"/fs/scratch/PAS0439/Ming/virome_ecology_core_prkaryotes/results/04_prophage_rumen_mags\")"
   ]
  },
  {
   "cell_type": "code",
   "execution_count": 3,
   "id": "a6209967",
   "metadata": {},
   "outputs": [],
   "source": [
    "# category1: all viral contigs identified from MAGs \n",
    "category1 = []\n",
    "records = SeqIO.parse(\"prophage_rumen_mags_vs2_vibrant_intersection.fa\", \"fasta\")\n",
    "for record in records:\n",
    "    category1.append(record.name)\n",
    "    \n",
    "    \n"
   ]
  },
  {
   "cell_type": "code",
   "execution_count": 4,
   "id": "8b064b96",
   "metadata": {},
   "outputs": [],
   "source": [
    "prophage_checkv = []\n",
    "checkv_results = glob.glob(\"**/proviruses.fna\", recursive = True)\n",
    "for result in checkv_results:\n",
    "    records = SeqIO.parse(result, \"fasta\")\n",
    "    for record in records:\n",
    "        prophage_checkv.append(record.name)"
   ]
  },
  {
   "cell_type": "code",
   "execution_count": 5,
   "id": "e7536536",
   "metadata": {},
   "outputs": [],
   "source": [
    "vibrant_out = pd.read_csv(\"/fs/scratch/PAS0439/Ming/virome_ecology_core_prkaryotes/results/04_prophage_rumen_mags/vibrant_out/VIBRANT_prophage_rumen_mags_vs2_keep1_2/VIBRANT_results_prophage_rumen_mags_vs2_keep1_2/VIBRANT_genome_quality_prophage_rumen_mags_vs2_keep1_2.tsv\", sep = \"\\t\")"
   ]
  },
  {
   "cell_type": "code",
   "execution_count": 6,
   "id": "c6e42efd",
   "metadata": {},
   "outputs": [],
   "source": [
    "vibrant_df = pd.read_csv('vibrant_out/VIBRANT_prophage_rumen_mags_vs2_keep1_2/VIBRANT_results_prophage_rumen_mags_vs2_keep1_2/VIBRANT_genbank_table_prophage_rumen_mags_vs2_keep1_2.tsv', sep ='\\t')"
   ]
  },
  {
   "cell_type": "code",
   "execution_count": 7,
   "id": "8cfbf84a",
   "metadata": {},
   "outputs": [],
   "source": [
    "def find_marker(f):\n",
    "    if re.search(r'integrase|excisionase|repressor protein', f.lower()):\n",
    "        return True\n",
    "    else:\n",
    "        return False\n",
    "    "
   ]
  },
  {
   "cell_type": "code",
   "execution_count": 8,
   "id": "184e7d26",
   "metadata": {},
   "outputs": [],
   "source": [
    "marker_match = set([f.split(' ')[0] for f in vibrant_df[vibrant_df.name.apply(find_marker)]['scaffold'] if f in category1])"
   ]
  },
  {
   "cell_type": "code",
   "execution_count": 9,
   "id": "75bce925",
   "metadata": {},
   "outputs": [],
   "source": [
    "# category2: excised from host contigs or contain prophage marker, for viral contigs in category1\n",
    "category2 = list(set(marker_match | set(prophage_checkv)) & set(category1))"
   ]
  },
  {
   "cell_type": "code",
   "execution_count": 10,
   "id": "cab133cd",
   "metadata": {},
   "outputs": [],
   "source": [
    "# category3: excised from host contigs \n",
    "category3 = list(set(prophage_checkv) & set(category1))"
   ]
  },
  {
   "cell_type": "code",
   "execution_count": 11,
   "id": "17989cf5",
   "metadata": {},
   "outputs": [],
   "source": [
    "# category4: excised from host contigs and contain prophage marker\n",
    "#category4 = list(set(prophage_checkv) & marker_match)"
   ]
  },
  {
   "cell_type": "code",
   "execution_count": 12,
   "id": "293753d4",
   "metadata": {},
   "outputs": [],
   "source": [
    "with open(\"prophage_rumen_mags_category1.txt\", 'w') as file:\n",
    "    for f in category1:\n",
    "        file.write(f + \"\\n\")\n",
    "\n",
    "with open(\"prophage_rumen_mags_category2.txt\", 'w') as file:\n",
    "    for f in category2:\n",
    "        file.write(f + \"\\n\")\n",
    "        \n",
    "with open(\"prophage_rumen_mags_category3.txt\", 'w') as file:\n",
    "    for f in category3:\n",
    "        file.write(f + \"\\n\")   \n",
    "        \n",
    "#with open(\"prophage_rumen_mags_category4.txt\", 'w') as file:\n",
    "#    for f in category4:\n",
    "#        file.write(f + \"\\n\")   "
   ]
  },
  {
   "cell_type": "code",
   "execution_count": null,
   "id": "d526a418",
   "metadata": {},
   "outputs": [],
   "source": []
  }
 ],
 "metadata": {
  "kernelspec": {
   "display_name": "MYENV [/fs/ess/PAS0439/MING/conda/MYENV]",
   "language": "python",
   "name": "conda_myenv"
  },
  "language_info": {
   "codemirror_mode": {
    "name": "ipython",
    "version": 3
   },
   "file_extension": ".py",
   "mimetype": "text/x-python",
   "name": "python",
   "nbconvert_exporter": "python",
   "pygments_lexer": "ipython3",
   "version": "3.10.9"
  }
 },
 "nbformat": 4,
 "nbformat_minor": 5
}

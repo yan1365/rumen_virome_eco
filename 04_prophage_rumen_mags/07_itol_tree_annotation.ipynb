{
 "cells": [
  {
   "cell_type": "code",
   "execution_count": 1,
   "id": "225b0659",
   "metadata": {},
   "outputs": [],
   "source": [
    "import os\n",
    "import pandas as pd\n",
    "import re\n",
    "import seaborn as sns"
   ]
  },
  {
   "cell_type": "code",
   "execution_count": 2,
   "id": "95c87f55",
   "metadata": {},
   "outputs": [],
   "source": [
    "os.chdir(\"/fs/scratch/PAS0439/Ming/virome_ecology_core_prkaryotes/results/04_prophage_rumen_mags/\")"
   ]
  },
  {
   "cell_type": "code",
   "execution_count": 3,
   "id": "9b69093d",
   "metadata": {},
   "outputs": [],
   "source": [
    "host = pd.read_csv(\"rumen_mags_prophage_summary.csv\")\n",
    "\n",
    "unclassified = list(host.query('Species != Species').index)\n",
    "for index, row in host.iterrows():\n",
    "    if index in unclassified:\n",
    "        host.loc[index, \"Species\"] = \"Unclassfied \" + str(host.loc[index, \"Genera\"])"
   ]
  },
  {
   "cell_type": "code",
   "execution_count": 4,
   "id": "6d9a97db",
   "metadata": {},
   "outputs": [],
   "source": [
    "with open(\"prophage_rumen_mags_category3.txt\", 'r') as file:\n",
    "    category3 = file.read().split(\"\\n\")"
   ]
  },
  {
   "cell_type": "code",
   "execution_count": 5,
   "id": "342f6094",
   "metadata": {},
   "outputs": [],
   "source": [
    "core_genus = set(pd.read_csv(\"../R_project/core_genus_taxa.csv\")[\"Genera\"])\n",
    "core_species = set(pd.read_csv(\"../R_project/core_species_taxa.csv\")[\"Species\"])\n",
    "archaea_phylum = [\"Methanobacteriota\", \"Thermoplasmatota\"]"
   ]
  },
  {
   "cell_type": "code",
   "execution_count": 6,
   "id": "6310f958",
   "metadata": {},
   "outputs": [],
   "source": [
    "n_host_species_bac = len(set(host.query('Genera in @core_genus').query('Phylum not in @archaea_phylum').Species))\n",
    "n_host_genome_bac = len(set(host.query('Genera in @core_genus').query('Phylum not in @archaea_phylum').user_genome))\n",
    "n_host_genome_bac_with_prophage = len(set(host.query('Genera in @core_genus').query('Phylum not in @archaea_phylum').query('prophage in @category3').user_genome))\n",
    "n_host_species_bac_with_prophage = len(set(host.query('Genera in @core_genus').query('Phylum not in @archaea_phylum').query('prophage in @category3').Species))"
   ]
  },
  {
   "cell_type": "code",
   "execution_count": 7,
   "id": "5d54d82c",
   "metadata": {},
   "outputs": [],
   "source": [
    "host = host.query('Genera in @core_genus').query('Phylum not in @archaea_phylum')"
   ]
  },
  {
   "cell_type": "code",
   "execution_count": 8,
   "id": "f5af5d27",
   "metadata": {},
   "outputs": [
    {
     "data": {
      "text/plain": [
       "3620"
      ]
     },
     "execution_count": 8,
     "metadata": {},
     "output_type": "execute_result"
    }
   ],
   "source": [
    "n_host_genome_bac"
   ]
  },
  {
   "cell_type": "code",
   "execution_count": 9,
   "id": "aa9d4681",
   "metadata": {},
   "outputs": [
    {
     "data": {
      "text/plain": [
       "1388"
      ]
     },
     "execution_count": 9,
     "metadata": {},
     "output_type": "execute_result"
    }
   ],
   "source": [
    "n_host_species_bac"
   ]
  },
  {
   "cell_type": "code",
   "execution_count": 10,
   "id": "01cb004f",
   "metadata": {},
   "outputs": [
    {
     "data": {
      "text/plain": [
       "628"
      ]
     },
     "execution_count": 10,
     "metadata": {},
     "output_type": "execute_result"
    }
   ],
   "source": [
    "n_host_species_bac_with_prophage"
   ]
  },
  {
   "cell_type": "code",
   "execution_count": 39,
   "id": "645afe95",
   "metadata": {},
   "outputs": [
    {
     "data": {
      "text/plain": [
       "1128"
      ]
     },
     "execution_count": 39,
     "metadata": {},
     "output_type": "execute_result"
    }
   ],
   "source": [
    "n_host_genome_bac_with_prophage"
   ]
  },
  {
   "cell_type": "code",
   "execution_count": 11,
   "id": "0fd9a699",
   "metadata": {},
   "outputs": [],
   "source": [
    "n_prophage_per_species = host.groupby(\"Species\").prophage.count().reset_index()"
   ]
  },
  {
   "cell_type": "code",
   "execution_count": 12,
   "id": "ece82d74",
   "metadata": {},
   "outputs": [],
   "source": [
    "with open(\"non-cryptic-prophage.txt\", 'r') as file:\n",
    "    active_prophage = file.read().split(\"\\n\")"
   ]
  },
  {
   "cell_type": "code",
   "execution_count": 13,
   "id": "ff22912a",
   "metadata": {},
   "outputs": [],
   "source": [
    "def _(x):\n",
    "    if x in active_prophage:\n",
    "        return(True)\n",
    "    else:\n",
    "        return(False)"
   ]
  },
  {
   "cell_type": "code",
   "execution_count": 14,
   "id": "957f8ca1",
   "metadata": {},
   "outputs": [],
   "source": [
    "host.loc[host[list(host.prophage.apply(_))].index, \"non_cryptic\"] = \"True\""
   ]
  },
  {
   "cell_type": "code",
   "execution_count": 15,
   "id": "6d8ad040",
   "metadata": {},
   "outputs": [],
   "source": [
    "bac_for_tree = set(host.query('prophage in @category3').query('Phylum not in @archaea_phylum').query('Genera in @core_genus').Species)"
   ]
  },
  {
   "cell_type": "code",
   "execution_count": 16,
   "id": "f5f4f54a",
   "metadata": {},
   "outputs": [],
   "source": [
    "bac_genome_for_tree = []\n",
    "for f in bac_for_tree:\n",
    "    genome =  list(host.query('Species == @f')['user_genome'])[0] \n",
    "    bac_genome_for_tree.append(genome)"
   ]
  },
  {
   "cell_type": "code",
   "execution_count": 17,
   "id": "2c71e013",
   "metadata": {},
   "outputs": [],
   "source": [
    "bac_genome_for_tree_df =  host.query('user_genome in @bac_genome_for_tree')[['Species', 'user_genome', \"Phylum\"]].drop_duplicates()"
   ]
  },
  {
   "cell_type": "code",
   "execution_count": 18,
   "id": "cce91d17",
   "metadata": {},
   "outputs": [],
   "source": [
    "n_non_cryptic_per_species = host.groupby(\"Species\").non_cryptic.count().reset_index()"
   ]
  },
  {
   "cell_type": "code",
   "execution_count": 19,
   "id": "91826de2",
   "metadata": {},
   "outputs": [],
   "source": [
    "annotate_pre = pd.merge(bac_genome_for_tree_df, n_non_cryptic_per_species, left_on = \"Species\", right_on = \"Species\")"
   ]
  },
  {
   "cell_type": "code",
   "execution_count": 20,
   "id": "5aabdeb2",
   "metadata": {},
   "outputs": [],
   "source": [
    "tmp1 = host.query('Species in @bac_for_tree').groupby(\"Species\").prophage.count().reset_index().rename(columns = {\"prophage\":\"n_prophage\"})"
   ]
  },
  {
   "cell_type": "code",
   "execution_count": 21,
   "id": "9a6df90d",
   "metadata": {},
   "outputs": [],
   "source": [
    "tmp2 = host.query('Species in @bac_for_tree').groupby(\"Species\").user_genome.count().reset_index().rename(columns = {\"user_genome\":\"n_user_genome\"})"
   ]
  },
  {
   "cell_type": "code",
   "execution_count": 22,
   "id": "1cf14510",
   "metadata": {},
   "outputs": [],
   "source": [
    "prophage_rate = pd.merge(tmp1, tmp2, left_on = \"Species\", right_on = \"Species\")"
   ]
  },
  {
   "cell_type": "code",
   "execution_count": 23,
   "id": "3b68c871",
   "metadata": {},
   "outputs": [],
   "source": [
    "prophage_rate[\"prophage_rate\"] = prophage_rate.n_prophage/prophage_rate.n_user_genome"
   ]
  },
  {
   "cell_type": "code",
   "execution_count": 24,
   "id": "61cbc42b",
   "metadata": {},
   "outputs": [],
   "source": [
    "prophage_rate_df = prophage_rate.sort_values(\"prophage_rate\", ascending=False)"
   ]
  },
  {
   "cell_type": "code",
   "execution_count": 25,
   "id": "3e2e9438",
   "metadata": {},
   "outputs": [],
   "source": [
    "annotate_df = pd.merge(annotate_pre, prophage_rate_df, left_on = \"Species\", right_on = \"Species\" )"
   ]
  },
  {
   "cell_type": "code",
   "execution_count": 26,
   "id": "c5c9bde4",
   "metadata": {},
   "outputs": [],
   "source": [
    "annotate_df[\"non_cryptic_rate\"] = annotate_df.non_cryptic/annotate_df.n_prophage"
   ]
  },
  {
   "cell_type": "code",
   "execution_count": 27,
   "id": "ce9a3428",
   "metadata": {},
   "outputs": [
    {
     "data": {
      "text/html": [
       "<div>\n",
       "<style scoped>\n",
       "    .dataframe tbody tr th:only-of-type {\n",
       "        vertical-align: middle;\n",
       "    }\n",
       "\n",
       "    .dataframe tbody tr th {\n",
       "        vertical-align: top;\n",
       "    }\n",
       "\n",
       "    .dataframe thead th {\n",
       "        text-align: right;\n",
       "    }\n",
       "</style>\n",
       "<table border=\"1\" class=\"dataframe\">\n",
       "  <thead>\n",
       "    <tr style=\"text-align: right;\">\n",
       "      <th></th>\n",
       "      <th>Species</th>\n",
       "      <th>user_genome</th>\n",
       "      <th>Phylum</th>\n",
       "      <th>non_cryptic</th>\n",
       "      <th>n_prophage</th>\n",
       "      <th>n_user_genome</th>\n",
       "      <th>prophage_rate</th>\n",
       "      <th>non_cryptic_rate</th>\n",
       "    </tr>\n",
       "  </thead>\n",
       "  <tbody>\n",
       "    <tr>\n",
       "      <th>0</th>\n",
       "      <td>Bifidobacterium boum</td>\n",
       "      <td>Act.CBR.10825.genomic</td>\n",
       "      <td>Actinobacteriota</td>\n",
       "      <td>1</td>\n",
       "      <td>4</td>\n",
       "      <td>6</td>\n",
       "      <td>0.666667</td>\n",
       "      <td>0.25</td>\n",
       "    </tr>\n",
       "    <tr>\n",
       "      <th>1</th>\n",
       "      <td>Bifidobacterium ruminantium</td>\n",
       "      <td>Act.CBR.12664.genomic</td>\n",
       "      <td>Actinobacteriota</td>\n",
       "      <td>0</td>\n",
       "      <td>1</td>\n",
       "      <td>2</td>\n",
       "      <td>0.500000</td>\n",
       "      <td>0.00</td>\n",
       "    </tr>\n",
       "    <tr>\n",
       "      <th>2</th>\n",
       "      <td>Prevotella sp900315455</td>\n",
       "      <td>BAC.CFR.1051.genomic</td>\n",
       "      <td>Bacteroidota</td>\n",
       "      <td>0</td>\n",
       "      <td>3</td>\n",
       "      <td>7</td>\n",
       "      <td>0.428571</td>\n",
       "      <td>0.00</td>\n",
       "    </tr>\n",
       "    <tr>\n",
       "      <th>3</th>\n",
       "      <td>F23-D06 sp002392325</td>\n",
       "      <td>BAC.CFR.1052.genomic</td>\n",
       "      <td>Bacteroidota</td>\n",
       "      <td>0</td>\n",
       "      <td>2</td>\n",
       "      <td>7</td>\n",
       "      <td>0.285714</td>\n",
       "      <td>0.00</td>\n",
       "    </tr>\n",
       "    <tr>\n",
       "      <th>4</th>\n",
       "      <td>Prevotella sp902780635</td>\n",
       "      <td>BAC.CFR.1092.genomic</td>\n",
       "      <td>Bacteroidota</td>\n",
       "      <td>0</td>\n",
       "      <td>2</td>\n",
       "      <td>2</td>\n",
       "      <td>1.000000</td>\n",
       "      <td>0.00</td>\n",
       "    </tr>\n",
       "    <tr>\n",
       "      <th>...</th>\n",
       "      <td>...</td>\n",
       "      <td>...</td>\n",
       "      <td>...</td>\n",
       "      <td>...</td>\n",
       "      <td>...</td>\n",
       "      <td>...</td>\n",
       "      <td>...</td>\n",
       "      <td>...</td>\n",
       "    </tr>\n",
       "    <tr>\n",
       "      <th>623</th>\n",
       "      <td>Treponema_D sp017550685</td>\n",
       "      <td>shenzhen.Jerseybin.126</td>\n",
       "      <td>Spirochaetota</td>\n",
       "      <td>1</td>\n",
       "      <td>2</td>\n",
       "      <td>2</td>\n",
       "      <td>1.000000</td>\n",
       "      <td>0.50</td>\n",
       "    </tr>\n",
       "    <tr>\n",
       "      <th>624</th>\n",
       "      <td>Ruminococcus_E sp902773035</td>\n",
       "      <td>shenzhen.Limousinbin.1789</td>\n",
       "      <td>Firmicutes_A</td>\n",
       "      <td>0</td>\n",
       "      <td>1</td>\n",
       "      <td>1</td>\n",
       "      <td>1.000000</td>\n",
       "      <td>0.00</td>\n",
       "    </tr>\n",
       "    <tr>\n",
       "      <th>625</th>\n",
       "      <td>Prevotella sp902780025</td>\n",
       "      <td>shenzhen.Limousinbin.2246</td>\n",
       "      <td>Bacteroidota</td>\n",
       "      <td>1</td>\n",
       "      <td>2</td>\n",
       "      <td>2</td>\n",
       "      <td>1.000000</td>\n",
       "      <td>0.50</td>\n",
       "    </tr>\n",
       "    <tr>\n",
       "      <th>626</th>\n",
       "      <td>CAG-83 sp902782615</td>\n",
       "      <td>x220.59</td>\n",
       "      <td>Firmicutes_A</td>\n",
       "      <td>0</td>\n",
       "      <td>2</td>\n",
       "      <td>2</td>\n",
       "      <td>1.000000</td>\n",
       "      <td>0.00</td>\n",
       "    </tr>\n",
       "    <tr>\n",
       "      <th>627</th>\n",
       "      <td>Cryptobacteroides sp900313205</td>\n",
       "      <td>zhaofang.GRCP2-D9.46</td>\n",
       "      <td>Bacteroidota</td>\n",
       "      <td>1</td>\n",
       "      <td>1</td>\n",
       "      <td>1</td>\n",
       "      <td>1.000000</td>\n",
       "      <td>1.00</td>\n",
       "    </tr>\n",
       "  </tbody>\n",
       "</table>\n",
       "<p>628 rows × 8 columns</p>\n",
       "</div>"
      ],
      "text/plain": [
       "                           Species                user_genome  \\\n",
       "0             Bifidobacterium boum      Act.CBR.10825.genomic   \n",
       "1      Bifidobacterium ruminantium      Act.CBR.12664.genomic   \n",
       "2           Prevotella sp900315455       BAC.CFR.1051.genomic   \n",
       "3              F23-D06 sp002392325       BAC.CFR.1052.genomic   \n",
       "4           Prevotella sp902780635       BAC.CFR.1092.genomic   \n",
       "..                             ...                        ...   \n",
       "623        Treponema_D sp017550685     shenzhen.Jerseybin.126   \n",
       "624     Ruminococcus_E sp902773035  shenzhen.Limousinbin.1789   \n",
       "625         Prevotella sp902780025  shenzhen.Limousinbin.2246   \n",
       "626             CAG-83 sp902782615                    x220.59   \n",
       "627  Cryptobacteroides sp900313205       zhaofang.GRCP2-D9.46   \n",
       "\n",
       "               Phylum  non_cryptic  n_prophage  n_user_genome  prophage_rate  \\\n",
       "0    Actinobacteriota            1           4              6       0.666667   \n",
       "1    Actinobacteriota            0           1              2       0.500000   \n",
       "2        Bacteroidota            0           3              7       0.428571   \n",
       "3        Bacteroidota            0           2              7       0.285714   \n",
       "4        Bacteroidota            0           2              2       1.000000   \n",
       "..                ...          ...         ...            ...            ...   \n",
       "623     Spirochaetota            1           2              2       1.000000   \n",
       "624      Firmicutes_A            0           1              1       1.000000   \n",
       "625      Bacteroidota            1           2              2       1.000000   \n",
       "626      Firmicutes_A            0           2              2       1.000000   \n",
       "627      Bacteroidota            1           1              1       1.000000   \n",
       "\n",
       "     non_cryptic_rate  \n",
       "0                0.25  \n",
       "1                0.00  \n",
       "2                0.00  \n",
       "3                0.00  \n",
       "4                0.00  \n",
       "..                ...  \n",
       "623              0.50  \n",
       "624              0.00  \n",
       "625              0.50  \n",
       "626              0.00  \n",
       "627              1.00  \n",
       "\n",
       "[628 rows x 8 columns]"
      ]
     },
     "execution_count": 27,
     "metadata": {},
     "output_type": "execute_result"
    }
   ],
   "source": [
    "annotate_df"
   ]
  },
  {
   "cell_type": "code",
   "execution_count": 28,
   "id": "6d079c8d",
   "metadata": {},
   "outputs": [
    {
     "data": {
      "text/plain": [
       "9"
      ]
     },
     "execution_count": 28,
     "metadata": {},
     "output_type": "execute_result"
    }
   ],
   "source": [
    "len(set(annotate_df.Phylum))"
   ]
  },
  {
   "cell_type": "code",
   "execution_count": 29,
   "id": "1ece1b43",
   "metadata": {},
   "outputs": [
    {
     "name": "stdout",
     "output_type": "stream",
     "text": [
      "['#1f77b4', '#ff7f0e', '#2ca02c', '#d62728', '#9467bd', '#8c564b', '#e377c2', '#7f7f7f', '#bcbd22', '#17becf']\n"
     ]
    }
   ],
   "source": [
    "print(sns.color_palette(\"tab10\").as_hex())"
   ]
  },
  {
   "cell_type": "code",
   "execution_count": 30,
   "id": "dfdc1674",
   "metadata": {},
   "outputs": [],
   "source": [
    "palette = ['#1f77b4', '#ff7f0e', '#2ca02c', '#d62728', '#9467bd', '#8c564b', '#e377c2', '#7f7f7f', '#bcbd22', '#17becf'][0:9]"
   ]
  },
  {
   "cell_type": "code",
   "execution_count": 31,
   "id": "a284ac65",
   "metadata": {},
   "outputs": [],
   "source": [
    "phylum_color = {}\n",
    "for f in range(len(set(annotate_df.Phylum))):\n",
    "    phylum_color[list(set(annotate_df.Phylum))[f]] = palette[f]\n",
    "    "
   ]
  },
  {
   "cell_type": "code",
   "execution_count": 32,
   "id": "86eac230",
   "metadata": {},
   "outputs": [
    {
     "data": {
      "text/plain": [
       "{'Actinobacteriota': '#1f77b4',\n",
       " 'Proteobacteria': '#ff7f0e',\n",
       " 'Firmicutes': '#2ca02c',\n",
       " 'Firmicutes_A': '#d62728',\n",
       " 'Firmicutes_C': '#9467bd',\n",
       " 'Fibrobacterota': '#8c564b',\n",
       " 'Bacteroidota': '#e377c2',\n",
       " 'Spirochaetota': '#7f7f7f',\n",
       " 'Desulfobacterota_I': '#bcbd22'}"
      ]
     },
     "execution_count": 32,
     "metadata": {},
     "output_type": "execute_result"
    }
   ],
   "source": [
    "phylum_color"
   ]
  },
  {
   "cell_type": "code",
   "execution_count": 33,
   "id": "b442dddb",
   "metadata": {},
   "outputs": [],
   "source": [
    "for index, row in annotate_df.iterrows():\n",
    "    phylum = row[\"Phylum\"]\n",
    "    Species = row[\"Species\"]\n",
    "    color = phylum_color[phylum]\n",
    "    annotate_df.loc[index, \"Phylum_color\"] = color\n",
    "    if Species in core_species:\n",
    "        annotate_df.loc[index, \"core_species\"] = True\n",
    "    else:\n",
    "        annotate_df.loc[index, \"core_species\"] = False\n",
    "        "
   ]
  },
  {
   "cell_type": "code",
   "execution_count": 34,
   "id": "141c1b92",
   "metadata": {},
   "outputs": [
    {
     "data": {
      "text/html": [
       "<div>\n",
       "<style scoped>\n",
       "    .dataframe tbody tr th:only-of-type {\n",
       "        vertical-align: middle;\n",
       "    }\n",
       "\n",
       "    .dataframe tbody tr th {\n",
       "        vertical-align: top;\n",
       "    }\n",
       "\n",
       "    .dataframe thead th {\n",
       "        text-align: right;\n",
       "    }\n",
       "</style>\n",
       "<table border=\"1\" class=\"dataframe\">\n",
       "  <thead>\n",
       "    <tr style=\"text-align: right;\">\n",
       "      <th></th>\n",
       "      <th>Species</th>\n",
       "      <th>user_genome</th>\n",
       "      <th>Phylum</th>\n",
       "      <th>non_cryptic</th>\n",
       "      <th>n_prophage</th>\n",
       "      <th>n_user_genome</th>\n",
       "      <th>prophage_rate</th>\n",
       "      <th>non_cryptic_rate</th>\n",
       "      <th>Phylum_color</th>\n",
       "      <th>core_species</th>\n",
       "    </tr>\n",
       "  </thead>\n",
       "  <tbody>\n",
       "    <tr>\n",
       "      <th>0</th>\n",
       "      <td>Bifidobacterium boum</td>\n",
       "      <td>Act.CBR.10825.genomic</td>\n",
       "      <td>Actinobacteriota</td>\n",
       "      <td>1</td>\n",
       "      <td>4</td>\n",
       "      <td>6</td>\n",
       "      <td>0.666667</td>\n",
       "      <td>0.25</td>\n",
       "      <td>#1f77b4</td>\n",
       "      <td>False</td>\n",
       "    </tr>\n",
       "    <tr>\n",
       "      <th>1</th>\n",
       "      <td>Bifidobacterium ruminantium</td>\n",
       "      <td>Act.CBR.12664.genomic</td>\n",
       "      <td>Actinobacteriota</td>\n",
       "      <td>0</td>\n",
       "      <td>1</td>\n",
       "      <td>2</td>\n",
       "      <td>0.500000</td>\n",
       "      <td>0.00</td>\n",
       "      <td>#1f77b4</td>\n",
       "      <td>False</td>\n",
       "    </tr>\n",
       "    <tr>\n",
       "      <th>2</th>\n",
       "      <td>Prevotella sp900315455</td>\n",
       "      <td>BAC.CFR.1051.genomic</td>\n",
       "      <td>Bacteroidota</td>\n",
       "      <td>0</td>\n",
       "      <td>3</td>\n",
       "      <td>7</td>\n",
       "      <td>0.428571</td>\n",
       "      <td>0.00</td>\n",
       "      <td>#e377c2</td>\n",
       "      <td>True</td>\n",
       "    </tr>\n",
       "    <tr>\n",
       "      <th>3</th>\n",
       "      <td>F23-D06 sp002392325</td>\n",
       "      <td>BAC.CFR.1052.genomic</td>\n",
       "      <td>Bacteroidota</td>\n",
       "      <td>0</td>\n",
       "      <td>2</td>\n",
       "      <td>7</td>\n",
       "      <td>0.285714</td>\n",
       "      <td>0.00</td>\n",
       "      <td>#e377c2</td>\n",
       "      <td>False</td>\n",
       "    </tr>\n",
       "    <tr>\n",
       "      <th>4</th>\n",
       "      <td>Prevotella sp902780635</td>\n",
       "      <td>BAC.CFR.1092.genomic</td>\n",
       "      <td>Bacteroidota</td>\n",
       "      <td>0</td>\n",
       "      <td>2</td>\n",
       "      <td>2</td>\n",
       "      <td>1.000000</td>\n",
       "      <td>0.00</td>\n",
       "      <td>#e377c2</td>\n",
       "      <td>False</td>\n",
       "    </tr>\n",
       "    <tr>\n",
       "      <th>...</th>\n",
       "      <td>...</td>\n",
       "      <td>...</td>\n",
       "      <td>...</td>\n",
       "      <td>...</td>\n",
       "      <td>...</td>\n",
       "      <td>...</td>\n",
       "      <td>...</td>\n",
       "      <td>...</td>\n",
       "      <td>...</td>\n",
       "      <td>...</td>\n",
       "    </tr>\n",
       "    <tr>\n",
       "      <th>623</th>\n",
       "      <td>Treponema_D sp017550685</td>\n",
       "      <td>shenzhen.Jerseybin.126</td>\n",
       "      <td>Spirochaetota</td>\n",
       "      <td>1</td>\n",
       "      <td>2</td>\n",
       "      <td>2</td>\n",
       "      <td>1.000000</td>\n",
       "      <td>0.50</td>\n",
       "      <td>#7f7f7f</td>\n",
       "      <td>False</td>\n",
       "    </tr>\n",
       "    <tr>\n",
       "      <th>624</th>\n",
       "      <td>Ruminococcus_E sp902773035</td>\n",
       "      <td>shenzhen.Limousinbin.1789</td>\n",
       "      <td>Firmicutes_A</td>\n",
       "      <td>0</td>\n",
       "      <td>1</td>\n",
       "      <td>1</td>\n",
       "      <td>1.000000</td>\n",
       "      <td>0.00</td>\n",
       "      <td>#d62728</td>\n",
       "      <td>False</td>\n",
       "    </tr>\n",
       "    <tr>\n",
       "      <th>625</th>\n",
       "      <td>Prevotella sp902780025</td>\n",
       "      <td>shenzhen.Limousinbin.2246</td>\n",
       "      <td>Bacteroidota</td>\n",
       "      <td>1</td>\n",
       "      <td>2</td>\n",
       "      <td>2</td>\n",
       "      <td>1.000000</td>\n",
       "      <td>0.50</td>\n",
       "      <td>#e377c2</td>\n",
       "      <td>True</td>\n",
       "    </tr>\n",
       "    <tr>\n",
       "      <th>626</th>\n",
       "      <td>CAG-83 sp902782615</td>\n",
       "      <td>x220.59</td>\n",
       "      <td>Firmicutes_A</td>\n",
       "      <td>0</td>\n",
       "      <td>2</td>\n",
       "      <td>2</td>\n",
       "      <td>1.000000</td>\n",
       "      <td>0.00</td>\n",
       "      <td>#d62728</td>\n",
       "      <td>False</td>\n",
       "    </tr>\n",
       "    <tr>\n",
       "      <th>627</th>\n",
       "      <td>Cryptobacteroides sp900313205</td>\n",
       "      <td>zhaofang.GRCP2-D9.46</td>\n",
       "      <td>Bacteroidota</td>\n",
       "      <td>1</td>\n",
       "      <td>1</td>\n",
       "      <td>1</td>\n",
       "      <td>1.000000</td>\n",
       "      <td>1.00</td>\n",
       "      <td>#e377c2</td>\n",
       "      <td>False</td>\n",
       "    </tr>\n",
       "  </tbody>\n",
       "</table>\n",
       "<p>628 rows × 10 columns</p>\n",
       "</div>"
      ],
      "text/plain": [
       "                           Species                user_genome  \\\n",
       "0             Bifidobacterium boum      Act.CBR.10825.genomic   \n",
       "1      Bifidobacterium ruminantium      Act.CBR.12664.genomic   \n",
       "2           Prevotella sp900315455       BAC.CFR.1051.genomic   \n",
       "3              F23-D06 sp002392325       BAC.CFR.1052.genomic   \n",
       "4           Prevotella sp902780635       BAC.CFR.1092.genomic   \n",
       "..                             ...                        ...   \n",
       "623        Treponema_D sp017550685     shenzhen.Jerseybin.126   \n",
       "624     Ruminococcus_E sp902773035  shenzhen.Limousinbin.1789   \n",
       "625         Prevotella sp902780025  shenzhen.Limousinbin.2246   \n",
       "626             CAG-83 sp902782615                    x220.59   \n",
       "627  Cryptobacteroides sp900313205       zhaofang.GRCP2-D9.46   \n",
       "\n",
       "               Phylum  non_cryptic  n_prophage  n_user_genome  prophage_rate  \\\n",
       "0    Actinobacteriota            1           4              6       0.666667   \n",
       "1    Actinobacteriota            0           1              2       0.500000   \n",
       "2        Bacteroidota            0           3              7       0.428571   \n",
       "3        Bacteroidota            0           2              7       0.285714   \n",
       "4        Bacteroidota            0           2              2       1.000000   \n",
       "..                ...          ...         ...            ...            ...   \n",
       "623     Spirochaetota            1           2              2       1.000000   \n",
       "624      Firmicutes_A            0           1              1       1.000000   \n",
       "625      Bacteroidota            1           2              2       1.000000   \n",
       "626      Firmicutes_A            0           2              2       1.000000   \n",
       "627      Bacteroidota            1           1              1       1.000000   \n",
       "\n",
       "     non_cryptic_rate Phylum_color core_species  \n",
       "0                0.25      #1f77b4        False  \n",
       "1                0.00      #1f77b4        False  \n",
       "2                0.00      #e377c2         True  \n",
       "3                0.00      #e377c2        False  \n",
       "4                0.00      #e377c2        False  \n",
       "..                ...          ...          ...  \n",
       "623              0.50      #7f7f7f        False  \n",
       "624              0.00      #d62728        False  \n",
       "625              0.50      #e377c2         True  \n",
       "626              0.00      #d62728        False  \n",
       "627              1.00      #e377c2        False  \n",
       "\n",
       "[628 rows x 10 columns]"
      ]
     },
     "execution_count": 34,
     "metadata": {},
     "output_type": "execute_result"
    }
   ],
   "source": [
    "annotate_df"
   ]
  },
  {
   "cell_type": "code",
   "execution_count": 35,
   "id": "4aa737f4",
   "metadata": {},
   "outputs": [],
   "source": [
    "with open(\"itol_host_phylum_color_strip.txt\", \"w\") as outfile:\n",
    "    with open(\"itol_host_phylum_color_strip_template.txt\", \"r\") as infile:\n",
    "        outfile.write(infile.read())\n",
    "        outfile.write('\\n')\n",
    "        for index, row in annotate_df.iterrows():\n",
    "            user_genome = row['user_genome']\n",
    "            phylum = row['Phylum_color']\n",
    "            outfile.write(user_genome + ' ' + phylum + \"\\n\")"
   ]
  },
  {
   "cell_type": "code",
   "execution_count": 36,
   "id": "f4c5bbc0",
   "metadata": {},
   "outputs": [],
   "source": [
    "with open(\"itol_prophage_per_genome.txt\", \"w\") as outfile:\n",
    "    with open(\"itol_prophage_gradient_template.txt\", \"r\") as infile:\n",
    "        outfile.write(infile.read())\n",
    "        outfile.write('\\n')\n",
    "        for index, row in annotate_df.iterrows():\n",
    "            user_genome = row['user_genome']\n",
    "            prophage_rate = row['prophage_rate']\n",
    "            outfile.write(user_genome + ' ' + str(prophage_rate) + \"\\n\")"
   ]
  },
  {
   "cell_type": "code",
   "execution_count": 37,
   "id": "2c9a5bbc",
   "metadata": {},
   "outputs": [],
   "source": [
    "with open(\"itol_non_cryptic_per_prophage.txt\", \"w\") as outfile:\n",
    "    with open(\"itol_prophage_gradient_template.txt\", \"r\") as infile:\n",
    "        outfile.write(infile.read())\n",
    "        outfile.write('\\n')\n",
    "        for index, row in annotate_df.iterrows():\n",
    "            user_genome = row['user_genome']\n",
    "            non_cryptic_rate = row['non_cryptic_rate']\n",
    "            outfile.write(user_genome + ' ' + str(non_cryptic_rate) + \"\\n\")"
   ]
  },
  {
   "cell_type": "code",
   "execution_count": 38,
   "id": "c12878f3",
   "metadata": {},
   "outputs": [],
   "source": [
    "with open(\"itol_prophage_core_species.txt\", \"w\") as outfile:\n",
    "    with open(\"itol_prophage_core_species_template.txt\", \"r\") as infile:\n",
    "        outfile.write(infile.read())\n",
    "        outfile.write('\\n')\n",
    "        for index, row in annotate_df.iterrows():\n",
    "            user_genome = row['user_genome']\n",
    "            core_species = row['core_species']\n",
    "            if core_species:\n",
    "                outfile.write(user_genome + ',' + str(1) + \"\\n\")"
   ]
  },
  {
   "cell_type": "code",
   "execution_count": null,
   "id": "d8ce414b",
   "metadata": {},
   "outputs": [],
   "source": []
  }
 ],
 "metadata": {
  "kernelspec": {
   "display_name": "MYENV [/fs/ess/PAS0439/MING/conda/MYENV]",
   "language": "python",
   "name": "conda_myenv"
  },
  "language_info": {
   "codemirror_mode": {
    "name": "ipython",
    "version": 3
   },
   "file_extension": ".py",
   "mimetype": "text/x-python",
   "name": "python",
   "nbconvert_exporter": "python",
   "pygments_lexer": "ipython3",
   "version": "3.10.9"
  }
 },
 "nbformat": 4,
 "nbformat_minor": 5
}

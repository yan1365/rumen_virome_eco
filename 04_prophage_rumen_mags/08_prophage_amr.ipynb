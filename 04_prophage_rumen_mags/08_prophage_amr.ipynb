{
 "cells": [
  {
   "cell_type": "code",
   "execution_count": 1,
   "id": "6910ea67",
   "metadata": {},
   "outputs": [],
   "source": [
    "import os\n",
    "import pandas as pd\n",
    "import re"
   ]
  },
  {
   "cell_type": "code",
   "execution_count": 2,
   "id": "1e59759b",
   "metadata": {},
   "outputs": [],
   "source": [
    "os.chdir(\"/fs/scratch/PAS0439/Ming/virome_ecology_core_prkaryotes/results/04_prophage_rumen_mags/amr/\")"
   ]
  },
  {
   "cell_type": "code",
   "execution_count": 3,
   "id": "e5322930",
   "metadata": {},
   "outputs": [],
   "source": [
    "card = pd.read_csv(\"prophage_rumen_mags_category2_card.bln\", sep = \"\\t\", names = 'qseqid sseqid pident length qlen slen mismatch gapopen qstart qend sstart send evalue bitscore'.split(' '))"
   ]
  },
  {
   "cell_type": "code",
   "execution_count": 4,
   "id": "2835a3a9",
   "metadata": {},
   "outputs": [],
   "source": [
    "hits = card.query('(qend - qstart)/slen > 0.4').query('pident > 80')"
   ]
  },
  {
   "cell_type": "code",
   "execution_count": 5,
   "id": "c9301576",
   "metadata": {},
   "outputs": [],
   "source": [
    "contigs_hits =[re.search(r\"(.*)_[0-9]*\", f).group(1) for f in list(set(hits.qseqid))]"
   ]
  },
  {
   "cell_type": "code",
   "execution_count": 6,
   "id": "a025d557",
   "metadata": {},
   "outputs": [],
   "source": [
    "with open('amr_containing_contigs.txt', 'w') as outfile:\n",
    "    for f in contigs_hits:\n",
    "        outfile.write(f + '\\n')"
   ]
  },
  {
   "cell_type": "code",
   "execution_count": null,
   "id": "b8cbed75",
   "metadata": {},
   "outputs": [],
   "source": []
  }
 ],
 "metadata": {
  "kernelspec": {
   "display_name": "MYENV [/fs/ess/PAS0439/MING/conda/MYENV]",
   "language": "python",
   "name": "conda_myenv"
  },
  "language_info": {
   "codemirror_mode": {
    "name": "ipython",
    "version": 3
   },
   "file_extension": ".py",
   "mimetype": "text/x-python",
   "name": "python",
   "nbconvert_exporter": "python",
   "pygments_lexer": "ipython3",
   "version": "3.10.9"
  }
 },
 "nbformat": 4,
 "nbformat_minor": 5
}

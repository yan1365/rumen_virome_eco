{
 "cells": [
  {
   "cell_type": "markdown",
   "id": "d421c2bf",
   "metadata": {},
   "source": [
    "## Customize file required for Propagate\n",
    "\n"
   ]
  },
  {
   "cell_type": "code",
   "execution_count": 1,
   "id": "ba21564a",
   "metadata": {},
   "outputs": [],
   "source": [
    "import os\n",
    "import glob\n",
    "import pandas as pd\n",
    "import re\n",
    "from Bio import SeqIO\n",
    "from Bio.Seq import Seq\n",
    "from Bio.SeqRecord import SeqRecord"
   ]
  },
  {
   "cell_type": "code",
   "execution_count": 2,
   "id": "f330768b",
   "metadata": {},
   "outputs": [],
   "source": [
    "os.chdir(\"/fs/scratch/PAS0439/Ming/virome_ecology_core_prkaryotes/results/04_prophage_rumen_mags\")"
   ]
  },
  {
   "cell_type": "code",
   "execution_count": 3,
   "id": "718541fd",
   "metadata": {},
   "outputs": [],
   "source": [
    "df = pd.read_csv(\"rumen_mags_prophage_summary.csv\")"
   ]
  },
  {
   "cell_type": "markdown",
   "id": "bf2e1448",
   "metadata": {},
   "source": [
    "*Propagate input fasta definition line cannot have pipe symbol so modifiy original Vibrant output*"
   ]
  },
  {
   "cell_type": "code",
   "execution_count": 4,
   "id": "b8c0ca9a",
   "metadata": {},
   "outputs": [],
   "source": [
    "category3 = []\n",
    "with open(\"prophage_rumen_mags_category3.txt\", 'r') as file:\n",
    "    lines = file.readlines()\n",
    "    for f in lines:\n",
    "        category3.append(f.strip())"
   ]
  },
  {
   "cell_type": "code",
   "execution_count": 5,
   "id": "0d269fc0",
   "metadata": {},
   "outputs": [],
   "source": [
    "checkv_prophage = glob.glob(\"checkv/**/proviruses.fna\", recursive = True)"
   ]
  },
  {
   "cell_type": "code",
   "execution_count": 6,
   "id": "da9cc001",
   "metadata": {},
   "outputs": [],
   "source": [
    "prophage_checkv = {}\n",
    "for f in checkv_prophage:\n",
    "    records = SeqIO.parse(f, \"fasta\")\n",
    "    for record in records:\n",
    "        range = {}\n",
    "        if record.name in category3:\n",
    "            prophage = record.name\n",
    "            range[\"start\"] = record.description.split(' ')[1].split('/')[0].split('-')[0]\n",
    "            range[\"end\"] = record.description.split(' ')[1].split('/')[0].split('-')[1]\n",
    "            prophage_checkv[prophage] = range"
   ]
  },
  {
   "cell_type": "code",
   "execution_count": 7,
   "id": "7a43e092",
   "metadata": {},
   "outputs": [],
   "source": [
    "propagate_df = pd.DataFrame.from_dict(prophage_checkv, orient = \"index\").reset_index()"
   ]
  },
  {
   "cell_type": "code",
   "execution_count": 8,
   "id": "dc248d86",
   "metadata": {},
   "outputs": [],
   "source": [
    "for index, row in propagate_df.iterrows():\n",
    "    prophage = row[\"index\"]\n",
    "    scaffold = prophage.split('|')[0]\n",
    "    propagate_df.loc[index, \"scaffold\"] = scaffold"
   ]
  },
  {
   "cell_type": "code",
   "execution_count": 9,
   "id": "78ae230e",
   "metadata": {},
   "outputs": [],
   "source": [
    "propagate_df.rename(columns = {\"index\":\"fragment\", \"end\":\"stop\"}, inplace = True)"
   ]
  },
  {
   "cell_type": "code",
   "execution_count": 10,
   "id": "7f3cafef",
   "metadata": {},
   "outputs": [],
   "source": [
    "propagate_df = propagate_df[[\"scaffold\", \"fragment\", \"start\", \"stop\"]]"
   ]
  },
  {
   "cell_type": "code",
   "execution_count": 11,
   "id": "86c3f047",
   "metadata": {},
   "outputs": [],
   "source": [
    "host_genome = pd.read_csv(\"rumen_mags_prophage_summary.csv\")"
   ]
  },
  {
   "cell_type": "code",
   "execution_count": 12,
   "id": "6bbe6a02",
   "metadata": {},
   "outputs": [],
   "source": [
    "host_df = pd.merge(propagate_df, host_genome, left_on = \"fragment\", right_on = \"prophage\", how = \"left\").drop(\"prophage\", axis = 1)"
   ]
  },
  {
   "cell_type": "code",
   "execution_count": 13,
   "id": "b1ceea8e",
   "metadata": {},
   "outputs": [],
   "source": [
    "host_genomes = ['../../../databases/rumen_mags_high_quality/dereplicated_genomes_with_taxid/' + f + '.fasta' for f in host_df.host_genome]"
   ]
  },
  {
   "cell_type": "code",
   "execution_count": 14,
   "id": "13b30607",
   "metadata": {},
   "outputs": [],
   "source": [
    "with open(\"rumen_mags_prophage_scaffolds_for_propogate.fasta\", 'w') as outfile:\n",
    "    for genome in host_genomes:\n",
    "        _ = genome.split('/')[-1].split('.fasta')[0]\n",
    "        records = SeqIO.parse(genome, \"fasta\")\n",
    "        seq = list(host_df.query('host_genome == @_')['scaffold'])[0]     \n",
    "        for record in records:\n",
    "            if record.description.split(\" \")[1] == seq:\n",
    "                newrecord = SeqRecord(\n",
    "                Seq(record.seq),\n",
    "                id=seq,\n",
    "                description = \"\")\n",
    "                \n",
    "                SeqIO.write(newrecord, outfile, \"fasta\")\n",
    "                break\n",
    "    "
   ]
  },
  {
   "cell_type": "code",
   "execution_count": 15,
   "id": "e4a3dab4",
   "metadata": {},
   "outputs": [],
   "source": [
    "propagate_df.to_csv(\"prophage_scaffold_coordinates_for_propogate.tsv\", sep = \"\\t\", index = None)"
   ]
  },
  {
   "cell_type": "code",
   "execution_count": null,
   "id": "0b676d73",
   "metadata": {},
   "outputs": [],
   "source": []
  }
 ],
 "metadata": {
  "kernelspec": {
   "display_name": "MYENV [/fs/ess/PAS0439/MING/conda/MYENV]",
   "language": "python",
   "name": "conda_myenv"
  },
  "language_info": {
   "codemirror_mode": {
    "name": "ipython",
    "version": 3
   },
   "file_extension": ".py",
   "mimetype": "text/x-python",
   "name": "python",
   "nbconvert_exporter": "python",
   "pygments_lexer": "ipython3",
   "version": "3.10.4"
  }
 },
 "nbformat": 4,
 "nbformat_minor": 5
}

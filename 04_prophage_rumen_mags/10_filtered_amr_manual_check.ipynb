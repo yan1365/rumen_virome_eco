{
 "cells": [
  {
   "cell_type": "code",
   "execution_count": 1,
   "id": "00cda874",
   "metadata": {},
   "outputs": [],
   "source": [
    "import os\n",
    "import pandas as pd\n",
    "import re"
   ]
  },
  {
   "cell_type": "code",
   "execution_count": 2,
   "id": "9c8534c1",
   "metadata": {},
   "outputs": [],
   "source": [
    "os.chdir(\"/fs/scratch/PAS0439/Ming/virome_ecology_core_prkaryotes/results/04_prophage_rumen_mags/\")"
   ]
  },
  {
   "cell_type": "code",
   "execution_count": 3,
   "id": "ebbd4ac3",
   "metadata": {},
   "outputs": [],
   "source": [
    "with open(\"prophage_amr_contigs_final.txt\", 'r') as file:\n",
    "    amr = file.read().split(\"\\n\")"
   ]
  },
  {
   "cell_type": "code",
   "execution_count": 4,
   "id": "edcbc740",
   "metadata": {},
   "outputs": [],
   "source": [
    "amr_out = pd.read_csv(\"amr/prophage_rumen_mags_category2_card.bln\", sep = '\\t', names = 'qseqid sseqid pident length qlen slen mismatch gapopen qstart qend sstart send evalue bitscore'.split(' '))"
   ]
  },
  {
   "cell_type": "code",
   "execution_count": 5,
   "id": "de7668bb",
   "metadata": {},
   "outputs": [],
   "source": [
    "def seperate_id(x):\n",
    "    out = re.search(r'(.*)_([0-9])+', x)\n",
    "    contig = out.group(1)\n",
    "    gene_id = out.group(2)\n",
    "    return contig, gene_id\n"
   ]
  },
  {
   "cell_type": "code",
   "execution_count": 6,
   "id": "61204457",
   "metadata": {},
   "outputs": [],
   "source": [
    "for index, row in amr_out.iterrows():\n",
    "    amr_out.loc[index, [\"contig\", \"gene_id\"]] = seperate_id(row[\"qseqid\"])"
   ]
  },
  {
   "cell_type": "markdown",
   "id": "d65c141f",
   "metadata": {},
   "source": [
    "# Due to multiple hits (similar amr), only choose amr with the highest sequence identity as the true hit"
   ]
  },
  {
   "cell_type": "code",
   "execution_count": 7,
   "id": "e4278237",
   "metadata": {},
   "outputs": [
    {
     "data": {
      "text/html": [
       "<div>\n",
       "<style scoped>\n",
       "    .dataframe tbody tr th:only-of-type {\n",
       "        vertical-align: middle;\n",
       "    }\n",
       "\n",
       "    .dataframe tbody tr th {\n",
       "        vertical-align: top;\n",
       "    }\n",
       "\n",
       "    .dataframe thead th {\n",
       "        text-align: right;\n",
       "    }\n",
       "</style>\n",
       "<table border=\"1\" class=\"dataframe\">\n",
       "  <thead>\n",
       "    <tr style=\"text-align: right;\">\n",
       "      <th></th>\n",
       "      <th>qseqid</th>\n",
       "      <th>sseqid</th>\n",
       "      <th>pident</th>\n",
       "      <th>length</th>\n",
       "      <th>qlen</th>\n",
       "      <th>slen</th>\n",
       "      <th>mismatch</th>\n",
       "      <th>gapopen</th>\n",
       "      <th>qstart</th>\n",
       "      <th>qend</th>\n",
       "      <th>sstart</th>\n",
       "      <th>send</th>\n",
       "      <th>evalue</th>\n",
       "      <th>bitscore</th>\n",
       "      <th>contig</th>\n",
       "      <th>gene_id</th>\n",
       "    </tr>\n",
       "  </thead>\n",
       "  <tbody>\n",
       "    <tr>\n",
       "      <th>2624</th>\n",
       "      <td>Bacteria_Denitrobacterium_detoxificans_DSM_218...</td>\n",
       "      <td>gb|CAA10975.1|ARO:3000194|tet(W)</td>\n",
       "      <td>96.870</td>\n",
       "      <td>639</td>\n",
       "      <td>640</td>\n",
       "      <td>639</td>\n",
       "      <td>20</td>\n",
       "      <td>0</td>\n",
       "      <td>1</td>\n",
       "      <td>639</td>\n",
       "      <td>1</td>\n",
       "      <td>639</td>\n",
       "      <td>0.000000e+00</td>\n",
       "      <td>1275.0</td>\n",
       "      <td>Bacteria_Denitrobacterium_detoxificans_DSM_218...</td>\n",
       "      <td>1</td>\n",
       "    </tr>\n",
       "    <tr>\n",
       "      <th>1322</th>\n",
       "      <td>MAG-4657__scaffold_NODE_6_length_190522_cov_17...</td>\n",
       "      <td>gb|ABA71726.1|ARO:3004253|vanU_in_vanG_cl</td>\n",
       "      <td>53.968</td>\n",
       "      <td>63</td>\n",
       "      <td>68</td>\n",
       "      <td>75</td>\n",
       "      <td>29</td>\n",
       "      <td>0</td>\n",
       "      <td>1</td>\n",
       "      <td>63</td>\n",
       "      <td>1</td>\n",
       "      <td>63</td>\n",
       "      <td>2.410000e-23</td>\n",
       "      <td>81.3</td>\n",
       "      <td>MAG-4657__scaffold_NODE_6_length_190522_cov_17...</td>\n",
       "      <td>0</td>\n",
       "    </tr>\n",
       "    <tr>\n",
       "      <th>1317</th>\n",
       "      <td>MAG-4657__scaffold_NODE_6_length_190522_cov_17...</td>\n",
       "      <td>gb|AAY32951.1|ARO:3002837|lnuC</td>\n",
       "      <td>91.463</td>\n",
       "      <td>164</td>\n",
       "      <td>165</td>\n",
       "      <td>164</td>\n",
       "      <td>14</td>\n",
       "      <td>0</td>\n",
       "      <td>1</td>\n",
       "      <td>164</td>\n",
       "      <td>1</td>\n",
       "      <td>164</td>\n",
       "      <td>4.190000e-113</td>\n",
       "      <td>315.0</td>\n",
       "      <td>MAG-4657__scaffold_NODE_6_length_190522_cov_17...</td>\n",
       "      <td>9</td>\n",
       "    </tr>\n",
       "  </tbody>\n",
       "</table>\n",
       "</div>"
      ],
      "text/plain": [
       "                                                 qseqid  \\\n",
       "2624  Bacteria_Denitrobacterium_detoxificans_DSM_218...   \n",
       "1322  MAG-4657__scaffold_NODE_6_length_190522_cov_17...   \n",
       "1317  MAG-4657__scaffold_NODE_6_length_190522_cov_17...   \n",
       "\n",
       "                                         sseqid  pident  length  qlen  slen  \\\n",
       "2624           gb|CAA10975.1|ARO:3000194|tet(W)  96.870     639   640   639   \n",
       "1322  gb|ABA71726.1|ARO:3004253|vanU_in_vanG_cl  53.968      63    68    75   \n",
       "1317             gb|AAY32951.1|ARO:3002837|lnuC  91.463     164   165   164   \n",
       "\n",
       "      mismatch  gapopen  qstart  qend  sstart  send         evalue  bitscore  \\\n",
       "2624        20        0       1   639       1   639   0.000000e+00    1275.0   \n",
       "1322        29        0       1    63       1    63   2.410000e-23      81.3   \n",
       "1317        14        0       1   164       1   164  4.190000e-113     315.0   \n",
       "\n",
       "                                                 contig gene_id  \n",
       "2624  Bacteria_Denitrobacterium_detoxificans_DSM_218...       1  \n",
       "1322  MAG-4657__scaffold_NODE_6_length_190522_cov_17...       0  \n",
       "1317  MAG-4657__scaffold_NODE_6_length_190522_cov_17...       9  "
      ]
     },
     "execution_count": 7,
     "metadata": {},
     "output_type": "execute_result"
    }
   ],
   "source": [
    "amr_out.loc[amr_out.query('contig in @amr').groupby(['contig',  'gene_id']).pident.idxmax()]"
   ]
  },
  {
   "cell_type": "code",
   "execution_count": 8,
   "id": "8d3f66d0",
   "metadata": {},
   "outputs": [],
   "source": [
    "genomic_context = pd.read_csv(\"prophage_amr_for_manual_curation.tsv\", sep = \"\\t\")"
   ]
  },
  {
   "cell_type": "code",
   "execution_count": 9,
   "id": "1f06e81b",
   "metadata": {},
   "outputs": [],
   "source": [
    "pd.set_option('display.max_rows', None)"
   ]
  },
  {
   "cell_type": "code",
   "execution_count": 10,
   "id": "9cf5fdd2",
   "metadata": {},
   "outputs": [],
   "source": [
    "genomic_context.query('fasta in @amr').to_csv('amr_genomic_context_manual_check.tsv', sep = \"\\t\", index = None)"
   ]
  },
  {
   "cell_type": "code",
   "execution_count": null,
   "id": "ffd1fa6a",
   "metadata": {},
   "outputs": [],
   "source": []
  }
 ],
 "metadata": {
  "kernelspec": {
   "display_name": "MYENV [/fs/ess/PAS0439/MING/conda/MYENV]",
   "language": "python",
   "name": "conda_myenv"
  },
  "language_info": {
   "codemirror_mode": {
    "name": "ipython",
    "version": 3
   },
   "file_extension": ".py",
   "mimetype": "text/x-python",
   "name": "python",
   "nbconvert_exporter": "python",
   "pygments_lexer": "ipython3",
   "version": "3.10.9"
  }
 },
 "nbformat": 4,
 "nbformat_minor": 5
}

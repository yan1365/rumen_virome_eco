{
 "cells": [
  {
   "cell_type": "markdown",
   "id": "2f87c728",
   "metadata": {},
   "source": [
    "# Non-cryptic if found active in any sample by Propogate"
   ]
  },
  {
   "cell_type": "code",
   "execution_count": 1,
   "id": "6a29ec65",
   "metadata": {},
   "outputs": [],
   "source": [
    "import os\n",
    "import glob\n",
    "import pandas as pd\n",
    "import re\n",
    "from Bio import SeqIO"
   ]
  },
  {
   "cell_type": "code",
   "execution_count": 2,
   "id": "19672720",
   "metadata": {},
   "outputs": [],
   "source": [
    "os.chdir(\"/fs/scratch/PAS0439/Ming/virome_ecology_core_prkaryotes/results/04_prophage_rumen_mags/propogate_out\")"
   ]
  },
  {
   "cell_type": "code",
   "execution_count": 3,
   "id": "13e64de8",
   "metadata": {},
   "outputs": [],
   "source": [
    "propogate_out = glob.glob(\"**/*.tsv\")"
   ]
  },
  {
   "cell_type": "code",
   "execution_count": 4,
   "id": "a573b2fb",
   "metadata": {},
   "outputs": [],
   "source": [
    "active_phage = []\n",
    "for f in propogate_out:\n",
    "    df = pd.read_csv(f\"{f}\", sep = '\\t')\n",
    "    active_phage = active_phage + list(df.query('active == \"active\"')['prophage'])\n",
    "   "
   ]
  },
  {
   "cell_type": "code",
   "execution_count": 5,
   "id": "d72a3891",
   "metadata": {},
   "outputs": [],
   "source": [
    "with open(\"../non-cryptic-prophage.txt\", 'w') as outfile:\n",
    "    for f in set(active_phage):\n",
    "        outfile.write(f + \"\\n\")"
   ]
  },
  {
   "cell_type": "code",
   "execution_count": 6,
   "id": "16ead84a",
   "metadata": {},
   "outputs": [],
   "source": [
    "with open(\"../non-cryptic-prophage.fasta\", 'w') as outfile:\n",
    "    records = SeqIO.parse(\"../prophage_rumen_mags_category2.fasta\", \"fasta\")\n",
    "    for record in records:\n",
    "        if record.name in set(active_phage):\n",
    "            SeqIO.write(record, outfile, \"fasta\")"
   ]
  }
 ],
 "metadata": {
  "kernelspec": {
   "display_name": "MYENV [/fs/ess/PAS0439/MING/conda/MYENV]",
   "language": "python",
   "name": "conda_myenv"
  },
  "language_info": {
   "codemirror_mode": {
    "name": "ipython",
    "version": 3
   },
   "file_extension": ".py",
   "mimetype": "text/x-python",
   "name": "python",
   "nbconvert_exporter": "python",
   "pygments_lexer": "ipython3",
   "version": "3.10.4"
  }
 },
 "nbformat": 4,
 "nbformat_minor": 5
}

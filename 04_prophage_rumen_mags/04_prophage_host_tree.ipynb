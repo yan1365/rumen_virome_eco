{
 "cells": [
  {
   "cell_type": "code",
   "execution_count": 1,
   "id": "8e5c776e",
   "metadata": {},
   "outputs": [],
   "source": [
    "import os\n",
    "import pandas as pd\n",
    "import re\n",
    "import glob\n",
    "import shutil "
   ]
  },
  {
   "cell_type": "code",
   "execution_count": 2,
   "id": "507aa1b6",
   "metadata": {},
   "outputs": [],
   "source": [
    "os.chdir(\"/fs/scratch/PAS0439/Ming/virome_ecology_core_prkaryotes/results/04_prophage_rumen_mags\")"
   ]
  },
  {
   "cell_type": "code",
   "execution_count": 3,
   "id": "c86edddc",
   "metadata": {},
   "outputs": [],
   "source": [
    "host = pd.read_csv(\"rumen_mags_prophage_summary.csv\")\n",
    "\n",
    "unclassified = list(host.query('Species != Species').index)\n",
    "for index, row in host.iterrows():\n",
    "    if index in unclassified:\n",
    "        host.loc[index, \"Species\"] = \"Unclassfied \" + str(host.loc[index, \"Genera\"])"
   ]
  },
  {
   "cell_type": "code",
   "execution_count": 4,
   "id": "c15f5590",
   "metadata": {},
   "outputs": [],
   "source": [
    "with open(\"prophage_rumen_mags_category3.txt\", 'r') as file:\n",
    "    category3 = file.read().split(\"\\n\")"
   ]
  },
  {
   "cell_type": "code",
   "execution_count": 5,
   "id": "c669167d",
   "metadata": {},
   "outputs": [],
   "source": [
    "core_genus = set(pd.read_csv(\"../R_project/core_genus_taxa.csv\")[\"Genera\"])\n",
    "archaea_phylum = [\"Methanobacteriota\", \"Thermoplasmatota\"]"
   ]
  },
  {
   "cell_type": "code",
   "execution_count": 6,
   "id": "5e10169d",
   "metadata": {},
   "outputs": [],
   "source": [
    "bac_for_tree = set(host.query('prophage in @category3').query('Phylum not in @archaea_phylum').query('Genera in @core_genus').Species)"
   ]
  },
  {
   "cell_type": "code",
   "execution_count": 7,
   "id": "163aae58",
   "metadata": {},
   "outputs": [],
   "source": [
    "arc_for_tree = set(host.query('Phylum in @archaea_phylum').Species)"
   ]
  },
  {
   "cell_type": "code",
   "execution_count": 8,
   "id": "2615228c",
   "metadata": {},
   "outputs": [],
   "source": [
    "bac_genome_for_tree = []\n",
    "for f in bac_for_tree:\n",
    "    genome = \"/fs/scratch/PAS0439/Ming/databases/rumen_mags_high_quality/dereplicated_genomes_with_taxid/\" + list(host.query('Species == @f')['user_genome'])[0] + \".fasta\"\n",
    "    bac_genome_for_tree.append(genome)\n"
   ]
  },
  {
   "cell_type": "code",
   "execution_count": 9,
   "id": "c6d37d2a",
   "metadata": {},
   "outputs": [],
   "source": [
    "arc_genome_for_tree = []\n",
    "for f in arc_for_tree:\n",
    "    genome = \"/fs/scratch/PAS0439/Ming/databases/rumen_mags_high_quality/dereplicated_genomes_with_taxid/\" + list(host.query('Species == @f')['user_genome'])[0] + \".fasta\"\n",
    "    arc_genome_for_tree.append(genome)"
   ]
  },
  {
   "cell_type": "code",
   "execution_count": 10,
   "id": "eca18ddc",
   "metadata": {},
   "outputs": [],
   "source": [
    "for f in arc_genome_for_tree:\n",
    "    shutil.copy(f, \"prophage_host_tree/archaea/\")"
   ]
  },
  {
   "cell_type": "code",
   "execution_count": 11,
   "id": "0b8d6b20",
   "metadata": {},
   "outputs": [],
   "source": [
    "for f in bac_genome_for_tree:\n",
    "    shutil.copy(f, \"prophage_host_tree/bacteria/\")"
   ]
  },
  {
   "cell_type": "code",
   "execution_count": null,
   "id": "b1f15eb0",
   "metadata": {},
   "outputs": [],
   "source": [
    "host"
   ]
  },
  {
   "cell_type": "code",
   "execution_count": null,
   "id": "8cb68a75",
   "metadata": {},
   "outputs": [],
   "source": []
  }
 ],
 "metadata": {
  "kernelspec": {
   "display_name": "MYENV [/fs/ess/PAS0439/MING/conda/MYENV]",
   "language": "python",
   "name": "conda_myenv"
  },
  "language_info": {
   "codemirror_mode": {
    "name": "ipython",
    "version": 3
   },
   "file_extension": ".py",
   "mimetype": "text/x-python",
   "name": "python",
   "nbconvert_exporter": "python",
   "pygments_lexer": "ipython3",
   "version": "3.10.4"
  }
 },
 "nbformat": 4,
 "nbformat_minor": 5
}

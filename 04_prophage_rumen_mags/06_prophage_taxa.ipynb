{
 "cells": [
  {
   "cell_type": "code",
   "execution_count": 1,
   "id": "5c101c21",
   "metadata": {},
   "outputs": [],
   "source": [
    "import os\n",
    "import pandas as pd\n",
    "import re\n",
    "from Bio import SeqIO"
   ]
  },
  {
   "cell_type": "code",
   "execution_count": 2,
   "id": "661825cf",
   "metadata": {},
   "outputs": [],
   "source": [
    "os.chdir(\"/fs/scratch/PAS0439/Ming/virome_ecology_core_prkaryotes/results/04_prophage_rumen_mags/\")"
   ]
  },
  {
   "cell_type": "code",
   "execution_count": 3,
   "id": "9f59828a",
   "metadata": {},
   "outputs": [],
   "source": [
    "taxa = pd.read_csv(\"prophage_votus_taxa_phagcn_old_ictv.csv\")[[\"contig_name\", \"prediction\"]]"
   ]
  },
  {
   "cell_type": "code",
   "execution_count": 4,
   "id": "ebb08938",
   "metadata": {},
   "outputs": [],
   "source": [
    "taxa_df = taxa.groupby('prediction').prediction.count().reset_index(name = \"n\")"
   ]
  },
  {
   "cell_type": "code",
   "execution_count": 5,
   "id": "c8f3a445",
   "metadata": {},
   "outputs": [],
   "source": [
    "votus = []\n",
    "records = SeqIO.parse(\"prophage_rumen_mags_vOTUs.fa\", \"fasta\")\n",
    "for record in records:\n",
    "    votus.append(record.id)\n",
    "n_votus = len(votus)    "
   ]
  },
  {
   "cell_type": "code",
   "execution_count": 6,
   "id": "81b3a72f",
   "metadata": {},
   "outputs": [],
   "source": [
    "taxa_df.loc[6, \"prediction\"] = \"Unassigned\"\n",
    "taxa_df.loc[6, \"n\"] = n_votus - len(taxa)\n"
   ]
  },
  {
   "cell_type": "code",
   "execution_count": 7,
   "id": "11255758",
   "metadata": {},
   "outputs": [
    {
     "data": {
      "text/html": [
       "<div>\n",
       "<style scoped>\n",
       "    .dataframe tbody tr th:only-of-type {\n",
       "        vertical-align: middle;\n",
       "    }\n",
       "\n",
       "    .dataframe tbody tr th {\n",
       "        vertical-align: top;\n",
       "    }\n",
       "\n",
       "    .dataframe thead th {\n",
       "        text-align: right;\n",
       "    }\n",
       "</style>\n",
       "<table border=\"1\" class=\"dataframe\">\n",
       "  <thead>\n",
       "    <tr style=\"text-align: right;\">\n",
       "      <th></th>\n",
       "      <th>prediction</th>\n",
       "      <th>n</th>\n",
       "    </tr>\n",
       "  </thead>\n",
       "  <tbody>\n",
       "    <tr>\n",
       "      <th>0</th>\n",
       "      <td>Ackermannviridae</td>\n",
       "      <td>1.0</td>\n",
       "    </tr>\n",
       "    <tr>\n",
       "      <th>1</th>\n",
       "      <td>Autographiviridae</td>\n",
       "      <td>1.0</td>\n",
       "    </tr>\n",
       "    <tr>\n",
       "      <th>2</th>\n",
       "      <td>Herelleviridae</td>\n",
       "      <td>3.0</td>\n",
       "    </tr>\n",
       "    <tr>\n",
       "      <th>3</th>\n",
       "      <td>Myoviridae</td>\n",
       "      <td>1411.0</td>\n",
       "    </tr>\n",
       "    <tr>\n",
       "      <th>4</th>\n",
       "      <td>Podoviridae</td>\n",
       "      <td>138.0</td>\n",
       "    </tr>\n",
       "    <tr>\n",
       "      <th>5</th>\n",
       "      <td>Siphoviridae</td>\n",
       "      <td>1341.0</td>\n",
       "    </tr>\n",
       "    <tr>\n",
       "      <th>6</th>\n",
       "      <td>Unassigned</td>\n",
       "      <td>904.0</td>\n",
       "    </tr>\n",
       "  </tbody>\n",
       "</table>\n",
       "</div>"
      ],
      "text/plain": [
       "          prediction       n\n",
       "0   Ackermannviridae     1.0\n",
       "1  Autographiviridae     1.0\n",
       "2     Herelleviridae     3.0\n",
       "3         Myoviridae  1411.0\n",
       "4        Podoviridae   138.0\n",
       "5       Siphoviridae  1341.0\n",
       "6         Unassigned   904.0"
      ]
     },
     "execution_count": 7,
     "metadata": {},
     "output_type": "execute_result"
    }
   ],
   "source": [
    "taxa_df"
   ]
  },
  {
   "cell_type": "code",
   "execution_count": 8,
   "id": "20981ca8",
   "metadata": {},
   "outputs": [],
   "source": [
    "with open(\"non-cryptic-prophage.txt\", 'r') as file:\n",
    "    non_cryptic = file.read().split(\"\\n\")"
   ]
  },
  {
   "cell_type": "code",
   "execution_count": 9,
   "id": "7bdc2d9e",
   "metadata": {},
   "outputs": [],
   "source": [
    "n_non_cryptic = len(non_cryptic)"
   ]
  },
  {
   "cell_type": "code",
   "execution_count": 10,
   "id": "55a61959",
   "metadata": {},
   "outputs": [],
   "source": [
    "host = pd.read_csv(\"rumen_mags_prophage_summary.csv\")\n"
   ]
  },
  {
   "cell_type": "code",
   "execution_count": 11,
   "id": "1993701f",
   "metadata": {},
   "outputs": [],
   "source": [
    "n_genome = len(set(host.user_genome))"
   ]
  },
  {
   "cell_type": "code",
   "execution_count": 12,
   "id": "b02cde53",
   "metadata": {},
   "outputs": [],
   "source": [
    "n_species =len(set(host.Species))"
   ]
  },
  {
   "cell_type": "code",
   "execution_count": 13,
   "id": "f62d5a68",
   "metadata": {},
   "outputs": [],
   "source": [
    "with open(\"prophage_rumen_mags_category2.txt\", 'r') as file:\n",
    "    category3 = file.read().split(\"\\n\")\n",
    "    \n",
    "n_prophage = len(category3)"
   ]
  },
  {
   "cell_type": "code",
   "execution_count": 14,
   "id": "2190399b",
   "metadata": {},
   "outputs": [],
   "source": [
    "n_species_with_prophage = len(set(host.query('prophage in @category3').Species))"
   ]
  },
  {
   "cell_type": "code",
   "execution_count": 15,
   "id": "16d07b80",
   "metadata": {},
   "outputs": [],
   "source": [
    "n_genome_with_prophage = len(set(host.query('prophage in @category3').user_genome))"
   ]
  },
  {
   "cell_type": "code",
   "execution_count": 16,
   "id": "036f19fe",
   "metadata": {},
   "outputs": [
    {
     "name": "stdout",
     "output_type": "stream",
     "text": [
      "4139 prophage (492 non-cryptic) out of 7176 host genomes\n",
      "1417 host species with prophage out of 2791 host species\n"
     ]
    }
   ],
   "source": [
    "print(f'{n_prophage} prophage ({n_non_cryptic} non-cryptic) out of {n_genome} host genomes')\n",
    "print(f'{n_species_with_prophage} host species with prophage out of {n_species} host species')"
   ]
  },
  {
   "cell_type": "code",
   "execution_count": 27,
   "id": "ecaaa0f9",
   "metadata": {},
   "outputs": [],
   "source": [
    "prophage_prevalence = host.groupby(\"user_genome\").prophage.count().reset_index().groupby('prophage').prophage.count().reset_index(name = \"prevelance\").rename(columns = {\"prophage\": \"prophage_per_genome\"})"
   ]
  },
  {
   "cell_type": "code",
   "execution_count": 28,
   "id": "08f52712",
   "metadata": {},
   "outputs": [
    {
     "data": {
      "text/html": [
       "<div>\n",
       "<style scoped>\n",
       "    .dataframe tbody tr th:only-of-type {\n",
       "        vertical-align: middle;\n",
       "    }\n",
       "\n",
       "    .dataframe tbody tr th {\n",
       "        vertical-align: top;\n",
       "    }\n",
       "\n",
       "    .dataframe thead th {\n",
       "        text-align: right;\n",
       "    }\n",
       "</style>\n",
       "<table border=\"1\" class=\"dataframe\">\n",
       "  <thead>\n",
       "    <tr style=\"text-align: right;\">\n",
       "      <th></th>\n",
       "      <th>prophage_per_genome</th>\n",
       "      <th>prevelance</th>\n",
       "    </tr>\n",
       "  </thead>\n",
       "  <tbody>\n",
       "    <tr>\n",
       "      <th>0</th>\n",
       "      <td>0</td>\n",
       "      <td>3781</td>\n",
       "    </tr>\n",
       "    <tr>\n",
       "      <th>1</th>\n",
       "      <td>1</td>\n",
       "      <td>2130</td>\n",
       "    </tr>\n",
       "    <tr>\n",
       "      <th>2</th>\n",
       "      <td>2</td>\n",
       "      <td>809</td>\n",
       "    </tr>\n",
       "    <tr>\n",
       "      <th>3</th>\n",
       "      <td>3</td>\n",
       "      <td>297</td>\n",
       "    </tr>\n",
       "    <tr>\n",
       "      <th>4</th>\n",
       "      <td>4</td>\n",
       "      <td>88</td>\n",
       "    </tr>\n",
       "    <tr>\n",
       "      <th>5</th>\n",
       "      <td>5</td>\n",
       "      <td>39</td>\n",
       "    </tr>\n",
       "    <tr>\n",
       "      <th>6</th>\n",
       "      <td>6</td>\n",
       "      <td>23</td>\n",
       "    </tr>\n",
       "    <tr>\n",
       "      <th>7</th>\n",
       "      <td>7</td>\n",
       "      <td>2</td>\n",
       "    </tr>\n",
       "    <tr>\n",
       "      <th>8</th>\n",
       "      <td>8</td>\n",
       "      <td>3</td>\n",
       "    </tr>\n",
       "    <tr>\n",
       "      <th>9</th>\n",
       "      <td>9</td>\n",
       "      <td>3</td>\n",
       "    </tr>\n",
       "    <tr>\n",
       "      <th>10</th>\n",
       "      <td>10</td>\n",
       "      <td>1</td>\n",
       "    </tr>\n",
       "  </tbody>\n",
       "</table>\n",
       "</div>"
      ],
      "text/plain": [
       "    prophage_per_genome  prevelance\n",
       "0                     0        3781\n",
       "1                     1        2130\n",
       "2                     2         809\n",
       "3                     3         297\n",
       "4                     4          88\n",
       "5                     5          39\n",
       "6                     6          23\n",
       "7                     7           2\n",
       "8                     8           3\n",
       "9                     9           3\n",
       "10                   10           1"
      ]
     },
     "execution_count": 28,
     "metadata": {},
     "output_type": "execute_result"
    }
   ],
   "source": [
    "prophage_prevalence"
   ]
  },
  {
   "cell_type": "code",
   "execution_count": 29,
   "id": "0c49d172",
   "metadata": {},
   "outputs": [],
   "source": [
    "prophage_prevalence.to_csv(\"prophage_prevalence.csv\", index = None)\n",
    "taxa_df.to_csv(\"prophage_taxa_df.csv\", index = None)"
   ]
  },
  {
   "cell_type": "code",
   "execution_count": null,
   "id": "02bc30ed",
   "metadata": {},
   "outputs": [],
   "source": []
  }
 ],
 "metadata": {
  "kernelspec": {
   "display_name": "MYENV [/fs/ess/PAS0439/MING/conda/MYENV]",
   "language": "python",
   "name": "conda_myenv"
  },
  "language_info": {
   "codemirror_mode": {
    "name": "ipython",
    "version": 3
   },
   "file_extension": ".py",
   "mimetype": "text/x-python",
   "name": "python",
   "nbconvert_exporter": "python",
   "pygments_lexer": "ipython3",
   "version": "3.10.4"
  }
 },
 "nbformat": 4,
 "nbformat_minor": 5
}

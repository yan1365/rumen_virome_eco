{
 "cells": [
  {
   "cell_type": "code",
   "execution_count": 1,
   "id": "875dbf58",
   "metadata": {},
   "outputs": [],
   "source": [
    "import os\n",
    "import re\n",
    "import glob\n",
    "import pandas as pd"
   ]
  },
  {
   "cell_type": "code",
   "execution_count": 2,
   "id": "cc76d093",
   "metadata": {},
   "outputs": [],
   "source": [
    "os.chdir(\"/fs/scratch/PAS0439/Ming/virome_ecology_core_prkaryotes/results/04_prophage_rumen_mags/\")"
   ]
  },
  {
   "cell_type": "code",
   "execution_count": 3,
   "id": "aa817076",
   "metadata": {},
   "outputs": [],
   "source": [
    "dramv_res = glob.glob('dram_annotation/**/annotations.tsv', recursive = True)"
   ]
  },
  {
   "cell_type": "code",
   "execution_count": 4,
   "id": "c5f4fe84",
   "metadata": {},
   "outputs": [],
   "source": [
    "dramv_df = []\n",
    "for file in dramv_res:\n",
    "    df = pd.read_csv(file, sep = '\\t')\n",
    "    dramv_df.append(df)"
   ]
  },
  {
   "cell_type": "code",
   "execution_count": 5,
   "id": "549bf9b1",
   "metadata": {},
   "outputs": [],
   "source": [
    "vcontigs_for_manual_curation = pd.concat(dramv_df)"
   ]
  },
  {
   "cell_type": "code",
   "execution_count": 6,
   "id": "198475ef",
   "metadata": {},
   "outputs": [],
   "source": [
    "amg_containing = list(set(vcontigs_for_manual_curation.query('amg_flags == amg_flags')[vcontigs_for_manual_curation.query('amg_flags == amg_flags').amg_flags.str.contains(\"M\")].query('auxiliary_score < 4').fasta))"
   ]
  },
  {
   "cell_type": "code",
   "execution_count": 7,
   "id": "a0477dc0",
   "metadata": {},
   "outputs": [],
   "source": [
    "vcontigs_for_manual_curation.rename(columns = {'Unnamed: 0': 'gene_name'}, inplace = True)\n",
    "vcontigs_for_manual_curation.drop(\"scaffold\", axis = 1, inplace = True)"
   ]
  },
  {
   "cell_type": "code",
   "execution_count": 8,
   "id": "cd9ed105",
   "metadata": {},
   "outputs": [],
   "source": [
    "with open(\"prophage_rumen_mags_category2.txt\", \"r\") as file:\n",
    "    category2 = file.read().split('\\n')"
   ]
  },
  {
   "cell_type": "code",
   "execution_count": 9,
   "id": "f1b4c33e",
   "metadata": {},
   "outputs": [],
   "source": [
    "with open(\"amr/amr_containing_contigs.txt\", 'r') as file:\n",
    "    amr_contigs = file.read().split(\"\\n\")"
   ]
  },
  {
   "cell_type": "code",
   "execution_count": 10,
   "id": "e95ba359",
   "metadata": {},
   "outputs": [],
   "source": [
    "with open(\"non-cryptic-prophage.txt\", 'r') as file:\n",
    "    active_prophage = file.read().split(\"\\n\")"
   ]
  },
  {
   "cell_type": "code",
   "execution_count": 11,
   "id": "e8bd8313",
   "metadata": {},
   "outputs": [],
   "source": [
    "prophage_hgt_for_manual_curation = vcontigs_for_manual_curation.query('fasta in @amg_containing').query('fasta in @category2').query('fasta not in @active_prophage')\n",
    "prophage_amr_for_manual_curation = vcontigs_for_manual_curation.query('fasta in @amr_contigs')\n",
    "prophage_amg_for_manual_curation = vcontigs_for_manual_curation.query('fasta in @amg_containing').query('fasta in @active_prophage')"
   ]
  },
  {
   "cell_type": "code",
   "execution_count": 12,
   "id": "671f9efa",
   "metadata": {},
   "outputs": [
    {
     "name": "stderr",
     "output_type": "stream",
     "text": [
      "/tmp/slurmtmp.15368821/ipykernel_70899/1728240214.py:2: SettingWithCopyWarning: \n",
      "A value is trying to be set on a copy of a slice from a DataFrame.\n",
      "Try using .loc[row_indexer,col_indexer] = value instead\n",
      "\n",
      "See the caveats in the documentation: https://pandas.pydata.org/pandas-docs/stable/user_guide/indexing.html#returning-a-view-versus-a-copy\n",
      "  prophage_amr_for_manual_curation.loc[:, 'hits'] = prophage_amr_for_manual_curation['kegg_hit'] + prophage_amr_for_manual_curation['cazy_hits']  + prophage_amr_for_manual_curation['viral_hit']  + prophage_amr_for_manual_curation['pfam_hits'] + prophage_amr_for_manual_curation['vogdb_hit']\n"
     ]
    }
   ],
   "source": [
    "prophage_hgt_for_manual_curation.loc[:, 'hits'] = prophage_hgt_for_manual_curation['kegg_hit'] + prophage_hgt_for_manual_curation['cazy_hits']  + prophage_hgt_for_manual_curation['viral_hit']  + prophage_hgt_for_manual_curation['pfam_hits'] + prophage_hgt_for_manual_curation['vogdb_hit']\n",
    "prophage_amr_for_manual_curation.loc[:, 'hits'] = prophage_amr_for_manual_curation['kegg_hit'] + prophage_amr_for_manual_curation['cazy_hits']  + prophage_amr_for_manual_curation['viral_hit']  + prophage_amr_for_manual_curation['pfam_hits'] + prophage_amr_for_manual_curation['vogdb_hit']\n",
    "prophage_amg_for_manual_curation.loc[:, 'hits'] = prophage_amg_for_manual_curation['kegg_hit'] + prophage_amg_for_manual_curation['cazy_hits']  + prophage_amg_for_manual_curation['viral_hit']  + prophage_amg_for_manual_curation['pfam_hits'] + prophage_amg_for_manual_curation['vogdb_hit']"
   ]
  },
  {
   "cell_type": "code",
   "execution_count": 13,
   "id": "bffb01c1",
   "metadata": {},
   "outputs": [],
   "source": [
    "lps_filtering_hgt = prophage_hgt_for_manual_curation[[\"fasta\", \"gene_position\",  \"end_position\", \"hits\"]].query('hits == hits')\n",
    "lps_filtering_amr = prophage_amr_for_manual_curation[[\"fasta\", \"gene_position\",  \"end_position\", \"hits\"]].query('hits == hits')\n",
    "lps_filtering_amg = prophage_amg_for_manual_curation[[\"fasta\", \"gene_position\",  \"end_position\", \"hits\"]].query('hits == hits')"
   ]
  },
  {
   "cell_type": "code",
   "execution_count": 14,
   "id": "3a0566cf",
   "metadata": {},
   "outputs": [],
   "source": [
    "lps_keywords = ['carbohydrate kinase', 'carbohydrate-kinase', 'glycosyltransferase family 11 ', 'glycosyltransferase family 25', 'glycosyl transferase family 11 ', 'glycosyl transferase family 25', 'Glycosyltransferase family 11 ', 'Glycosyltransferase family 25', 'GT11 ', 'GT25', 'nucleotide sugar epimerase', 'nucleotide sugar-epimerase', 'nucleotide-sugar epimerase', 'nucleotide-sugar-epimerase', 'nucleotidyltransferase', 'nucleotidyl transferase', 'nucleotidyl-transferase', 'plasmid stability', 'endonuclease']"
   ]
  },
  {
   "cell_type": "code",
   "execution_count": 15,
   "id": "eaa0bdd4",
   "metadata": {},
   "outputs": [],
   "source": [
    "def filter_lps(df):\n",
    "    furthur_check = []\n",
    "    for index, row in df.iterrows():\n",
    "        hits = row['hits']\n",
    "        votu = row['fasta']\n",
    "        if votu in furthur_check:\n",
    "            continue\n",
    "        else:\n",
    "            for lps in lps_keywords:\n",
    "\n",
    "                if lps.lower() in hits.lower():\n",
    "                    furthur_check.append(votu)\n",
    "                else:\n",
    "                    continue\n",
    "    \n",
    "    return furthur_check\n",
    "                    "
   ]
  },
  {
   "cell_type": "code",
   "execution_count": 16,
   "id": "c24890e0",
   "metadata": {},
   "outputs": [
    {
     "data": {
      "text/plain": [
       "[]"
      ]
     },
     "execution_count": 16,
     "metadata": {},
     "output_type": "execute_result"
    }
   ],
   "source": [
    "filter_lps(lps_filtering_hgt)"
   ]
  },
  {
   "cell_type": "code",
   "execution_count": 17,
   "id": "0cbba06c",
   "metadata": {},
   "outputs": [
    {
     "data": {
      "text/plain": [
       "[]"
      ]
     },
     "execution_count": 17,
     "metadata": {},
     "output_type": "execute_result"
    }
   ],
   "source": [
    "filter_lps(lps_filtering_amr)"
   ]
  },
  {
   "cell_type": "code",
   "execution_count": 18,
   "id": "18df9606",
   "metadata": {},
   "outputs": [
    {
     "data": {
      "text/plain": [
       "[]"
      ]
     },
     "execution_count": 18,
     "metadata": {},
     "output_type": "execute_result"
    }
   ],
   "source": [
    "filter_lps(lps_filtering_amg)"
   ]
  },
  {
   "cell_type": "markdown",
   "id": "3fd41475",
   "metadata": {},
   "source": [
    "# No LPS-containing viral contigs"
   ]
  },
  {
   "cell_type": "code",
   "execution_count": 19,
   "id": "80e4b4bd",
   "metadata": {},
   "outputs": [],
   "source": [
    "prophage_amg_for_manual_curation_reformat = prophage_amg_for_manual_curation.get(['gene_name', 'fasta', 'kegg_hit', 'viral_hit', 'pfam_hits'])\n",
    "prophage_amr_for_manual_curation_reformat = prophage_amr_for_manual_curation.get(['gene_name', 'fasta', 'kegg_hit', 'viral_hit', 'pfam_hits'])\n",
    "prophage_hgt_for_manual_curation_reformat = prophage_hgt_for_manual_curation.get(['gene_name', 'fasta', 'kegg_hit', 'viral_hit', 'pfam_hits'])"
   ]
  },
  {
   "cell_type": "code",
   "execution_count": 20,
   "id": "ef82847e",
   "metadata": {},
   "outputs": [],
   "source": [
    "group_amg = prophage_amg_for_manual_curation_reformat.groupby('fasta').groups.keys()\n",
    "group_amr = prophage_amr_for_manual_curation_reformat.groupby('fasta').groups.keys()\n",
    "group_hgt = prophage_hgt_for_manual_curation_reformat.groupby('fasta').groups.keys()\n"
   ]
  },
  {
   "cell_type": "code",
   "execution_count": 21,
   "id": "b40aff8a",
   "metadata": {},
   "outputs": [],
   "source": [
    "import re\n",
    "def find_text(ser, string):\n",
    "    res = ser[ser.str.contains(string, flags=re.IGNORECASE)]\n",
    "    if res.empty:\n",
    "        res = ''\n",
    "    else:\n",
    "        res = str(list(res))\n",
    "    return res\n",
    "def get_hallmark(df):\n",
    "    kegg_hit = df['kegg_hit'].fillna('')\n",
    "    viral_hit = df['viral_hit'].fillna('')\n",
    "    pfam_hit =  df['pfam_hits'].fillna('')\n",
    "    \n",
    "       \n",
    "    kegg_capsid = find_text(kegg_hit, 'capsid')\n",
    "    kegg_portal = find_text(kegg_hit, 'portal')\n",
    "    kegg_coat = find_text(kegg_hit, 'portal')\n",
    "    kegg_baseplate = find_text(kegg_hit, 'baseplate')\n",
    "    kegg_head = find_text(kegg_hit, 'head')\n",
    "    kegg_tail = find_text(kegg_hit, 'tail')\n",
    "    kegg_tail_fiber = find_text(kegg_hit, 'tail fiber')\n",
    "    kegg_terminase = find_text(kegg_hit, 'terminase')\n",
    "    kegg_integrase = find_text(kegg_hit, 'integrase')\n",
    "    kegg_transposase = find_text(kegg_hit, 'transposase')\n",
    "    \n",
    "    viral_capsid = find_text(viral_hit, 'capsid')\n",
    "    viral_portal = find_text(viral_hit, 'portal')\n",
    "    viral_coat = find_text(viral_hit, 'portal')\n",
    "    viral_baseplate = find_text(viral_hit, 'baseplate')\n",
    "    viral_head = find_text(viral_hit, 'head')\n",
    "    viral_tail = find_text(viral_hit, 'tail')\n",
    "    viral_tail_fiber = find_text(viral_hit, 'tail fiber')\n",
    "    viral_terminase = find_text(viral_hit, 'terminase')\n",
    "    viral_integrase = find_text(viral_hit, 'integrase')\n",
    "    viral_transposase = find_text(viral_hit, 'transposase')\n",
    "    \n",
    "    pfam_capsid = find_text(pfam_hit, 'capsid')\n",
    "    pfam_portal = find_text(pfam_hit, 'portal')\n",
    "    pfam_coat = find_text(pfam_hit, 'portal')\n",
    "    pfam_baseplate = find_text(pfam_hit, 'baseplate')\n",
    "    pfam_head = find_text(pfam_hit, 'head')\n",
    "    pfam_tail = find_text(pfam_hit, 'tail')\n",
    "    pfam_tail_fiber = find_text(pfam_hit, 'tail fiber')\n",
    "    pfam_terminase = find_text(pfam_hit, 'terminase')\n",
    "    pfam_integrase = find_text(pfam_hit, 'integrase')\n",
    "    pfam_transposase = find_text(pfam_hit, 'transposase')\n",
    "    \n",
    "    all_structure = kegg_capsid + kegg_portal + kegg_coat + kegg_baseplate + kegg_head + kegg_tail + kegg_tail_fiber + kegg_terminase + kegg_integrase + kegg_transposase + viral_capsid + viral_portal + viral_coat + viral_baseplate + viral_head + viral_tail + viral_tail_fiber + viral_terminase + viral_integrase + viral_transposase + pfam_capsid + pfam_portal + pfam_coat + pfam_baseplate + pfam_head + pfam_tail + pfam_tail_fiber + pfam_terminase + pfam_integrase + pfam_transposase\n",
    "    structure_no_tail_no_integrase = kegg_capsid + kegg_portal + kegg_coat + kegg_baseplate + kegg_head + kegg_terminase + viral_capsid + viral_portal + viral_coat + viral_baseplate + viral_head + viral_terminase + pfam_capsid + pfam_portal + pfam_coat + pfam_baseplate + pfam_head + pfam_terminase \n",
    "    integrase_or_transposase =  kegg_integrase + kegg_transposase + viral_integrase + viral_transposase + pfam_integrase + pfam_transposase\n",
    "        \n",
    "    return all_structure, structure_no_tail_no_integrase, integrase_or_transposase, kegg_capsid, kegg_portal, kegg_coat, kegg_baseplate, kegg_head, kegg_tail, kegg_tail_fiber, kegg_terminase, kegg_integrase, kegg_transposase, viral_capsid, viral_portal, viral_coat, viral_baseplate, viral_head, viral_tail, viral_tail_fiber, viral_terminase, viral_integrase, viral_transposase, pfam_capsid, pfam_portal, pfam_coat, pfam_baseplate, pfam_head, pfam_tail, pfam_tail_fiber, pfam_terminase, pfam_integrase, pfam_transposase\n",
    "        \n",
    "    \n",
    "    "
   ]
  },
  {
   "cell_type": "code",
   "execution_count": 22,
   "id": "28bf3d2e",
   "metadata": {},
   "outputs": [],
   "source": [
    "dramv_amg_for_manual_curation_final = pd.DataFrame(list(prophage_amg_for_manual_curation_reformat.groupby('fasta').apply(get_hallmark)), index = group_amg, columns = [\"all_structure\", \"structure_no_tail_no_integrase\", \"integrase_or_transposase\", 'kegg_capsid', 'kegg_portal', 'kegg_coat', 'kegg_baseplate', 'kegg_head', 'kegg_tail', 'kegg_tail_fiber', 'kegg_terminase', 'kegg_integrase', 'kegg_transposase', 'viral_capsid', 'viral_portal', 'viral_coat', 'viral_baseplate', 'viral_head', 'viral_tail', 'viral_tail_fiber', 'viral_terminase', 'viral_integrase', 'viral_transposase', 'pfam_capsid', 'pfam_portal', 'pfam_coat', 'pfam_baseplate', 'pfam_head', 'pfam_tail', 'pfam_tail_fiber', 'pfam_terminase', 'pfam_integrase', 'pfam_transposase'])\n",
    "dramv_amr_for_manual_curation_final = pd.DataFrame(list(prophage_amr_for_manual_curation_reformat.groupby('fasta').apply(get_hallmark)), index = group_amr, columns = [\"all_structure\", \"structure_no_tail_no_integrase\", \"integrase_or_transposase\", 'kegg_capsid', 'kegg_portal', 'kegg_coat', 'kegg_baseplate', 'kegg_head', 'kegg_tail', 'kegg_tail_fiber', 'kegg_terminase', 'kegg_integrase', 'kegg_transposase', 'viral_capsid', 'viral_portal', 'viral_coat', 'viral_baseplate', 'viral_head', 'viral_tail', 'viral_tail_fiber', 'viral_terminase', 'viral_integrase', 'viral_transposase', 'pfam_capsid', 'pfam_portal', 'pfam_coat', 'pfam_baseplate', 'pfam_head', 'pfam_tail', 'pfam_tail_fiber', 'pfam_terminase', 'pfam_integrase', 'pfam_transposase'])\n",
    "dramv_hgt_for_manual_curation_final = pd.DataFrame(list(prophage_hgt_for_manual_curation_reformat.groupby('fasta').apply(get_hallmark)), index = group_hgt, columns = [\"all_structure\", \"structure_no_tail_no_integrase\", \"integrase_or_transposase\", 'kegg_capsid', 'kegg_portal', 'kegg_coat', 'kegg_baseplate', 'kegg_head', 'kegg_tail', 'kegg_tail_fiber', 'kegg_terminase', 'kegg_integrase', 'kegg_transposase', 'viral_capsid', 'viral_portal', 'viral_coat', 'viral_baseplate', 'viral_head', 'viral_tail', 'viral_tail_fiber', 'viral_terminase', 'viral_integrase', 'viral_transposase', 'pfam_capsid', 'pfam_portal', 'pfam_coat', 'pfam_baseplate', 'pfam_head', 'pfam_tail', 'pfam_tail_fiber', 'pfam_terminase', 'pfam_integrase', 'pfam_transposase'])"
   ]
  },
  {
   "cell_type": "code",
   "execution_count": 23,
   "id": "1735efec",
   "metadata": {},
   "outputs": [],
   "source": [
    "checkv_res = pd.read_csv(\"prophage_rumen_mags_vs2_vibrant_intersection_checkv/quality_summary.tsv\", sep = '\\t')"
   ]
  },
  {
   "cell_type": "code",
   "execution_count": 24,
   "id": "f673dfa6",
   "metadata": {},
   "outputs": [],
   "source": [
    "checkv_res_short = checkv_res[[\"contig_id\", \"contig_length\", \"gene_count\", \"viral_genes\", \"host_genes\"]]\n",
    "dramv_amg_for_manual_curation_final = pd.merge(checkv_res_short, dramv_amg_for_manual_curation_final, left_on = \"contig_id\", right_index = True, how = \"inner\")\n",
    "dramv_amr_for_manual_curation_final = pd.merge(checkv_res_short, dramv_amr_for_manual_curation_final, left_on = \"contig_id\", right_index = True, how = \"inner\")\n",
    "dramv_hgt_for_manual_curation_final= pd.merge(checkv_res_short, dramv_hgt_for_manual_curation_final, left_on = \"contig_id\", right_index = True, how = \"inner\")"
   ]
  },
  {
   "cell_type": "code",
   "execution_count": 25,
   "id": "24a72917",
   "metadata": {},
   "outputs": [],
   "source": [
    "dramv_hgt_for_manual_curation_final.reset_index().rename(columns= {\"index\":\"vcontigs\"}).to_csv(\"prophage_hgt_check.tsv\", sep=\"\\t\", index = None)\n",
    "dramv_amg_for_manual_curation_final.reset_index().rename(columns= {\"index\":\"vcontigs\"}).to_csv(\"prophage_amg_check.tsv\", sep=\"\\t\", index = None)\n",
    "dramv_amr_for_manual_curation_final.reset_index().rename(columns= {\"index\":\"vcontigs\"}).to_csv(\"prophage_amr_check.tsv\", sep=\"\\t\", index = None)"
   ]
  },
  {
   "cell_type": "code",
   "execution_count": 26,
   "id": "104ee9d2",
   "metadata": {},
   "outputs": [],
   "source": [
    "prophage_hgt_for_manual_curation.to_csv(\"prophage_hgt_for_manual_curation.tsv\", sep=\"\\t\", index = None)\n",
    "prophage_amr_for_manual_curation.to_csv(\"prophage_amr_for_manual_curation.tsv\", sep=\"\\t\", index = None)\n",
    "prophage_amg_for_manual_curation.to_csv(\"prophage_amg_for_manual_curation.tsv\", sep=\"\\t\", index = None)"
   ]
  },
  {
   "cell_type": "code",
   "execution_count": null,
   "id": "bde878a2",
   "metadata": {},
   "outputs": [],
   "source": []
  }
 ],
 "metadata": {
  "kernelspec": {
   "display_name": "MYENV [/fs/ess/PAS0439/MING/conda/MYENV]",
   "language": "python",
   "name": "conda_myenv"
  },
  "language_info": {
   "codemirror_mode": {
    "name": "ipython",
    "version": 3
   },
   "file_extension": ".py",
   "mimetype": "text/x-python",
   "name": "python",
   "nbconvert_exporter": "python",
   "pygments_lexer": "ipython3",
   "version": "3.10.9"
  }
 },
 "nbformat": 4,
 "nbformat_minor": 5
}

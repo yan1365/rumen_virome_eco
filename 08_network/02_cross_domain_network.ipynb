{
 "cells": [
  {
   "cell_type": "code",
   "execution_count": 1,
   "id": "062e3aef",
   "metadata": {},
   "outputs": [],
   "source": [
    "import os\n",
    "import pandas as pd\n",
    "import glob\n",
    "from functools import reduce"
   ]
  },
  {
   "cell_type": "code",
   "execution_count": 2,
   "id": "152b4383",
   "metadata": {},
   "outputs": [],
   "source": [
    "os.chdir(\"/fs/ess/PAS0439/MING/virome_ecology/results/R_project/\")"
   ]
  },
  {
   "cell_type": "code",
   "execution_count": 3,
   "id": "3aa54f5c",
   "metadata": {},
   "outputs": [],
   "source": [
    "metadata = pd.read_csv(\"metadata_ecology.csv\")"
   ]
  },
  {
   "cell_type": "code",
   "execution_count": 4,
   "id": "44c1d265",
   "metadata": {},
   "outputs": [],
   "source": [
    "samples = list(metadata.query('project == \"PRJEB31266\"').id)"
   ]
  },
  {
   "cell_type": "code",
   "execution_count": null,
   "id": "e9f07af5",
   "metadata": {},
   "outputs": [],
   "source": [
    "virome = pd.read_csv(\"/fs/ess/PAS0439/MING/virome/checkv_trimmed_for_dowmstream/ecology/abundance_table_raw.tsv\", sep = \"\\t\")"
   ]
  },
  {
   "cell_type": "code",
   "execution_count": null,
   "id": "722543b7",
   "metadata": {},
   "outputs": [],
   "source": [
    "virome = virome[[\"Contig\"] + samples]"
   ]
  },
  {
   "cell_type": "code",
   "execution_count": null,
   "id": "b4f803c9",
   "metadata": {},
   "outputs": [],
   "source": [
    "# filter coverm results < 1 \n",
    "def func1(x):\n",
    "    if x > 1:\n",
    "        return  x\n",
    "    else:\n",
    "        return  0\n",
    "    \n",
    "virome_tmp1 = virome[samples].applymap(func1)\n",
    "\n",
    "# change to presence absence matrix\n",
    "def func2(x):\n",
    "    if x > 1:\n",
    "        return  1\n",
    "    else:\n",
    "        return  0\n",
    "\n",
    "virome_tmp2 = virome_tmp1[samples].applymap(func2)\n",
    "\n",
    "# prevalence filtering (70% threshold)\n",
    "filtered_votus_70 = list(pd.DataFrame(virome_tmp2.sum(axis='columns')).rename(columns = {0:'total_prevalence'}).query('total_prevalence >= 168').index)\n",
    "filtered_votus_50 = list(pd.DataFrame(virome_tmp2.sum(axis='columns')).rename(columns = {0:'total_prevalence'}).query('total_prevalence >= 120').index)\n"
   ]
  },
  {
   "cell_type": "code",
   "execution_count": null,
   "id": "6283193c",
   "metadata": {},
   "outputs": [],
   "source": [
    "virome_filtered_70 = virome.loc[filtered_votus_70]\n",
    "virome_filtered_50 = virome.loc[filtered_votus_50]"
   ]
  },
  {
   "cell_type": "code",
   "execution_count": null,
   "id": "d06cd995",
   "metadata": {},
   "outputs": [],
   "source": [
    "os.chdir(\"/fs/scratch/PAS0439/Ming/virome_ecology_core_prkaryotes/results/01_kraken2_mapping/gtdb207_rumenmagsfull/bracken\")"
   ]
  },
  {
   "cell_type": "code",
   "execution_count": null,
   "id": "d1fafd64",
   "metadata": {},
   "outputs": [],
   "source": [
    "microbe_bracken = [f for f in glob.glob(\"*_s.bracken\") if f.split(\"_s.bracken\")[0] in samples]"
   ]
  },
  {
   "cell_type": "code",
   "execution_count": null,
   "id": "b8fa78be",
   "metadata": {},
   "outputs": [],
   "source": [
    "df_list = []\n",
    "for f in microbe_bracken:\n",
    "    sample = f.split(\"_s.bracken\")[0]\n",
    "    _ = pd.read_csv(f, sep = \"\\t\")[[\"name\", \"new_est_reads\", \"fraction_total_reads\"]].query('fraction_total_reads > 0.0001')\n",
    "    _.rename(columns={\"new_est_reads\":sample}, inplace = True)\n",
    "    df_list.append(_[[\"name\", sample]])\n",
    "    \n",
    "microbe_profile_pre = reduce(lambda df1,df2: pd.merge(df1,df2,on='name', how = \"outer\"), df_list)"
   ]
  },
  {
   "cell_type": "code",
   "execution_count": null,
   "id": "2c48b0b5",
   "metadata": {},
   "outputs": [],
   "source": [
    "microbe_profile_pre.fillna(0, inplace = True)"
   ]
  },
  {
   "cell_type": "code",
   "execution_count": null,
   "id": "e95330ce",
   "metadata": {},
   "outputs": [],
   "source": [
    "# prevalence filtering (70/50 % threshold)\n",
    "species_filtered_70 = []\n",
    "species_filtered_50 = []\n",
    "for index, row in microbe_profile_pre.iterrows():\n",
    "    tmp = row\n",
    "    tmp = pd.DataFrame(tmp)\n",
    "    tmp.columns = tmp.iloc[0]\n",
    "    species = tmp.columns[0]\n",
    "    tmp = tmp.iloc[1:,:]\n",
    "    tmp.rename(columns = {species:\"species\"}, inplace = True)\n",
    "    tmp = tmp.query('species > 0')\n",
    "    prevalence = len(tmp)\n",
    "    \n",
    "    if prevalence >= 0.7*len(samples):\n",
    "        species_filtered_70.append(species)\n",
    "        species_filtered_50.append(species)\n",
    "    elif prevalence >= 0.5*len(samples):\n",
    "        species_filtered_50.append(species)"
   ]
  },
  {
   "cell_type": "code",
   "execution_count": null,
   "id": "5dbd386e",
   "metadata": {},
   "outputs": [],
   "source": [
    "microbe_profile_filtered_70 = microbe_profile_pre.query('name in @species_filtered_70')\n",
    "microbe_profile_filtered_70 = microbe_profile_filtered_70.set_index(\"name\")\n",
    "\n",
    "microbe_profile_filtered_50 = microbe_profile_pre.query('name in @species_filtered_50')\n",
    "microbe_profile_filtered_50 = microbe_profile_filtered_50.set_index(\"name\")"
   ]
  },
  {
   "cell_type": "code",
   "execution_count": null,
   "id": "af98a2cd",
   "metadata": {},
   "outputs": [],
   "source": [
    "virome_filtered_70.set_index(\"Contig\")[samples].transpose().to_csv(\"/fs/ess/PAS0439/MING/virome_ecology/results/R_project/virome_microbes_network_RUG4941/virome_prevalence_filtered_70.csv\")\n",
    "microbe_profile_filtered_70[samples].transpose().to_csv(\"/fs/ess/PAS0439/MING/virome_ecology/results/R_project/virome_microbes_network_RUG4941/microbes_prevalence_filtered_70.csv\")\n",
    "\n",
    "virome_filtered_50.set_index(\"Contig\")[samples].transpose().to_csv(\"/fs/ess/PAS0439/MING/virome_ecology/results/R_project/virome_microbes_network_RUG4941/virome_prevalence_filtered_50.csv\")\n",
    "microbe_profile_filtered_50[samples].transpose().to_csv(\"/fs/ess/PAS0439/MING/virome_ecology/results/R_project/virome_microbes_network_RUG4941/microbes_prevalence_filtered_50.csv\")"
   ]
  },
  {
   "cell_type": "code",
   "execution_count": null,
   "id": "df887bb5",
   "metadata": {},
   "outputs": [],
   "source": []
  }
 ],
 "metadata": {
  "kernelspec": {
   "display_name": "MYENV [/fs/ess/PAS0439/MING/conda/MYENV]",
   "language": "python",
   "name": "conda_myenv"
  },
  "language_info": {
   "codemirror_mode": {
    "name": "ipython",
    "version": 3
   },
   "file_extension": ".py",
   "mimetype": "text/x-python",
   "name": "python",
   "nbconvert_exporter": "python",
   "pygments_lexer": "ipython3",
   "version": "3.10.9"
  }
 },
 "nbformat": 4,
 "nbformat_minor": 5
}
